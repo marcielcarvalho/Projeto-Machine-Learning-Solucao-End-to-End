{
 "cells": [
  {
   "cell_type": "markdown",
   "id": "916c1f91-3ca0-415c-9dee-ffc1b5a5ab97",
   "metadata": {},
   "source": [
    "# Criação do banco de dados\n",
    "\n",
    "Nesse banco será armazendado dados das consultas dos clientes que utilizarem a API"
   ]
  },
  {
   "cell_type": "code",
   "execution_count": 7,
   "id": "d28d71c9-2f9d-48cb-be69-bc8c3051f516",
   "metadata": {},
   "outputs": [],
   "source": [
    "# Lib para banco de dados\n",
    "import sqlite3"
   ]
  },
  {
   "cell_type": "code",
   "execution_count": 8,
   "id": "33a53615-9ce3-43dd-9d80-80476c4519a9",
   "metadata": {},
   "outputs": [],
   "source": [
    "# Criar o banco de dados (Caso o banco já exista, ele faz a conexão, caso contrário, ele cria o banco)\n",
    "conexao_banco = sqlite3.connect('Banco_Dados_API.db')"
   ]
  },
  {
   "cell_type": "code",
   "execution_count": 9,
   "id": "c4632ccf-a67e-4f4b-b6e6-cac1079be9b1",
   "metadata": {},
   "outputs": [],
   "source": [
    "# Apontar para o banco\n",
    "cursor = conexao_banco.cursor()"
   ]
  },
  {
   "cell_type": "code",
   "execution_count": 11,
   "id": "add3bfa8-3ffc-44da-bae4-4d914ee0488a",
   "metadata": {},
   "outputs": [
    {
     "data": {
      "text/plain": [
       "<sqlite3.Cursor at 0x7f72e4073110>"
      ]
     },
     "execution_count": 11,
     "metadata": {},
     "output_type": "execute_result"
    }
   ],
   "source": [
    "# Query --> Criar uma tabela para armazenar as informações\n",
    "\n",
    "query_criar_banco = '''\n",
    "    CREATE TABLE Log_API(\n",
    "        id INTEGER NOT NULL PRIMARY KEY AUTOINCREMENT,\n",
    "        inputs TEXT,\n",
    "        inicio TEXT,\n",
    "        fim TEXT,\n",
    "        processamento TEXT\n",
    "    )\n",
    "'''\n",
    "\n",
    "# Executando a query de criação\n",
    "cursor.execute(query_criar_banco)"
   ]
  },
  {
   "cell_type": "code",
   "execution_count": 5,
   "id": "91809dba-6caa-4cfb-ae18-a06e9230373e",
   "metadata": {},
   "outputs": [],
   "source": [
    "# Query --> inserir informações\n",
    "query_inserir = '''\n",
    "    INSERT INTO Log_API (inputs, inicio, fim, processamento)\n",
    "    VALUES ('480;4;5;3;0;1;0;0;742', '01/01/2000 19:00:01', '01/01/2000 19:00:02', '00:01')\n",
    "'''\n",
    "\n",
    "# Executando a query de inserção\n",
    "cursor.execute(query_inserir)\n",
    "\n",
    "# commit (toda vez que insere um dado, o commit faz a alteração no banco de dados)\n",
    "conexao_banco.commit()"
   ]
  },
  {
   "cell_type": "code",
   "execution_count": 13,
   "id": "ac6948b2-a985-4090-aa09-e6f82b11dbb5",
   "metadata": {},
   "outputs": [
    {
     "data": {
      "text/plain": [
       "[(1,\n",
       "  ';140.0;2.0;2.0;1.0;3.0;0.0;0.0;1882.0;190.0;[5341.98705057]',\n",
       "  '2023-01-26 15:37:00.017450',\n",
       "  '2023-01-26 15:37:00.032860',\n",
       "  '0:00:00.015410'),\n",
       " (2,\n",
       "  ';140.0;2.0;2.0;1.0;3.0;0.0;0.0;1882.0;190.0;[5341.98705057]',\n",
       "  '2023-01-26 15:37:11.974294',\n",
       "  '2023-01-26 15:37:11.984602',\n",
       "  '0:00:00.010308'),\n",
       " (3,\n",
       "  ';140.0;3.0;2.0;1.0;3.0;0.0;0.0;2000.0;200.0;[5100.12315437]',\n",
       "  '2023-01-26 15:39:12.240000',\n",
       "  '2023-01-26 15:39:12.256440',\n",
       "  '0:00:00.016440')]"
      ]
     },
     "execution_count": 13,
     "metadata": {},
     "output_type": "execute_result"
    }
   ],
   "source": [
    "# Query --> consulta\n",
    "\n",
    "query_consulta = '''\n",
    "    SELECT * FROM Log_API\n",
    "'''\n",
    "\n",
    "# Executando a query de consulta\n",
    "cursor.execute(query_consulta).fetchall()"
   ]
  },
  {
   "cell_type": "code",
   "execution_count": null,
   "id": "456b8ab4-6df2-4732-83d2-9763d08563d6",
   "metadata": {},
   "outputs": [],
   "source": []
  }
 ],
 "metadata": {
  "kernelspec": {
   "display_name": "Python 3 (ipykernel)",
   "language": "python",
   "name": "python3"
  },
  "language_info": {
   "codemirror_mode": {
    "name": "ipython",
    "version": 3
   },
   "file_extension": ".py",
   "mimetype": "text/x-python",
   "name": "python",
   "nbconvert_exporter": "python",
   "pygments_lexer": "ipython3",
   "version": "3.8.10"
  }
 },
 "nbformat": 4,
 "nbformat_minor": 5
}
