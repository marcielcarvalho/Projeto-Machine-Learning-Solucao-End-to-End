{
 "cells": [
  {
   "cell_type": "code",
   "execution_count": 1,
   "id": "3059f7a2-5156-40d7-87c1-fa0534821f86",
   "metadata": {},
   "outputs": [],
   "source": [
    "# Libs necessarias\n",
    "import pandas as pd\n",
    "import numpy as np\n",
    "\n",
    "# Libs gráficos\n",
    "import seaborn as sns\n",
    "import matplotlib.pyplot as plt\n",
    "\n",
    "# Avisos\n",
    "import warnings\n",
    "warnings.filterwarnings('ignore')\n",
    "\n",
    "# Configuração no pandas\n",
    "pd.set_option('display.max_rows', 200)\n",
    "pd.set_option('display.max_columns', 100)\n",
    "\n",
    "# Configuração matplotlib\n",
    "plt.rcParams['figure.figsize'] = (15, 6)\n",
    "plt.style.use('seaborn-darkgrid')"
   ]
  },
  {
   "cell_type": "markdown",
   "id": "12e3ecd4-7751-4425-a05e-b6d4f5f9e39d",
   "metadata": {},
   "source": [
    "# Exploração dos dados"
   ]
  },
  {
   "cell_type": "markdown",
   "id": "d4a6ea51-77c1-4f27-b33a-c051d22b0a14",
   "metadata": {},
   "source": [
    "### Pergunta em aberto, para ser respondida após o treinamento do modelo de Machine Learning (ML)\n",
    "### Quanto vale o aluguel de sua casa?"
   ]
  },
  {
   "cell_type": "code",
   "execution_count": 2,
   "id": "8bf49653-cbe0-4888-89fa-33d6d0c68abd",
   "metadata": {},
   "outputs": [],
   "source": [
    "dados = pd.read_csv('house_data.csv')"
   ]
  },
  {
   "cell_type": "code",
   "execution_count": 3,
   "id": "fcc7a326-d8c3-49ec-9f97-8964abf5dc54",
   "metadata": {},
   "outputs": [
    {
     "data": {
      "text/plain": [
       "(10692, 13)"
      ]
     },
     "execution_count": 3,
     "metadata": {},
     "output_type": "execute_result"
    }
   ],
   "source": [
    "dados.shape"
   ]
  },
  {
   "cell_type": "code",
   "execution_count": 4,
   "id": "24656acb-e909-4424-bc71-674d9777cb33",
   "metadata": {},
   "outputs": [
    {
     "data": {
      "text/html": [
       "<div>\n",
       "<style scoped>\n",
       "    .dataframe tbody tr th:only-of-type {\n",
       "        vertical-align: middle;\n",
       "    }\n",
       "\n",
       "    .dataframe tbody tr th {\n",
       "        vertical-align: top;\n",
       "    }\n",
       "\n",
       "    .dataframe thead th {\n",
       "        text-align: right;\n",
       "    }\n",
       "</style>\n",
       "<table border=\"1\" class=\"dataframe\">\n",
       "  <thead>\n",
       "    <tr style=\"text-align: right;\">\n",
       "      <th></th>\n",
       "      <th>city</th>\n",
       "      <th>area</th>\n",
       "      <th>rooms</th>\n",
       "      <th>bathroom</th>\n",
       "      <th>parking spaces</th>\n",
       "      <th>floor</th>\n",
       "      <th>animal</th>\n",
       "      <th>furniture</th>\n",
       "      <th>hoa (R$)</th>\n",
       "      <th>rent amount (R$)</th>\n",
       "      <th>property tax (R$)</th>\n",
       "      <th>fire insurance (R$)</th>\n",
       "      <th>total (R$)</th>\n",
       "    </tr>\n",
       "  </thead>\n",
       "  <tbody>\n",
       "    <tr>\n",
       "      <th>0</th>\n",
       "      <td>São Paulo</td>\n",
       "      <td>70</td>\n",
       "      <td>2</td>\n",
       "      <td>1</td>\n",
       "      <td>1</td>\n",
       "      <td>7</td>\n",
       "      <td>acept</td>\n",
       "      <td>furnished</td>\n",
       "      <td>2065</td>\n",
       "      <td>3300</td>\n",
       "      <td>211</td>\n",
       "      <td>42</td>\n",
       "      <td>5618</td>\n",
       "    </tr>\n",
       "    <tr>\n",
       "      <th>1</th>\n",
       "      <td>São Paulo</td>\n",
       "      <td>320</td>\n",
       "      <td>4</td>\n",
       "      <td>4</td>\n",
       "      <td>0</td>\n",
       "      <td>20</td>\n",
       "      <td>acept</td>\n",
       "      <td>not furnished</td>\n",
       "      <td>1200</td>\n",
       "      <td>4960</td>\n",
       "      <td>1750</td>\n",
       "      <td>63</td>\n",
       "      <td>7973</td>\n",
       "    </tr>\n",
       "    <tr>\n",
       "      <th>2</th>\n",
       "      <td>Porto Alegre</td>\n",
       "      <td>80</td>\n",
       "      <td>1</td>\n",
       "      <td>1</td>\n",
       "      <td>1</td>\n",
       "      <td>6</td>\n",
       "      <td>acept</td>\n",
       "      <td>not furnished</td>\n",
       "      <td>1000</td>\n",
       "      <td>2800</td>\n",
       "      <td>0</td>\n",
       "      <td>41</td>\n",
       "      <td>3841</td>\n",
       "    </tr>\n",
       "    <tr>\n",
       "      <th>3</th>\n",
       "      <td>Porto Alegre</td>\n",
       "      <td>51</td>\n",
       "      <td>2</td>\n",
       "      <td>1</td>\n",
       "      <td>0</td>\n",
       "      <td>2</td>\n",
       "      <td>acept</td>\n",
       "      <td>not furnished</td>\n",
       "      <td>270</td>\n",
       "      <td>1112</td>\n",
       "      <td>22</td>\n",
       "      <td>17</td>\n",
       "      <td>1421</td>\n",
       "    </tr>\n",
       "    <tr>\n",
       "      <th>4</th>\n",
       "      <td>São Paulo</td>\n",
       "      <td>25</td>\n",
       "      <td>1</td>\n",
       "      <td>1</td>\n",
       "      <td>0</td>\n",
       "      <td>1</td>\n",
       "      <td>not acept</td>\n",
       "      <td>not furnished</td>\n",
       "      <td>0</td>\n",
       "      <td>800</td>\n",
       "      <td>25</td>\n",
       "      <td>11</td>\n",
       "      <td>836</td>\n",
       "    </tr>\n",
       "  </tbody>\n",
       "</table>\n",
       "</div>"
      ],
      "text/plain": [
       "           city  area  rooms  bathroom  parking spaces floor     animal  \\\n",
       "0     São Paulo    70      2         1               1     7      acept   \n",
       "1     São Paulo   320      4         4               0    20      acept   \n",
       "2  Porto Alegre    80      1         1               1     6      acept   \n",
       "3  Porto Alegre    51      2         1               0     2      acept   \n",
       "4     São Paulo    25      1         1               0     1  not acept   \n",
       "\n",
       "       furniture  hoa (R$)  rent amount (R$)  property tax (R$)  \\\n",
       "0      furnished      2065              3300                211   \n",
       "1  not furnished      1200              4960               1750   \n",
       "2  not furnished      1000              2800                  0   \n",
       "3  not furnished       270              1112                 22   \n",
       "4  not furnished         0               800                 25   \n",
       "\n",
       "   fire insurance (R$)  total (R$)  \n",
       "0                   42        5618  \n",
       "1                   63        7973  \n",
       "2                   41        3841  \n",
       "3                   17        1421  \n",
       "4                   11         836  "
      ]
     },
     "execution_count": 4,
     "metadata": {},
     "output_type": "execute_result"
    }
   ],
   "source": [
    "dados.head()"
   ]
  },
  {
   "cell_type": "code",
   "execution_count": 5,
   "id": "c511dd43-b178-4ee9-b46a-0284ae1667c0",
   "metadata": {},
   "outputs": [],
   "source": [
    "# Removendo colunas que não serão uteis para o treinamento do modelo de MC\n",
    "\n",
    "dados.drop(columns=['fire insurance (R$)', 'total (R$)'], inplace=True)"
   ]
  },
  {
   "cell_type": "code",
   "execution_count": 6,
   "id": "465882b6-0a84-43cb-864f-61d2ddb8d38d",
   "metadata": {},
   "outputs": [
    {
     "data": {
      "text/plain": [
       "(10692, 11)"
      ]
     },
     "execution_count": 6,
     "metadata": {},
     "output_type": "execute_result"
    }
   ],
   "source": [
    "dados.shape"
   ]
  },
  {
   "cell_type": "code",
   "execution_count": 7,
   "id": "c5009023-2fde-4364-bea2-74322a535062",
   "metadata": {},
   "outputs": [
    {
     "data": {
      "text/html": [
       "<div>\n",
       "<style scoped>\n",
       "    .dataframe tbody tr th:only-of-type {\n",
       "        vertical-align: middle;\n",
       "    }\n",
       "\n",
       "    .dataframe tbody tr th {\n",
       "        vertical-align: top;\n",
       "    }\n",
       "\n",
       "    .dataframe thead th {\n",
       "        text-align: right;\n",
       "    }\n",
       "</style>\n",
       "<table border=\"1\" class=\"dataframe\">\n",
       "  <thead>\n",
       "    <tr style=\"text-align: right;\">\n",
       "      <th></th>\n",
       "      <th>city</th>\n",
       "      <th>area</th>\n",
       "      <th>rooms</th>\n",
       "      <th>bathroom</th>\n",
       "      <th>parking spaces</th>\n",
       "      <th>floor</th>\n",
       "      <th>animal</th>\n",
       "      <th>furniture</th>\n",
       "      <th>hoa (R$)</th>\n",
       "      <th>rent amount (R$)</th>\n",
       "      <th>property tax (R$)</th>\n",
       "    </tr>\n",
       "  </thead>\n",
       "  <tbody>\n",
       "    <tr>\n",
       "      <th>0</th>\n",
       "      <td>São Paulo</td>\n",
       "      <td>70</td>\n",
       "      <td>2</td>\n",
       "      <td>1</td>\n",
       "      <td>1</td>\n",
       "      <td>7</td>\n",
       "      <td>acept</td>\n",
       "      <td>furnished</td>\n",
       "      <td>2065</td>\n",
       "      <td>3300</td>\n",
       "      <td>211</td>\n",
       "    </tr>\n",
       "    <tr>\n",
       "      <th>1</th>\n",
       "      <td>São Paulo</td>\n",
       "      <td>320</td>\n",
       "      <td>4</td>\n",
       "      <td>4</td>\n",
       "      <td>0</td>\n",
       "      <td>20</td>\n",
       "      <td>acept</td>\n",
       "      <td>not furnished</td>\n",
       "      <td>1200</td>\n",
       "      <td>4960</td>\n",
       "      <td>1750</td>\n",
       "    </tr>\n",
       "    <tr>\n",
       "      <th>2</th>\n",
       "      <td>Porto Alegre</td>\n",
       "      <td>80</td>\n",
       "      <td>1</td>\n",
       "      <td>1</td>\n",
       "      <td>1</td>\n",
       "      <td>6</td>\n",
       "      <td>acept</td>\n",
       "      <td>not furnished</td>\n",
       "      <td>1000</td>\n",
       "      <td>2800</td>\n",
       "      <td>0</td>\n",
       "    </tr>\n",
       "    <tr>\n",
       "      <th>3</th>\n",
       "      <td>Porto Alegre</td>\n",
       "      <td>51</td>\n",
       "      <td>2</td>\n",
       "      <td>1</td>\n",
       "      <td>0</td>\n",
       "      <td>2</td>\n",
       "      <td>acept</td>\n",
       "      <td>not furnished</td>\n",
       "      <td>270</td>\n",
       "      <td>1112</td>\n",
       "      <td>22</td>\n",
       "    </tr>\n",
       "    <tr>\n",
       "      <th>4</th>\n",
       "      <td>São Paulo</td>\n",
       "      <td>25</td>\n",
       "      <td>1</td>\n",
       "      <td>1</td>\n",
       "      <td>0</td>\n",
       "      <td>1</td>\n",
       "      <td>not acept</td>\n",
       "      <td>not furnished</td>\n",
       "      <td>0</td>\n",
       "      <td>800</td>\n",
       "      <td>25</td>\n",
       "    </tr>\n",
       "  </tbody>\n",
       "</table>\n",
       "</div>"
      ],
      "text/plain": [
       "           city  area  rooms  bathroom  parking spaces floor     animal  \\\n",
       "0     São Paulo    70      2         1               1     7      acept   \n",
       "1     São Paulo   320      4         4               0    20      acept   \n",
       "2  Porto Alegre    80      1         1               1     6      acept   \n",
       "3  Porto Alegre    51      2         1               0     2      acept   \n",
       "4     São Paulo    25      1         1               0     1  not acept   \n",
       "\n",
       "       furniture  hoa (R$)  rent amount (R$)  property tax (R$)  \n",
       "0      furnished      2065              3300                211  \n",
       "1  not furnished      1200              4960               1750  \n",
       "2  not furnished      1000              2800                  0  \n",
       "3  not furnished       270              1112                 22  \n",
       "4  not furnished         0               800                 25  "
      ]
     },
     "execution_count": 7,
     "metadata": {},
     "output_type": "execute_result"
    }
   ],
   "source": [
    "dados.head()"
   ]
  },
  {
   "cell_type": "code",
   "execution_count": 8,
   "id": "475db5e6-d05f-4bd2-b388-9e34eb27cae7",
   "metadata": {},
   "outputs": [
    {
     "data": {
      "text/plain": [
       "city                 0\n",
       "area                 0\n",
       "rooms                0\n",
       "bathroom             0\n",
       "parking spaces       0\n",
       "floor                0\n",
       "animal               0\n",
       "furniture            0\n",
       "hoa (R$)             0\n",
       "rent amount (R$)     0\n",
       "property tax (R$)    0\n",
       "dtype: int64"
      ]
     },
     "execution_count": 8,
     "metadata": {},
     "output_type": "execute_result"
    }
   ],
   "source": [
    "# Campus vazios\n",
    "\n",
    "dados.isnull().sum()"
   ]
  },
  {
   "cell_type": "markdown",
   "id": "6cdc37bd-8ec5-4829-a0dc-760f8ac8c9c8",
   "metadata": {},
   "source": [
    "##### Sem campus vazios"
   ]
  },
  {
   "cell_type": "code",
   "execution_count": 9,
   "id": "64c249cc-aead-428c-8967-cf33db076cda",
   "metadata": {},
   "outputs": [
    {
     "data": {
      "text/plain": [
       "city                    5\n",
       "area                  517\n",
       "rooms                  11\n",
       "bathroom               10\n",
       "parking spaces         11\n",
       "floor                  35\n",
       "animal                  2\n",
       "furniture               2\n",
       "hoa (R$)             1679\n",
       "rent amount (R$)     1195\n",
       "property tax (R$)    1243\n",
       "dtype: int64"
      ]
     },
     "execution_count": 9,
     "metadata": {},
     "output_type": "execute_result"
    }
   ],
   "source": [
    "# Campos únicos\n",
    "\n",
    "dados.nunique()"
   ]
  },
  {
   "cell_type": "code",
   "execution_count": 10,
   "id": "375b9650-e006-47ba-b2dd-edf661ff4c42",
   "metadata": {},
   "outputs": [
    {
     "name": "stdout",
     "output_type": "stream",
     "text": [
      "<class 'pandas.core.frame.DataFrame'>\n",
      "RangeIndex: 10692 entries, 0 to 10691\n",
      "Data columns (total 11 columns):\n",
      " #   Column             Non-Null Count  Dtype \n",
      "---  ------             --------------  ----- \n",
      " 0   city               10692 non-null  object\n",
      " 1   area               10692 non-null  int64 \n",
      " 2   rooms              10692 non-null  int64 \n",
      " 3   bathroom           10692 non-null  int64 \n",
      " 4   parking spaces     10692 non-null  int64 \n",
      " 5   floor              10692 non-null  object\n",
      " 6   animal             10692 non-null  object\n",
      " 7   furniture          10692 non-null  object\n",
      " 8   hoa (R$)           10692 non-null  int64 \n",
      " 9   rent amount (R$)   10692 non-null  int64 \n",
      " 10  property tax (R$)  10692 non-null  int64 \n",
      "dtypes: int64(7), object(4)\n",
      "memory usage: 919.0+ KB\n"
     ]
    }
   ],
   "source": [
    "# tipos das colunas\n",
    "\n",
    "dados.info()"
   ]
  },
  {
   "cell_type": "code",
   "execution_count": 11,
   "id": "6d9ce41c-3b1d-4dd8-a062-d0632c1b7a6f",
   "metadata": {},
   "outputs": [
    {
     "data": {
      "text/plain": [
       "city                 object\n",
       "area                  int64\n",
       "rooms                 int64\n",
       "bathroom              int64\n",
       "parking spaces        int64\n",
       "floor                object\n",
       "animal               object\n",
       "furniture            object\n",
       "hoa (R$)              int64\n",
       "rent amount (R$)      int64\n",
       "property tax (R$)     int64\n",
       "dtype: object"
      ]
     },
     "execution_count": 11,
     "metadata": {},
     "output_type": "execute_result"
    }
   ],
   "source": [
    "# Ou\n",
    "# tipos das colunas\n",
    "\n",
    "dados.dtypes"
   ]
  },
  {
   "cell_type": "markdown",
   "id": "d0e6d2a5-6f2a-4690-912d-e7aa4d00f059",
   "metadata": {},
   "source": [
    "# Exploração analítica (EDA)"
   ]
  },
  {
   "cell_type": "code",
   "execution_count": 12,
   "id": "126e5035-ae3a-4e1e-84e9-ca2449e71c84",
   "metadata": {},
   "outputs": [],
   "source": [
    "# Filtrar o tipo de colunas\n",
    "\n",
    "colunas_categoricas = dados.columns[dados.dtypes == object]\n",
    "colunas_numericas = dados.columns[dados.dtypes != object]"
   ]
  },
  {
   "cell_type": "code",
   "execution_count": 13,
   "id": "9b8af94a-6030-48cc-95f4-fa4610b23385",
   "metadata": {},
   "outputs": [
    {
     "data": {
      "text/plain": [
       "Index(['city', 'floor', 'animal', 'furniture'], dtype='object')"
      ]
     },
     "execution_count": 13,
     "metadata": {},
     "output_type": "execute_result"
    }
   ],
   "source": [
    "colunas_categoricas"
   ]
  },
  {
   "cell_type": "code",
   "execution_count": 14,
   "id": "8132fb84-42e2-440d-b540-af8a7bbbd8c6",
   "metadata": {},
   "outputs": [
    {
     "data": {
      "text/plain": [
       "Index(['area', 'rooms', 'bathroom', 'parking spaces', 'hoa (R$)',\n",
       "       'rent amount (R$)', 'property tax (R$)'],\n",
       "      dtype='object')"
      ]
     },
     "execution_count": 14,
     "metadata": {},
     "output_type": "execute_result"
    }
   ],
   "source": [
    "colunas_numericas"
   ]
  },
  {
   "cell_type": "code",
   "execution_count": 15,
   "id": "34f8d2da-da25-4116-ae65-3626e981475f",
   "metadata": {},
   "outputs": [
    {
     "data": {
      "text/plain": [
       "São Paulo         55.059858\n",
       "Rio de Janeiro    14.038533\n",
       "Belo Horizonte    11.765806\n",
       "Porto Alegre      11.157875\n",
       "Campinas           7.977927\n",
       "Name: city, dtype: float64"
      ]
     },
     "execution_count": 15,
     "metadata": {},
     "output_type": "execute_result"
    }
   ],
   "source": [
    "# Analise dos campos categoricos\n",
    "\n",
    "dados['city'].value_counts(normalize=True)*100  # mostrando quantos porcentos cada entrada única da coluna, tem dos dados totais."
   ]
  },
  {
   "cell_type": "code",
   "execution_count": 16,
   "id": "9319789a-adce-42cd-b0fd-7da8ff71d93a",
   "metadata": {},
   "outputs": [
    {
     "name": "stdout",
     "output_type": "stream",
     "text": [
      "city \n",
      " São Paulo         55.059858\n",
      "Rio de Janeiro    14.038533\n",
      "Belo Horizonte    11.765806\n",
      "Porto Alegre      11.157875\n",
      "Campinas           7.977927\n",
      "Name: city, dtype: float64 \n",
      "\n",
      "floor \n",
      " -      23.017209\n",
      "1      10.110363\n",
      "2       9.212495\n",
      "3       8.707445\n",
      "4       6.995885\n",
      "5       5.611672\n",
      "6       5.041152\n",
      "7       4.648335\n",
      "8       4.582866\n",
      "9       3.451178\n",
      "10      3.338945\n",
      "11      2.833895\n",
      "12      2.403666\n",
      "13      1.870557\n",
      "14      1.589974\n",
      "15      1.374860\n",
      "16      1.019454\n",
      "17      0.897868\n",
      "18      0.701459\n",
      "19      0.495698\n",
      "20      0.411523\n",
      "21      0.392817\n",
      "25      0.233820\n",
      "23      0.233820\n",
      "22      0.224467\n",
      "26      0.187056\n",
      "24      0.177703\n",
      "27      0.074822\n",
      "28      0.056117\n",
      "29      0.046764\n",
      "32      0.018706\n",
      "35      0.009353\n",
      "46      0.009353\n",
      "301     0.009353\n",
      "51      0.009353\n",
      "Name: floor, dtype: float64 \n",
      "\n",
      "animal \n",
      " acept        77.777778\n",
      "not acept    22.222222\n",
      "Name: animal, dtype: float64 \n",
      "\n",
      "furniture \n",
      " not furnished    75.626637\n",
      "furnished        24.373363\n",
      "Name: furniture, dtype: float64 \n",
      "\n"
     ]
    }
   ],
   "source": [
    "# Loop \n",
    "\n",
    "for coluna in colunas_categoricas:\n",
    "    analise = dados[coluna].value_counts(normalize=True)*100\n",
    "    print(coluna, '\\n', analise, '\\n')"
   ]
  },
  {
   "cell_type": "raw",
   "id": "2c652ac3-ba64-4321-a62a-6263ba495ca0",
   "metadata": {},
   "source": [
    "Na coluna floor, podemos ver dois dados 'extranhos'. Um deles é um tracinho (-), não temos informações sobre o que seja, pode ser que represente o térreo, subtituiremos pelo número 0.\n",
    "Além disso, temos um andar identificado como 301, possivelmente foi digitado erado, pode ser que seja o andar 30º"
   ]
  },
  {
   "cell_type": "code",
   "execution_count": 17,
   "id": "26f9f96a-6ba1-456d-96bd-cb40f0d5a183",
   "metadata": {},
   "outputs": [
    {
     "data": {
      "text/html": [
       "<div>\n",
       "<style scoped>\n",
       "    .dataframe tbody tr th:only-of-type {\n",
       "        vertical-align: middle;\n",
       "    }\n",
       "\n",
       "    .dataframe tbody tr th {\n",
       "        vertical-align: top;\n",
       "    }\n",
       "\n",
       "    .dataframe thead th {\n",
       "        text-align: right;\n",
       "    }\n",
       "</style>\n",
       "<table border=\"1\" class=\"dataframe\">\n",
       "  <thead>\n",
       "    <tr style=\"text-align: right;\">\n",
       "      <th></th>\n",
       "      <th>city</th>\n",
       "      <th>area</th>\n",
       "      <th>rooms</th>\n",
       "      <th>bathroom</th>\n",
       "      <th>parking spaces</th>\n",
       "      <th>floor</th>\n",
       "      <th>animal</th>\n",
       "      <th>furniture</th>\n",
       "      <th>hoa (R$)</th>\n",
       "      <th>rent amount (R$)</th>\n",
       "      <th>property tax (R$)</th>\n",
       "    </tr>\n",
       "  </thead>\n",
       "  <tbody>\n",
       "    <tr>\n",
       "      <th>2562</th>\n",
       "      <td>Belo Horizonte</td>\n",
       "      <td>80</td>\n",
       "      <td>3</td>\n",
       "      <td>2</td>\n",
       "      <td>2</td>\n",
       "      <td>301</td>\n",
       "      <td>acept</td>\n",
       "      <td>not furnished</td>\n",
       "      <td>750</td>\n",
       "      <td>2600</td>\n",
       "      <td>164</td>\n",
       "    </tr>\n",
       "  </tbody>\n",
       "</table>\n",
       "</div>"
      ],
      "text/plain": [
       "                city  area  rooms  bathroom  parking spaces floor animal  \\\n",
       "2562  Belo Horizonte    80      3         2               2   301  acept   \n",
       "\n",
       "          furniture  hoa (R$)  rent amount (R$)  property tax (R$)  \n",
       "2562  not furnished       750              2600                164  "
      ]
     },
     "execution_count": 17,
     "metadata": {},
     "output_type": "execute_result"
    }
   ],
   "source": [
    "# Correção desses dados\n",
    "# Ajustando o andar\n",
    "\n",
    "dados.loc[dados['floor'] == '301']"
   ]
  },
  {
   "cell_type": "code",
   "execution_count": 18,
   "id": "b45191f3-2f83-4333-a9de-4c6f799d28b4",
   "metadata": {},
   "outputs": [],
   "source": [
    "dados.iloc[2562, 5] = '30'"
   ]
  },
  {
   "cell_type": "code",
   "execution_count": 19,
   "id": "4563da78-c30a-48e5-a3ad-26ecec9e722e",
   "metadata": {},
   "outputs": [],
   "source": [
    "# Ajustando o '-'\n",
    "\n",
    "dados['floor'] = dados['floor'].apply(lambda registro: 0 if registro == '-' else registro)"
   ]
  },
  {
   "cell_type": "code",
   "execution_count": 20,
   "id": "9b334091-9293-49f8-b3f4-24e7d5b2170e",
   "metadata": {},
   "outputs": [
    {
     "data": {
      "text/plain": [
       "city                 object\n",
       "area                  int64\n",
       "rooms                 int64\n",
       "bathroom              int64\n",
       "parking spaces        int64\n",
       "floor                object\n",
       "animal               object\n",
       "furniture            object\n",
       "hoa (R$)              int64\n",
       "rent amount (R$)      int64\n",
       "property tax (R$)     int64\n",
       "dtype: object"
      ]
     },
     "execution_count": 20,
     "metadata": {},
     "output_type": "execute_result"
    }
   ],
   "source": [
    "dados.dtypes"
   ]
  },
  {
   "cell_type": "code",
   "execution_count": 21,
   "id": "f7af7e2a-241a-407f-bfca-2ad234608086",
   "metadata": {},
   "outputs": [],
   "source": [
    "# Transformando a colunas 'floor' para númerico\n",
    "\n",
    "dados['floor'] = pd.to_numeric(dados['floor'])"
   ]
  },
  {
   "cell_type": "code",
   "execution_count": 22,
   "id": "b97dac58-36a2-4d01-abf5-7e3122393b05",
   "metadata": {},
   "outputs": [
    {
     "data": {
      "text/plain": [
       "city                 object\n",
       "area                  int64\n",
       "rooms                 int64\n",
       "bathroom              int64\n",
       "parking spaces        int64\n",
       "floor                 int64\n",
       "animal               object\n",
       "furniture            object\n",
       "hoa (R$)              int64\n",
       "rent amount (R$)      int64\n",
       "property tax (R$)     int64\n",
       "dtype: object"
      ]
     },
     "execution_count": 22,
     "metadata": {},
     "output_type": "execute_result"
    }
   ],
   "source": [
    "dados.dtypes"
   ]
  },
  {
   "cell_type": "code",
   "execution_count": 23,
   "id": "35e09390-0ce3-4d66-bb98-6f473c3e9475",
   "metadata": {},
   "outputs": [
    {
     "data": {
      "image/png": "[encoded data removed]",
      "text/plain": [
       "<Figure size 2000x3000 with 14 Axes>"
      ]
     },
     "metadata": {},
     "output_type": "display_data"
    }
   ],
   "source": [
    "# Grid - gráficos\n",
    "\n",
    "# Tamanho\n",
    "figura, eixo = plt.subplots(figsize=(20, 30))\n",
    "\n",
    "# Cor de fundo\n",
    "cor_fundo = '#f5f5f5'\n",
    "figura.set_facecolor(cor_fundo)\n",
    "\n",
    "# Paleta de cores\n",
    "paleta_cores = sns.color_palette('flare', len(colunas_numericas)*2)\n",
    "\n",
    "# Titulo\n",
    "plt.suptitle('Analíse das variedades numéricas', fontsize=22, color='#404040', fontweight=600)\n",
    "\n",
    "# Estrutura\n",
    "linhas = len(colunas_numericas)  # Todas as informações numéricas\n",
    "colunas = 2  #(boxplot - distplot)\n",
    "posicao = 1  # Posição iniciao do grid\n",
    "\n",
    "# For plotar os gráficos\n",
    "for coluna in colunas_numericas:\n",
    "    # plot no grid -- boxplot\n",
    "    plt.subplot(linhas, colunas, posicao)\n",
    "    \n",
    "    # Plot\n",
    "    plt.title(f'{coluna}', loc='left', fontsize=14, fontweight=200)\n",
    "    sns.boxplot(data=dados, y=coluna, showmeans=True, saturation=0.75, linewidth=1, color=paleta_cores[posicao], width=0.25)\n",
    "    \n",
    "    # mudar a posição\n",
    "    posicao += 1\n",
    "    \n",
    "    # plot no grid -- distplot\n",
    "    plt.subplot(linhas, colunas, posicao)\n",
    "    \n",
    "    # Plot\n",
    "    plt.title(f'{coluna}', loc='left', fontsize=14, fontweight=200)\n",
    "    sns.distplot(dados[coluna], color=paleta_cores[posicao-1])\n",
    "    \n",
    "    # mudar a posição\n",
    "    posicao += 1\n",
    "    \n",
    "# ajustar os grid\n",
    "plt.subplots_adjust(top=0.95, hspace=0.3)"
   ]
  },
  {
   "cell_type": "code",
   "execution_count": 24,
   "id": "e544cf4e-091b-4961-968f-17c6f75e3b35",
   "metadata": {},
   "outputs": [
    {
     "data": {
      "text/plain": [
       "count    10689.000000\n",
       "mean       141.431846\n",
       "std        134.348219\n",
       "min         11.000000\n",
       "25%         56.000000\n",
       "50%         90.000000\n",
       "75%        182.000000\n",
       "max       2000.000000\n",
       "Name: area, dtype: float64"
      ]
     },
     "execution_count": 24,
     "metadata": {},
     "output_type": "execute_result"
    }
   ],
   "source": [
    "dados.loc[dados['area'] <= 10000]['area'].describe()"
   ]
  },
  {
   "cell_type": "code",
   "execution_count": 25,
   "id": "75509e69-435f-4f27-9525-e6c1c4456283",
   "metadata": {},
   "outputs": [
    {
     "data": {
      "text/plain": [
       "255      1117000\n",
       "6979     1117000\n",
       "6230      220000\n",
       "2859      200000\n",
       "2928       81150\n",
       "1444       32000\n",
       "1213       15000\n",
       "415        14130\n",
       "5293       14000\n",
       "8858       10000\n",
       "974        10000\n",
       "547         9900\n",
       "7020        9500\n",
       "7679        9000\n",
       "1862        8600\n",
       "6185        8500\n",
       "1072        8500\n",
       "10184       8362\n",
       "254         8300\n",
       "722         8133\n",
       "Name: hoa (R$), dtype: int64"
      ]
     },
     "execution_count": 25,
     "metadata": {},
     "output_type": "execute_result"
    }
   ],
   "source": [
    "# taxas de condominio\n",
    "\n",
    "dados['hoa (R$)'].sort_values(ascending=False).head(20)"
   ]
  },
  {
   "cell_type": "raw",
   "id": "54b50eb7-f88d-4322-8db0-b2564d6883b0",
   "metadata": {},
   "source": [
    "Alguns dados de taxa de condomínio não faz muito sentido para o que é ofertado no imovél."
   ]
  },
  {
   "cell_type": "code",
   "execution_count": 26,
   "id": "2c3eba44-9c15-459a-ac10-4648815ce8f7",
   "metadata": {},
   "outputs": [
    {
     "data": {
      "text/plain": [
       "city                 Belo Horizonte\n",
       "area                            155\n",
       "rooms                             1\n",
       "bathroom                          4\n",
       "parking spaces                    0\n",
       "floor                             4\n",
       "animal                    not acept\n",
       "furniture             not furnished\n",
       "hoa (R$)                    1117000\n",
       "rent amount (R$)               2790\n",
       "property tax (R$)                64\n",
       "Name: 255, dtype: object"
      ]
     },
     "execution_count": 26,
     "metadata": {},
     "output_type": "execute_result"
    }
   ],
   "source": [
    "dados.iloc[255]"
   ]
  },
  {
   "cell_type": "code",
   "execution_count": 27,
   "id": "bb6a62ba-c037-4330-a95c-d515dfd54395",
   "metadata": {},
   "outputs": [
    {
     "data": {
      "text/plain": [
       "city                 São Paulo\n",
       "area                       600\n",
       "rooms                        6\n",
       "bathroom                     7\n",
       "parking spaces               4\n",
       "floor                        0\n",
       "animal                   acept\n",
       "furniture            furnished\n",
       "hoa (R$)                 10000\n",
       "rent amount (R$)         15000\n",
       "property tax (R$)           84\n",
       "Name: 974, dtype: object"
      ]
     },
     "execution_count": 27,
     "metadata": {},
     "output_type": "execute_result"
    }
   ],
   "source": [
    "dados.iloc[974]"
   ]
  },
  {
   "cell_type": "code",
   "execution_count": 28,
   "id": "6a19baee-658c-4333-b283-b7ce52281d24",
   "metadata": {},
   "outputs": [
    {
     "data": {
      "text/plain": [
       "count    10683.000000\n",
       "mean       911.949827\n",
       "std       1104.885520\n",
       "min          0.000000\n",
       "25%        170.000000\n",
       "50%        558.000000\n",
       "75%       1230.000000\n",
       "max      10000.000000\n",
       "Name: hoa (R$), dtype: float64"
      ]
     },
     "execution_count": 28,
     "metadata": {},
     "output_type": "execute_result"
    }
   ],
   "source": [
    "# Analisando somente os dados de taxa de condimínio <= 10000, são dados mais coerentes com a realidade.\n",
    "\n",
    "dados.loc[dados['hoa (R$)'] <= 10000]['hoa (R$)'].describe()  "
   ]
  },
  {
   "cell_type": "code",
   "execution_count": 29,
   "id": "027647d0-6640-4811-a117-577ba142f43a",
   "metadata": {},
   "outputs": [
    {
     "data": {
      "text/plain": [
       "count    10692.000000\n",
       "mean      3896.247194\n",
       "std       3408.545518\n",
       "min        450.000000\n",
       "25%       1530.000000\n",
       "50%       2661.000000\n",
       "75%       5000.000000\n",
       "max      45000.000000\n",
       "Name: rent amount (R$), dtype: float64"
      ]
     },
     "execution_count": 29,
     "metadata": {},
     "output_type": "execute_result"
    }
   ],
   "source": [
    "# Valor do aluguel\n",
    "\n",
    "dados['rent amount (R$)'].describe()"
   ]
  },
  {
   "cell_type": "code",
   "execution_count": 30,
   "id": "fafb8642-14df-4e4f-b2da-f111fc80c734",
   "metadata": {},
   "outputs": [
    {
     "data": {
      "text/plain": [
       "2182     45000\n",
       "7748     30000\n",
       "6947     25000\n",
       "2619     24000\n",
       "1743     20000\n",
       "2859     20000\n",
       "1253     20000\n",
       "5525     20000\n",
       "157      20000\n",
       "6185     19500\n",
       "2521     19000\n",
       "5741     18000\n",
       "6118     16000\n",
       "2647     15000\n",
       "8680     15000\n",
       "10265    15000\n",
       "1276     15000\n",
       "10283    15000\n",
       "1862     15000\n",
       "4224     15000\n",
       "Name: rent amount (R$), dtype: int64"
      ]
     },
     "execution_count": 30,
     "metadata": {},
     "output_type": "execute_result"
    }
   ],
   "source": [
    "dados['rent amount (R$)'].sort_values(ascending=False).head(20)"
   ]
  },
  {
   "cell_type": "code",
   "execution_count": 31,
   "id": "3232f94b-6ffc-4419-8680-3b045dec50e9",
   "metadata": {},
   "outputs": [
    {
     "data": {
      "text/plain": [
       "city                     São Paulo\n",
       "area                           700\n",
       "rooms                            4\n",
       "bathroom                         7\n",
       "parking spaces                   8\n",
       "floor                            0\n",
       "animal                       acept\n",
       "furniture            not furnished\n",
       "hoa (R$)                         0\n",
       "rent amount (R$)             45000\n",
       "property tax (R$)             8750\n",
       "Name: 2182, dtype: object"
      ]
     },
     "execution_count": 31,
     "metadata": {},
     "output_type": "execute_result"
    }
   ],
   "source": [
    "dados.iloc[2182]"
   ]
  },
  {
   "cell_type": "raw",
   "id": "a2a99fd5-75d6-440f-9fdc-e1f0d4871a32",
   "metadata": {},
   "source": [
    "Apesar de o valor de aluguel de R$ 45000 parecer um ponto de outline, mas observando os dados desse imovél, ele parece coerente com o que é ofertado."
   ]
  },
  {
   "cell_type": "code",
   "execution_count": 32,
   "id": "317212c1-742a-4383-ad22-c99b500c635c",
   "metadata": {},
   "outputs": [
    {
     "data": {
      "text/plain": [
       "count     10692.000000\n",
       "mean        366.704358\n",
       "std        3107.832321\n",
       "min           0.000000\n",
       "25%          38.000000\n",
       "50%         125.000000\n",
       "75%         375.000000\n",
       "max      313700.000000\n",
       "Name: property tax (R$), dtype: float64"
      ]
     },
     "execution_count": 32,
     "metadata": {},
     "output_type": "execute_result"
    }
   ],
   "source": [
    "# Valor do iptu (property tax)\n",
    "\n",
    "dados['property tax (R$)'].describe()"
   ]
  },
  {
   "cell_type": "code",
   "execution_count": 33,
   "id": "8599213a-1c6c-48c8-b064-def18a4d92af",
   "metadata": {},
   "outputs": [
    {
     "data": {
      "text/plain": [
       "6645     313700\n",
       "6243      28120\n",
       "1699      21880\n",
       "10172     12500\n",
       "5331      10830\n",
       "2928       9900\n",
       "7674       9500\n",
       "19         9500\n",
       "8187       8750\n",
       "2182       8750\n",
       "5915       7859\n",
       "7679       5917\n",
       "9765       5834\n",
       "421        5700\n",
       "3494       5500\n",
       "7459       5404\n",
       "10410      5200\n",
       "9595       5160\n",
       "8399       5032\n",
       "1862       5000\n",
       "Name: property tax (R$), dtype: int64"
      ]
     },
     "execution_count": 33,
     "metadata": {},
     "output_type": "execute_result"
    }
   ],
   "source": [
    "dados['property tax (R$)'].sort_values(ascending=False).head(20)"
   ]
  },
  {
   "cell_type": "raw",
   "id": "562c8dff-411f-4bbf-84ef-6aab8d2428ac",
   "metadata": {},
   "source": [
    "Podemos observar que temos alguns valores bem altos para a taxa de iptu, possivelmento são dados que foram carregados erroneamente para da base de dados."
   ]
  },
  {
   "cell_type": "code",
   "execution_count": 34,
   "id": "d8f9f2e7-8fac-4698-bdb5-d7473bacdaa1",
   "metadata": {},
   "outputs": [
    {
     "data": {
      "text/plain": [
       "city                     São Paulo\n",
       "area                            42\n",
       "rooms                            1\n",
       "bathroom                         2\n",
       "parking spaces                   1\n",
       "floor                            6\n",
       "animal                   not acept\n",
       "furniture            not furnished\n",
       "hoa (R$)                       690\n",
       "rent amount (R$)              2500\n",
       "property tax (R$)           313700\n",
       "Name: 6645, dtype: object"
      ]
     },
     "execution_count": 34,
     "metadata": {},
     "output_type": "execute_result"
    }
   ],
   "source": [
    "dados.iloc[6645]"
   ]
  },
  {
   "cell_type": "raw",
   "id": "a92f72e5-98fa-4a36-9770-9aea1fe2f31b",
   "metadata": {},
   "source": [
    "Como podemos observar nessa entradam temos uma taxa de R$ 313700, sendo que o aluguel do imovél é de apenas R$ 2500, além do padrão do que o imovél oferece é bem \"simples\", para ter taxas tão altas."
   ]
  },
  {
   "cell_type": "markdown",
   "id": "28d8c39a-4fc4-420b-b3b6-928ced742ffd",
   "metadata": {},
   "source": [
    "# Engenharia de features"
   ]
  },
  {
   "cell_type": "code",
   "execution_count": 35,
   "id": "7628b280-9e4e-4e3b-8619-b9d1975ca0ba",
   "metadata": {},
   "outputs": [
    {
     "data": {
      "text/plain": [
       "Index(['city', 'floor', 'animal', 'furniture'], dtype='object')"
      ]
     },
     "execution_count": 35,
     "metadata": {},
     "output_type": "execute_result"
    }
   ],
   "source": [
    "# Ajustes das colunas categoricas\n",
    "\n",
    "colunas_categoricas"
   ]
  },
  {
   "cell_type": "code",
   "execution_count": 36,
   "id": "4df27b25-c190-4afe-af23-304fa9c45df6",
   "metadata": {},
   "outputs": [],
   "source": [
    "# Transformando as coluna 'animal' que é categorica em númericas, 'acept':1 e 'not acept':0\n",
    "dados['animal'] = dados['animal'].map({'acept': 1, 'not acept': 0})\n",
    "\n",
    "# Transformando as coluna 'furniture (mobiliária)' que é categorica em númericas, 'furniture':1 e 'not furniture':0\n",
    "dados['furniture'] = dados['furniture'].map({'furnished': 1, 'not furnished': 0})"
   ]
  },
  {
   "cell_type": "code",
   "execution_count": 37,
   "id": "c352e51d-ccc5-4191-afc9-0dff0b78aea7",
   "metadata": {},
   "outputs": [
    {
     "data": {
      "text/html": [
       "<div>\n",
       "<style scoped>\n",
       "    .dataframe tbody tr th:only-of-type {\n",
       "        vertical-align: middle;\n",
       "    }\n",
       "\n",
       "    .dataframe tbody tr th {\n",
       "        vertical-align: top;\n",
       "    }\n",
       "\n",
       "    .dataframe thead th {\n",
       "        text-align: right;\n",
       "    }\n",
       "</style>\n",
       "<table border=\"1\" class=\"dataframe\">\n",
       "  <thead>\n",
       "    <tr style=\"text-align: right;\">\n",
       "      <th></th>\n",
       "      <th>city</th>\n",
       "      <th>area</th>\n",
       "      <th>rooms</th>\n",
       "      <th>bathroom</th>\n",
       "      <th>parking spaces</th>\n",
       "      <th>floor</th>\n",
       "      <th>animal</th>\n",
       "      <th>furniture</th>\n",
       "      <th>hoa (R$)</th>\n",
       "      <th>rent amount (R$)</th>\n",
       "      <th>property tax (R$)</th>\n",
       "    </tr>\n",
       "  </thead>\n",
       "  <tbody>\n",
       "    <tr>\n",
       "      <th>0</th>\n",
       "      <td>São Paulo</td>\n",
       "      <td>70</td>\n",
       "      <td>2</td>\n",
       "      <td>1</td>\n",
       "      <td>1</td>\n",
       "      <td>7</td>\n",
       "      <td>1</td>\n",
       "      <td>1</td>\n",
       "      <td>2065</td>\n",
       "      <td>3300</td>\n",
       "      <td>211</td>\n",
       "    </tr>\n",
       "    <tr>\n",
       "      <th>1</th>\n",
       "      <td>São Paulo</td>\n",
       "      <td>320</td>\n",
       "      <td>4</td>\n",
       "      <td>4</td>\n",
       "      <td>0</td>\n",
       "      <td>20</td>\n",
       "      <td>1</td>\n",
       "      <td>0</td>\n",
       "      <td>1200</td>\n",
       "      <td>4960</td>\n",
       "      <td>1750</td>\n",
       "    </tr>\n",
       "    <tr>\n",
       "      <th>4</th>\n",
       "      <td>São Paulo</td>\n",
       "      <td>25</td>\n",
       "      <td>1</td>\n",
       "      <td>1</td>\n",
       "      <td>0</td>\n",
       "      <td>1</td>\n",
       "      <td>0</td>\n",
       "      <td>0</td>\n",
       "      <td>0</td>\n",
       "      <td>800</td>\n",
       "      <td>25</td>\n",
       "    </tr>\n",
       "    <tr>\n",
       "      <th>5</th>\n",
       "      <td>São Paulo</td>\n",
       "      <td>376</td>\n",
       "      <td>3</td>\n",
       "      <td>3</td>\n",
       "      <td>7</td>\n",
       "      <td>0</td>\n",
       "      <td>1</td>\n",
       "      <td>0</td>\n",
       "      <td>0</td>\n",
       "      <td>8000</td>\n",
       "      <td>834</td>\n",
       "    </tr>\n",
       "    <tr>\n",
       "      <th>7</th>\n",
       "      <td>São Paulo</td>\n",
       "      <td>213</td>\n",
       "      <td>4</td>\n",
       "      <td>4</td>\n",
       "      <td>4</td>\n",
       "      <td>4</td>\n",
       "      <td>1</td>\n",
       "      <td>0</td>\n",
       "      <td>2254</td>\n",
       "      <td>3223</td>\n",
       "      <td>1735</td>\n",
       "    </tr>\n",
       "    <tr>\n",
       "      <th>...</th>\n",
       "      <td>...</td>\n",
       "      <td>...</td>\n",
       "      <td>...</td>\n",
       "      <td>...</td>\n",
       "      <td>...</td>\n",
       "      <td>...</td>\n",
       "      <td>...</td>\n",
       "      <td>...</td>\n",
       "      <td>...</td>\n",
       "      <td>...</td>\n",
       "      <td>...</td>\n",
       "    </tr>\n",
       "    <tr>\n",
       "      <th>10683</th>\n",
       "      <td>São Paulo</td>\n",
       "      <td>280</td>\n",
       "      <td>4</td>\n",
       "      <td>4</td>\n",
       "      <td>2</td>\n",
       "      <td>5</td>\n",
       "      <td>1</td>\n",
       "      <td>0</td>\n",
       "      <td>4200</td>\n",
       "      <td>4000</td>\n",
       "      <td>1042</td>\n",
       "    </tr>\n",
       "    <tr>\n",
       "      <th>10685</th>\n",
       "      <td>São Paulo</td>\n",
       "      <td>83</td>\n",
       "      <td>3</td>\n",
       "      <td>2</td>\n",
       "      <td>2</td>\n",
       "      <td>11</td>\n",
       "      <td>1</td>\n",
       "      <td>0</td>\n",
       "      <td>888</td>\n",
       "      <td>7521</td>\n",
       "      <td>221</td>\n",
       "    </tr>\n",
       "    <tr>\n",
       "      <th>10686</th>\n",
       "      <td>São Paulo</td>\n",
       "      <td>150</td>\n",
       "      <td>3</td>\n",
       "      <td>3</td>\n",
       "      <td>2</td>\n",
       "      <td>8</td>\n",
       "      <td>0</td>\n",
       "      <td>1</td>\n",
       "      <td>0</td>\n",
       "      <td>13500</td>\n",
       "      <td>0</td>\n",
       "    </tr>\n",
       "    <tr>\n",
       "      <th>10688</th>\n",
       "      <td>São Paulo</td>\n",
       "      <td>285</td>\n",
       "      <td>4</td>\n",
       "      <td>4</td>\n",
       "      <td>4</td>\n",
       "      <td>17</td>\n",
       "      <td>1</td>\n",
       "      <td>0</td>\n",
       "      <td>3100</td>\n",
       "      <td>15000</td>\n",
       "      <td>973</td>\n",
       "    </tr>\n",
       "    <tr>\n",
       "      <th>10691</th>\n",
       "      <td>São Paulo</td>\n",
       "      <td>80</td>\n",
       "      <td>2</td>\n",
       "      <td>1</td>\n",
       "      <td>0</td>\n",
       "      <td>0</td>\n",
       "      <td>1</td>\n",
       "      <td>0</td>\n",
       "      <td>0</td>\n",
       "      <td>1400</td>\n",
       "      <td>165</td>\n",
       "    </tr>\n",
       "  </tbody>\n",
       "</table>\n",
       "<p>5887 rows × 11 columns</p>\n",
       "</div>"
      ],
      "text/plain": [
       "            city  area  rooms  bathroom  parking spaces  floor  animal  \\\n",
       "0      São Paulo    70      2         1               1      7       1   \n",
       "1      São Paulo   320      4         4               0     20       1   \n",
       "4      São Paulo    25      1         1               0      1       0   \n",
       "5      São Paulo   376      3         3               7      0       1   \n",
       "7      São Paulo   213      4         4               4      4       1   \n",
       "...          ...   ...    ...       ...             ...    ...     ...   \n",
       "10683  São Paulo   280      4         4               2      5       1   \n",
       "10685  São Paulo    83      3         2               2     11       1   \n",
       "10686  São Paulo   150      3         3               2      8       0   \n",
       "10688  São Paulo   285      4         4               4     17       1   \n",
       "10691  São Paulo    80      2         1               0      0       1   \n",
       "\n",
       "       furniture  hoa (R$)  rent amount (R$)  property tax (R$)  \n",
       "0              1      2065              3300                211  \n",
       "1              0      1200              4960               1750  \n",
       "4              0         0               800                 25  \n",
       "5              0         0              8000                834  \n",
       "7              0      2254              3223               1735  \n",
       "...          ...       ...               ...                ...  \n",
       "10683          0      4200              4000               1042  \n",
       "10685          0       888              7521                221  \n",
       "10686          1         0             13500                  0  \n",
       "10688          0      3100             15000                973  \n",
       "10691          0         0              1400                165  \n",
       "\n",
       "[5887 rows x 11 columns]"
      ]
     },
     "execution_count": 37,
     "metadata": {},
     "output_type": "execute_result"
    }
   ],
   "source": [
    "# Filtrar os dados para a cidade de São Paulo\n",
    "# MVP (Minimum Viable Product – ou Produto Mínimo Viável) --> Valor para o cliente \n",
    "\n",
    "filtro_SP = dados.loc[dados['city'] == 'São Paulo']\n",
    "\n",
    "filtro_SP"
   ]
  },
  {
   "cell_type": "code",
   "execution_count": 38,
   "id": "0edd70c5-4d74-476b-8268-b534738165c1",
   "metadata": {},
   "outputs": [],
   "source": [
    "# retirando a coluna 'city', pois já filtramos somente para uma única cidade\n",
    "\n",
    "filtro_SP.drop(columns=['city'], inplace=True)"
   ]
  },
  {
   "cell_type": "code",
   "execution_count": 39,
   "id": "3dd569d3-a858-45d7-8fb9-16e60a941cf2",
   "metadata": {},
   "outputs": [
    {
     "data": {
      "text/html": [
       "<div>\n",
       "<style scoped>\n",
       "    .dataframe tbody tr th:only-of-type {\n",
       "        vertical-align: middle;\n",
       "    }\n",
       "\n",
       "    .dataframe tbody tr th {\n",
       "        vertical-align: top;\n",
       "    }\n",
       "\n",
       "    .dataframe thead th {\n",
       "        text-align: right;\n",
       "    }\n",
       "</style>\n",
       "<table border=\"1\" class=\"dataframe\">\n",
       "  <thead>\n",
       "    <tr style=\"text-align: right;\">\n",
       "      <th></th>\n",
       "      <th>area</th>\n",
       "      <th>rooms</th>\n",
       "      <th>bathroom</th>\n",
       "      <th>parking spaces</th>\n",
       "      <th>floor</th>\n",
       "      <th>animal</th>\n",
       "      <th>furniture</th>\n",
       "      <th>hoa (R$)</th>\n",
       "      <th>rent amount (R$)</th>\n",
       "      <th>property tax (R$)</th>\n",
       "    </tr>\n",
       "  </thead>\n",
       "  <tbody>\n",
       "    <tr>\n",
       "      <th>0</th>\n",
       "      <td>70</td>\n",
       "      <td>2</td>\n",
       "      <td>1</td>\n",
       "      <td>1</td>\n",
       "      <td>7</td>\n",
       "      <td>1</td>\n",
       "      <td>1</td>\n",
       "      <td>2065</td>\n",
       "      <td>3300</td>\n",
       "      <td>211</td>\n",
       "    </tr>\n",
       "    <tr>\n",
       "      <th>1</th>\n",
       "      <td>320</td>\n",
       "      <td>4</td>\n",
       "      <td>4</td>\n",
       "      <td>0</td>\n",
       "      <td>20</td>\n",
       "      <td>1</td>\n",
       "      <td>0</td>\n",
       "      <td>1200</td>\n",
       "      <td>4960</td>\n",
       "      <td>1750</td>\n",
       "    </tr>\n",
       "    <tr>\n",
       "      <th>4</th>\n",
       "      <td>25</td>\n",
       "      <td>1</td>\n",
       "      <td>1</td>\n",
       "      <td>0</td>\n",
       "      <td>1</td>\n",
       "      <td>0</td>\n",
       "      <td>0</td>\n",
       "      <td>0</td>\n",
       "      <td>800</td>\n",
       "      <td>25</td>\n",
       "    </tr>\n",
       "    <tr>\n",
       "      <th>5</th>\n",
       "      <td>376</td>\n",
       "      <td>3</td>\n",
       "      <td>3</td>\n",
       "      <td>7</td>\n",
       "      <td>0</td>\n",
       "      <td>1</td>\n",
       "      <td>0</td>\n",
       "      <td>0</td>\n",
       "      <td>8000</td>\n",
       "      <td>834</td>\n",
       "    </tr>\n",
       "    <tr>\n",
       "      <th>7</th>\n",
       "      <td>213</td>\n",
       "      <td>4</td>\n",
       "      <td>4</td>\n",
       "      <td>4</td>\n",
       "      <td>4</td>\n",
       "      <td>1</td>\n",
       "      <td>0</td>\n",
       "      <td>2254</td>\n",
       "      <td>3223</td>\n",
       "      <td>1735</td>\n",
       "    </tr>\n",
       "    <tr>\n",
       "      <th>...</th>\n",
       "      <td>...</td>\n",
       "      <td>...</td>\n",
       "      <td>...</td>\n",
       "      <td>...</td>\n",
       "      <td>...</td>\n",
       "      <td>...</td>\n",
       "      <td>...</td>\n",
       "      <td>...</td>\n",
       "      <td>...</td>\n",
       "      <td>...</td>\n",
       "    </tr>\n",
       "    <tr>\n",
       "      <th>10683</th>\n",
       "      <td>280</td>\n",
       "      <td>4</td>\n",
       "      <td>4</td>\n",
       "      <td>2</td>\n",
       "      <td>5</td>\n",
       "      <td>1</td>\n",
       "      <td>0</td>\n",
       "      <td>4200</td>\n",
       "      <td>4000</td>\n",
       "      <td>1042</td>\n",
       "    </tr>\n",
       "    <tr>\n",
       "      <th>10685</th>\n",
       "      <td>83</td>\n",
       "      <td>3</td>\n",
       "      <td>2</td>\n",
       "      <td>2</td>\n",
       "      <td>11</td>\n",
       "      <td>1</td>\n",
       "      <td>0</td>\n",
       "      <td>888</td>\n",
       "      <td>7521</td>\n",
       "      <td>221</td>\n",
       "    </tr>\n",
       "    <tr>\n",
       "      <th>10686</th>\n",
       "      <td>150</td>\n",
       "      <td>3</td>\n",
       "      <td>3</td>\n",
       "      <td>2</td>\n",
       "      <td>8</td>\n",
       "      <td>0</td>\n",
       "      <td>1</td>\n",
       "      <td>0</td>\n",
       "      <td>13500</td>\n",
       "      <td>0</td>\n",
       "    </tr>\n",
       "    <tr>\n",
       "      <th>10688</th>\n",
       "      <td>285</td>\n",
       "      <td>4</td>\n",
       "      <td>4</td>\n",
       "      <td>4</td>\n",
       "      <td>17</td>\n",
       "      <td>1</td>\n",
       "      <td>0</td>\n",
       "      <td>3100</td>\n",
       "      <td>15000</td>\n",
       "      <td>973</td>\n",
       "    </tr>\n",
       "    <tr>\n",
       "      <th>10691</th>\n",
       "      <td>80</td>\n",
       "      <td>2</td>\n",
       "      <td>1</td>\n",
       "      <td>0</td>\n",
       "      <td>0</td>\n",
       "      <td>1</td>\n",
       "      <td>0</td>\n",
       "      <td>0</td>\n",
       "      <td>1400</td>\n",
       "      <td>165</td>\n",
       "    </tr>\n",
       "  </tbody>\n",
       "</table>\n",
       "<p>5887 rows × 10 columns</p>\n",
       "</div>"
      ],
      "text/plain": [
       "       area  rooms  bathroom  parking spaces  floor  animal  furniture  \\\n",
       "0        70      2         1               1      7       1          1   \n",
       "1       320      4         4               0     20       1          0   \n",
       "4        25      1         1               0      1       0          0   \n",
       "5       376      3         3               7      0       1          0   \n",
       "7       213      4         4               4      4       1          0   \n",
       "...     ...    ...       ...             ...    ...     ...        ...   \n",
       "10683   280      4         4               2      5       1          0   \n",
       "10685    83      3         2               2     11       1          0   \n",
       "10686   150      3         3               2      8       0          1   \n",
       "10688   285      4         4               4     17       1          0   \n",
       "10691    80      2         1               0      0       1          0   \n",
       "\n",
       "       hoa (R$)  rent amount (R$)  property tax (R$)  \n",
       "0          2065              3300                211  \n",
       "1          1200              4960               1750  \n",
       "4             0               800                 25  \n",
       "5             0              8000                834  \n",
       "7          2254              3223               1735  \n",
       "...         ...               ...                ...  \n",
       "10683      4200              4000               1042  \n",
       "10685       888              7521                221  \n",
       "10686         0             13500                  0  \n",
       "10688      3100             15000                973  \n",
       "10691         0              1400                165  \n",
       "\n",
       "[5887 rows x 10 columns]"
      ]
     },
     "execution_count": 39,
     "metadata": {},
     "output_type": "execute_result"
    }
   ],
   "source": [
    "filtro_SP"
   ]
  },
  {
   "cell_type": "code",
   "execution_count": 40,
   "id": "e43827f1-7b9e-4586-9bca-a330636c1302",
   "metadata": {},
   "outputs": [],
   "source": [
    "# Separando os dados\n",
    "\n",
    "caracteristicas = filtro_SP.drop(columns=['rent amount (R$)'])\n",
    "previsor = filtro_SP['rent amount (R$)']"
   ]
  },
  {
   "cell_type": "code",
   "execution_count": 41,
   "id": "08224b83-80bf-4bbe-b4ed-23aa831322a1",
   "metadata": {},
   "outputs": [
    {
     "data": {
      "text/plain": [
       "((5887, 9), (5887,))"
      ]
     },
     "execution_count": 41,
     "metadata": {},
     "output_type": "execute_result"
    }
   ],
   "source": [
    "caracteristicas.shape, previsor.shape"
   ]
  },
  {
   "cell_type": "code",
   "execution_count": 42,
   "id": "232d82dd-fe28-4f6c-a44d-99e3209278ac",
   "metadata": {},
   "outputs": [
    {
     "data": {
      "text/html": [
       "<div>\n",
       "<style scoped>\n",
       "    .dataframe tbody tr th:only-of-type {\n",
       "        vertical-align: middle;\n",
       "    }\n",
       "\n",
       "    .dataframe tbody tr th {\n",
       "        vertical-align: top;\n",
       "    }\n",
       "\n",
       "    .dataframe thead th {\n",
       "        text-align: right;\n",
       "    }\n",
       "</style>\n",
       "<table border=\"1\" class=\"dataframe\">\n",
       "  <thead>\n",
       "    <tr style=\"text-align: right;\">\n",
       "      <th></th>\n",
       "      <th>area</th>\n",
       "      <th>rooms</th>\n",
       "      <th>bathroom</th>\n",
       "      <th>parking spaces</th>\n",
       "      <th>floor</th>\n",
       "      <th>animal</th>\n",
       "      <th>furniture</th>\n",
       "      <th>hoa (R$)</th>\n",
       "      <th>property tax (R$)</th>\n",
       "    </tr>\n",
       "  </thead>\n",
       "  <tbody>\n",
       "    <tr>\n",
       "      <th>0</th>\n",
       "      <td>70</td>\n",
       "      <td>2</td>\n",
       "      <td>1</td>\n",
       "      <td>1</td>\n",
       "      <td>7</td>\n",
       "      <td>1</td>\n",
       "      <td>1</td>\n",
       "      <td>2065</td>\n",
       "      <td>211</td>\n",
       "    </tr>\n",
       "    <tr>\n",
       "      <th>1</th>\n",
       "      <td>320</td>\n",
       "      <td>4</td>\n",
       "      <td>4</td>\n",
       "      <td>0</td>\n",
       "      <td>20</td>\n",
       "      <td>1</td>\n",
       "      <td>0</td>\n",
       "      <td>1200</td>\n",
       "      <td>1750</td>\n",
       "    </tr>\n",
       "    <tr>\n",
       "      <th>4</th>\n",
       "      <td>25</td>\n",
       "      <td>1</td>\n",
       "      <td>1</td>\n",
       "      <td>0</td>\n",
       "      <td>1</td>\n",
       "      <td>0</td>\n",
       "      <td>0</td>\n",
       "      <td>0</td>\n",
       "      <td>25</td>\n",
       "    </tr>\n",
       "    <tr>\n",
       "      <th>5</th>\n",
       "      <td>376</td>\n",
       "      <td>3</td>\n",
       "      <td>3</td>\n",
       "      <td>7</td>\n",
       "      <td>0</td>\n",
       "      <td>1</td>\n",
       "      <td>0</td>\n",
       "      <td>0</td>\n",
       "      <td>834</td>\n",
       "    </tr>\n",
       "    <tr>\n",
       "      <th>7</th>\n",
       "      <td>213</td>\n",
       "      <td>4</td>\n",
       "      <td>4</td>\n",
       "      <td>4</td>\n",
       "      <td>4</td>\n",
       "      <td>1</td>\n",
       "      <td>0</td>\n",
       "      <td>2254</td>\n",
       "      <td>1735</td>\n",
       "    </tr>\n",
       "  </tbody>\n",
       "</table>\n",
       "</div>"
      ],
      "text/plain": [
       "   area  rooms  bathroom  parking spaces  floor  animal  furniture  hoa (R$)  \\\n",
       "0    70      2         1               1      7       1          1      2065   \n",
       "1   320      4         4               0     20       1          0      1200   \n",
       "4    25      1         1               0      1       0          0         0   \n",
       "5   376      3         3               7      0       1          0         0   \n",
       "7   213      4         4               4      4       1          0      2254   \n",
       "\n",
       "   property tax (R$)  \n",
       "0                211  \n",
       "1               1750  \n",
       "4                 25  \n",
       "5                834  \n",
       "7               1735  "
      ]
     },
     "execution_count": 42,
     "metadata": {},
     "output_type": "execute_result"
    }
   ],
   "source": [
    "# Caracteristicas\n",
    "\n",
    "caracteristicas.head()"
   ]
  },
  {
   "cell_type": "code",
   "execution_count": 43,
   "id": "63559f54-d27b-457e-be27-2aa3db159d46",
   "metadata": {},
   "outputs": [
    {
     "data": {
      "text/plain": [
       "0    3300\n",
       "1    4960\n",
       "4     800\n",
       "5    8000\n",
       "7    3223\n",
       "Name: rent amount (R$), dtype: int64"
      ]
     },
     "execution_count": 43,
     "metadata": {},
     "output_type": "execute_result"
    }
   ],
   "source": [
    "# Previsor\n",
    "\n",
    "previsor.head()"
   ]
  },
  {
   "cell_type": "code",
   "execution_count": 44,
   "id": "ae3ec60b-7111-47be-a360-a9557f5444cb",
   "metadata": {},
   "outputs": [
    {
     "data": {
      "text/html": [
       "<div>\n",
       "<style scoped>\n",
       "    .dataframe tbody tr th:only-of-type {\n",
       "        vertical-align: middle;\n",
       "    }\n",
       "\n",
       "    .dataframe tbody tr th {\n",
       "        vertical-align: top;\n",
       "    }\n",
       "\n",
       "    .dataframe thead th {\n",
       "        text-align: right;\n",
       "    }\n",
       "</style>\n",
       "<table border=\"1\" class=\"dataframe\">\n",
       "  <thead>\n",
       "    <tr style=\"text-align: right;\">\n",
       "      <th></th>\n",
       "      <th>area</th>\n",
       "      <th>rooms</th>\n",
       "      <th>bathroom</th>\n",
       "      <th>parking spaces</th>\n",
       "      <th>floor</th>\n",
       "      <th>animal</th>\n",
       "      <th>furniture</th>\n",
       "      <th>hoa (R$)</th>\n",
       "      <th>rent amount (R$)</th>\n",
       "      <th>property tax (R$)</th>\n",
       "    </tr>\n",
       "  </thead>\n",
       "  <tbody>\n",
       "    <tr>\n",
       "      <th>area</th>\n",
       "      <td>1.000000</td>\n",
       "      <td>0.306863</td>\n",
       "      <td>0.316543</td>\n",
       "      <td>0.300795</td>\n",
       "      <td>-0.038790</td>\n",
       "      <td>0.073565</td>\n",
       "      <td>-0.018145</td>\n",
       "      <td>0.056091</td>\n",
       "      <td>0.274749</td>\n",
       "      <td>0.065289</td>\n",
       "    </tr>\n",
       "    <tr>\n",
       "      <th>rooms</th>\n",
       "      <td>0.306863</td>\n",
       "      <td>1.000000</td>\n",
       "      <td>0.759432</td>\n",
       "      <td>0.645041</td>\n",
       "      <td>-0.092117</td>\n",
       "      <td>0.213963</td>\n",
       "      <td>-0.088931</td>\n",
       "      <td>0.136343</td>\n",
       "      <td>0.537622</td>\n",
       "      <td>0.071702</td>\n",
       "    </tr>\n",
       "    <tr>\n",
       "      <th>bathroom</th>\n",
       "      <td>0.316543</td>\n",
       "      <td>0.759432</td>\n",
       "      <td>1.000000</td>\n",
       "      <td>0.703530</td>\n",
       "      <td>-0.015503</td>\n",
       "      <td>0.159097</td>\n",
       "      <td>0.005864</td>\n",
       "      <td>0.163205</td>\n",
       "      <td>0.638924</td>\n",
       "      <td>0.101616</td>\n",
       "    </tr>\n",
       "    <tr>\n",
       "      <th>parking spaces</th>\n",
       "      <td>0.300795</td>\n",
       "      <td>0.645041</td>\n",
       "      <td>0.703530</td>\n",
       "      <td>1.000000</td>\n",
       "      <td>-0.038378</td>\n",
       "      <td>0.165253</td>\n",
       "      <td>-0.015155</td>\n",
       "      <td>0.115951</td>\n",
       "      <td>0.573373</td>\n",
       "      <td>0.092362</td>\n",
       "    </tr>\n",
       "    <tr>\n",
       "      <th>floor</th>\n",
       "      <td>-0.038790</td>\n",
       "      <td>-0.092117</td>\n",
       "      <td>-0.015503</td>\n",
       "      <td>-0.038378</td>\n",
       "      <td>1.000000</td>\n",
       "      <td>-0.014202</td>\n",
       "      <td>0.135180</td>\n",
       "      <td>0.107211</td>\n",
       "      <td>0.065294</td>\n",
       "      <td>0.005672</td>\n",
       "    </tr>\n",
       "    <tr>\n",
       "      <th>animal</th>\n",
       "      <td>0.073565</td>\n",
       "      <td>0.213963</td>\n",
       "      <td>0.159097</td>\n",
       "      <td>0.165253</td>\n",
       "      <td>-0.014202</td>\n",
       "      <td>1.000000</td>\n",
       "      <td>-0.066208</td>\n",
       "      <td>0.020575</td>\n",
       "      <td>0.107147</td>\n",
       "      <td>-0.005308</td>\n",
       "    </tr>\n",
       "    <tr>\n",
       "      <th>furniture</th>\n",
       "      <td>-0.018145</td>\n",
       "      <td>-0.088931</td>\n",
       "      <td>0.005864</td>\n",
       "      <td>-0.015155</td>\n",
       "      <td>0.135180</td>\n",
       "      <td>-0.066208</td>\n",
       "      <td>1.000000</td>\n",
       "      <td>0.042860</td>\n",
       "      <td>0.154316</td>\n",
       "      <td>-0.007852</td>\n",
       "    </tr>\n",
       "    <tr>\n",
       "      <th>hoa (R$)</th>\n",
       "      <td>0.056091</td>\n",
       "      <td>0.136343</td>\n",
       "      <td>0.163205</td>\n",
       "      <td>0.115951</td>\n",
       "      <td>0.107211</td>\n",
       "      <td>0.020575</td>\n",
       "      <td>0.042860</td>\n",
       "      <td>1.000000</td>\n",
       "      <td>0.188147</td>\n",
       "      <td>0.028872</td>\n",
       "    </tr>\n",
       "    <tr>\n",
       "      <th>rent amount (R$)</th>\n",
       "      <td>0.274749</td>\n",
       "      <td>0.537622</td>\n",
       "      <td>0.638924</td>\n",
       "      <td>0.573373</td>\n",
       "      <td>0.065294</td>\n",
       "      <td>0.107147</td>\n",
       "      <td>0.154316</td>\n",
       "      <td>0.188147</td>\n",
       "      <td>1.000000</td>\n",
       "      <td>0.091749</td>\n",
       "    </tr>\n",
       "    <tr>\n",
       "      <th>property tax (R$)</th>\n",
       "      <td>0.065289</td>\n",
       "      <td>0.071702</td>\n",
       "      <td>0.101616</td>\n",
       "      <td>0.092362</td>\n",
       "      <td>0.005672</td>\n",
       "      <td>-0.005308</td>\n",
       "      <td>-0.007852</td>\n",
       "      <td>0.028872</td>\n",
       "      <td>0.091749</td>\n",
       "      <td>1.000000</td>\n",
       "    </tr>\n",
       "  </tbody>\n",
       "</table>\n",
       "</div>"
      ],
      "text/plain": [
       "                       area     rooms  bathroom  parking spaces     floor  \\\n",
       "area               1.000000  0.306863  0.316543        0.300795 -0.038790   \n",
       "rooms              0.306863  1.000000  0.759432        0.645041 -0.092117   \n",
       "bathroom           0.316543  0.759432  1.000000        0.703530 -0.015503   \n",
       "parking spaces     0.300795  0.645041  0.703530        1.000000 -0.038378   \n",
       "floor             -0.038790 -0.092117 -0.015503       -0.038378  1.000000   \n",
       "animal             0.073565  0.213963  0.159097        0.165253 -0.014202   \n",
       "furniture         -0.018145 -0.088931  0.005864       -0.015155  0.135180   \n",
       "hoa (R$)           0.056091  0.136343  0.163205        0.115951  0.107211   \n",
       "rent amount (R$)   0.274749  0.537622  0.638924        0.573373  0.065294   \n",
       "property tax (R$)  0.065289  0.071702  0.101616        0.092362  0.005672   \n",
       "\n",
       "                     animal  furniture  hoa (R$)  rent amount (R$)  \\\n",
       "area               0.073565  -0.018145  0.056091          0.274749   \n",
       "rooms              0.213963  -0.088931  0.136343          0.537622   \n",
       "bathroom           0.159097   0.005864  0.163205          0.638924   \n",
       "parking spaces     0.165253  -0.015155  0.115951          0.573373   \n",
       "floor             -0.014202   0.135180  0.107211          0.065294   \n",
       "animal             1.000000  -0.066208  0.020575          0.107147   \n",
       "furniture         -0.066208   1.000000  0.042860          0.154316   \n",
       "hoa (R$)           0.020575   0.042860  1.000000          0.188147   \n",
       "rent amount (R$)   0.107147   0.154316  0.188147          1.000000   \n",
       "property tax (R$) -0.005308  -0.007852  0.028872          0.091749   \n",
       "\n",
       "                   property tax (R$)  \n",
       "area                        0.065289  \n",
       "rooms                       0.071702  \n",
       "bathroom                    0.101616  \n",
       "parking spaces              0.092362  \n",
       "floor                       0.005672  \n",
       "animal                     -0.005308  \n",
       "furniture                  -0.007852  \n",
       "hoa (R$)                    0.028872  \n",
       "rent amount (R$)            0.091749  \n",
       "property tax (R$)           1.000000  "
      ]
     },
     "execution_count": 44,
     "metadata": {},
     "output_type": "execute_result"
    }
   ],
   "source": [
    "# Correlação\n",
    "\n",
    "filtro_SP.corr()"
   ]
  },
  {
   "cell_type": "code",
   "execution_count": 45,
   "id": "033355cf-0a1f-4af1-bf23-ef35620546b1",
   "metadata": {},
   "outputs": [
    {
     "data": {
      "image/png": "[encoded data removed]",
      "text/plain": [
       "<Figure size 800x550 with 2 Axes>"
      ]
     },
     "metadata": {},
     "output_type": "display_data"
    }
   ],
   "source": [
    "# Yellowbrick\n",
    "from yellowbrick.features import Rank2D\n",
    "\n",
    "# Definir o modelo\n",
    "correlacao = Rank2D(algorithm='pearson')\n",
    "\n",
    "# filtrar a função\n",
    "correlacao.fit(caracteristicas, previsor)\n",
    "correlacao.transform(caracteristicas)\n",
    "correlacao.show();"
   ]
  },
  {
   "cell_type": "raw",
   "id": "e95f306a-5c0d-498b-ad2d-da2d002e0860",
   "metadata": {},
   "source": [
    "Podemos observar que as variáveis quartos, banheiros e vagas de garagem têm grande contribuição para o preço do aluguel. Onde podemos dizer que já era uma coisa esperada, pois sabemos que as pessoas levam muito em conta esses detalhes quando se procura um imovél, logo seria natural ser o ponto de destaque no imovél assim contribuindo para o preço do aluguel."
   ]
  },
  {
   "cell_type": "code",
   "execution_count": 46,
   "id": "fdf362f9-d5ce-4056-9a67-97832a28f56c",
   "metadata": {},
   "outputs": [],
   "source": [
    "# Sepatando os dados em treindo e teste\n",
    "from sklearn.model_selection import train_test_split\n",
    "\n",
    "# Divisão dos dados\n",
    "x_treino, x_teste, y_treino, y_teste = train_test_split(caracteristicas, previsor, test_size=0.20, random_state=10)"
   ]
  },
  {
   "cell_type": "code",
   "execution_count": 47,
   "id": "9d098483-fa0c-429c-8829-e3b4d839f282",
   "metadata": {},
   "outputs": [
    {
     "name": "stdout",
     "output_type": "stream",
     "text": [
      "Dados de treino: 4709\n",
      "Dados de treino: 1178\n"
     ]
    }
   ],
   "source": [
    "print(f'Dados de treino: {x_treino.shape[0]}')\n",
    "print(f'Dados de treino: {x_teste.shape[0]}')"
   ]
  },
  {
   "cell_type": "code",
   "execution_count": 48,
   "id": "cf63202b-7b23-4fc4-a7a1-65b2245a3c6d",
   "metadata": {},
   "outputs": [],
   "source": [
    "# Features mais relevantes (Caso tenha alguma feature que tenha peso 0, podemos retirar do modelo)\n",
    "from sklearn.feature_selection import mutual_info_regression, SelectKBest"
   ]
  },
  {
   "cell_type": "code",
   "execution_count": 49,
   "id": "940f0e99-07d1-4661-92ce-deecac3c2f07",
   "metadata": {},
   "outputs": [
    {
     "name": "stdout",
     "output_type": "stream",
     "text": [
      "area: 0.07105272074542635\n",
      "rooms: 0.2624643423763584\n",
      "bathroom: 0.32915392424909573\n",
      "parking spaces: 0.2455141581904865\n",
      "floor: 0.03247932415503074\n",
      "animal: 0.013760974602244236\n",
      "furniture: 0.040161943082743345\n",
      "hoa (R$): 0.05509789555440614\n",
      "property tax (R$): 0.1532260585830394\n"
     ]
    }
   ],
   "source": [
    "# A função (mutal_info) faz uma análise de quais features tem uma relação maior com a nossa variável que queremos prever (valor de aluguel)\n",
    "\n",
    "# Seleção de features\n",
    "def selecao_features(x_treino, y_treino):\n",
    "    \n",
    "    # Configurar para selecionar as features\n",
    "    selecao = SelectKBest(score_func=mutual_info_regression, k='all')\n",
    "    \n",
    "    # Filtrar o aprendizado\n",
    "    selecao.fit(x_treino, y_treino)\n",
    "    \n",
    "    return selecao\n",
    "\n",
    "# Aplicar a função\n",
    "scores = selecao_features(x_treino, y_treino)\n",
    "\n",
    "# Analisar\n",
    "for posicao, score in enumerate(scores.scores_):\n",
    "    print(f'{x_treino.columns[posicao]}: {score}')"
   ]
  },
  {
   "cell_type": "raw",
   "id": "7af5b670-d5e0-4ff6-91c5-b73ff720c1bf",
   "metadata": {},
   "source": [
    "Quanto maior o valor do score, maior a relação com o valor da variavél que queremos prever.\n",
    "\n",
    "Como já tinhamos visto no gráfico de correlação (feito com a biblioteca yellowbrick), o número de quarto, de banheiro e de vagas para estacionamento são de maiores valores, ou seja, são as variavéis que contribuem mais com  a variavél valor do aluguel."
   ]
  },
  {
   "cell_type": "markdown",
   "id": "71c43acd-052d-4d1b-8817-fa164920d3db",
   "metadata": {
    "tags": []
   },
   "source": [
    "# Construção do modelo"
   ]
  },
  {
   "cell_type": "code",
   "execution_count": 50,
   "id": "186612e6-42b7-4600-bcee-68569b7844c3",
   "metadata": {},
   "outputs": [
    {
     "data": {
      "text/html": [
       "<style>#sk-container-id-1 {color: black;background-color: white;}#sk-container-id-1 pre{padding: 0;}#sk-container-id-1 div.sk-toggleable {background-color: white;}#sk-container-id-1 label.sk-toggleable__label {cursor: pointer;display: block;width: 100%;margin-bottom: 0;padding: 0.3em;box-sizing: border-box;text-align: center;}#sk-container-id-1 label.sk-toggleable__label-arrow:before {content: \"▸\";float: left;margin-right: 0.25em;color: #696969;}#sk-container-id-1 label.sk-toggleable__label-arrow:hover:before {color: black;}#sk-container-id-1 div.sk-estimator:hover label.sk-toggleable__label-arrow:before {color: black;}#sk-container-id-1 div.sk-toggleable__content {max-height: 0;max-width: 0;overflow: hidden;text-align: left;background-color: #f0f8ff;}#sk-container-id-1 div.sk-toggleable__content pre {margin: 0.2em;color: black;border-radius: 0.25em;background-color: #f0f8ff;}#sk-container-id-1 input.sk-toggleable__control:checked~div.sk-toggleable__content {max-height: 200px;max-width: 100%;overflow: auto;}#sk-container-id-1 input.sk-toggleable__control:checked~label.sk-toggleable__label-arrow:before {content: \"▾\";}#sk-container-id-1 div.sk-estimator input.sk-toggleable__control:checked~label.sk-toggleable__label {background-color: #d4ebff;}#sk-container-id-1 div.sk-label input.sk-toggleable__control:checked~label.sk-toggleable__label {background-color: #d4ebff;}#sk-container-id-1 input.sk-hidden--visually {border: 0;clip: rect(1px 1px 1px 1px);clip: rect(1px, 1px, 1px, 1px);height: 1px;margin: -1px;overflow: hidden;padding: 0;position: absolute;width: 1px;}#sk-container-id-1 div.sk-estimator {font-family: monospace;background-color: #f0f8ff;border: 1px dotted black;border-radius: 0.25em;box-sizing: border-box;margin-bottom: 0.5em;}#sk-container-id-1 div.sk-estimator:hover {background-color: #d4ebff;}#sk-container-id-1 div.sk-parallel-item::after {content: \"\";width: 100%;border-bottom: 1px solid gray;flex-grow: 1;}#sk-container-id-1 div.sk-label:hover label.sk-toggleable__label {background-color: #d4ebff;}#sk-container-id-1 div.sk-serial::before {content: \"\";position: absolute;border-left: 1px solid gray;box-sizing: border-box;top: 0;bottom: 0;left: 50%;z-index: 0;}#sk-container-id-1 div.sk-serial {display: flex;flex-direction: column;align-items: center;background-color: white;padding-right: 0.2em;padding-left: 0.2em;position: relative;}#sk-container-id-1 div.sk-item {position: relative;z-index: 1;}#sk-container-id-1 div.sk-parallel {display: flex;align-items: stretch;justify-content: center;background-color: white;position: relative;}#sk-container-id-1 div.sk-item::before, #sk-container-id-1 div.sk-parallel-item::before {content: \"\";position: absolute;border-left: 1px solid gray;box-sizing: border-box;top: 0;bottom: 0;left: 50%;z-index: -1;}#sk-container-id-1 div.sk-parallel-item {display: flex;flex-direction: column;z-index: 1;position: relative;background-color: white;}#sk-container-id-1 div.sk-parallel-item:first-child::after {align-self: flex-end;width: 50%;}#sk-container-id-1 div.sk-parallel-item:last-child::after {align-self: flex-start;width: 50%;}#sk-container-id-1 div.sk-parallel-item:only-child::after {width: 0;}#sk-container-id-1 div.sk-dashed-wrapped {border: 1px dashed gray;margin: 0 0.4em 0.5em 0.4em;box-sizing: border-box;padding-bottom: 0.4em;background-color: white;}#sk-container-id-1 div.sk-label label {font-family: monospace;font-weight: bold;display: inline-block;line-height: 1.2em;}#sk-container-id-1 div.sk-label-container {text-align: center;}#sk-container-id-1 div.sk-container {/* jupyter's `normalize.less` sets `[hidden] { display: none; }` but bootstrap.min.css set `[hidden] { display: none !important; }` so we also need the `!important` here to be able to override the default hidden behavior on the sphinx rendered scikit-learn.org. See: https://github.com/scikit-learn/scikit-learn/issues/21755 */display: inline-block !important;position: relative;}#sk-container-id-1 div.sk-text-repr-fallback {display: none;}</style><div id=\"sk-container-id-1\" class=\"sk-top-container\"><div class=\"sk-text-repr-fallback\"><pre>RandomForestRegressor(max_depth=5)</pre><b>In a Jupyter environment, please rerun this cell to show the HTML representation or trust the notebook. <br />On GitHub, the HTML representation is unable to render, please try loading this page with nbviewer.org.</b></div><div class=\"sk-container\" hidden><div class=\"sk-item\"><div class=\"sk-estimator sk-toggleable\"><input class=\"sk-toggleable__control sk-hidden--visually\" id=\"sk-estimator-id-1\" type=\"checkbox\" checked><label for=\"sk-estimator-id-1\" class=\"sk-toggleable__label sk-toggleable__label-arrow\">RandomForestRegressor</label><div class=\"sk-toggleable__content\"><pre>RandomForestRegressor(max_depth=5)</pre></div></div></div></div></div>"
      ],
      "text/plain": [
       "RandomForestRegressor(max_depth=5)"
      ]
     },
     "execution_count": 50,
     "metadata": {},
     "output_type": "execute_result"
    }
   ],
   "source": [
    "# Modelo Random Forest Regresson\n",
    "from sklearn.ensemble import RandomForestRegressor\n",
    "\n",
    "# Instanciar o modelo\n",
    "modelo_foresta = RandomForestRegressor(max_depth=5)\n",
    "\n",
    "# Fitar o modelo\n",
    "modelo_foresta.fit(x_treino, y_treino)"
   ]
  },
  {
   "cell_type": "code",
   "execution_count": 51,
   "id": "7c250e55-390e-4b3a-8471-b5966108197f",
   "metadata": {},
   "outputs": [
    {
     "name": "stdout",
     "output_type": "stream",
     "text": [
      "RMSE:2454.932574565613\n",
      "Score:0.5638149107505366\n"
     ]
    }
   ],
   "source": [
    "# Avaliar a perfomace\n",
    "previsores = modelo_foresta.predict(x_teste)\n",
    "\n",
    "# Função para avaliar\n",
    "from sklearn.metrics import mean_squared_error, r2_score\n",
    "from math import sqrt\n",
    "\n",
    "# Avaliando o modelo (Erro na precisão)\n",
    "print(f'RMSE:{sqrt(mean_squared_error(y_teste, previsores))}')\n",
    "\n",
    "print(f'Score:{r2_score(y_teste, previsores)}')"
   ]
  },
  {
   "cell_type": "raw",
   "id": "ca88efc5-d67a-4141-a239-dde052ad8e60",
   "metadata": {},
   "source": [
    "Se notarmos os nossos resultados não são muitos satisfatótios, pois temos um erro muito grande e nosso modelo só consegue explicar em 56% os nossos dados. Se recodarmos quanto tavamos fazendo uma análise dos nossos dados, observamos que tinha muitos dados que 'fugiam' do padrão dos demais, ou seja, tinhamos outliers. E nós não tratamos esses dados, o que pode ter ocaionado esse erro tão grande no modelo de previsão."
   ]
  },
  {
   "cell_type": "code",
   "execution_count": 52,
   "id": "fc72305d-c266-4ad7-a67d-fa59c0eb1d7f",
   "metadata": {},
   "outputs": [
    {
     "data": {
      "image/png": "[encoded data removed]",
      "text/plain": [
       "<Figure size 800x550 with 1 Axes>"
      ]
     },
     "metadata": {},
     "output_type": "display_data"
    }
   ],
   "source": [
    "# Avaliando o modelo usando Yellowbrick\n",
    "from yellowbrick.regressor import PredictionError\n",
    "\n",
    "# Instanciando o modelo\n",
    "modelo = RandomForestRegressor(max_depth=5)\n",
    "erro_modelo = PredictionError(modelo)\n",
    "\n",
    "# Fitar\n",
    "erro_modelo.fit(x_treino, y_treino)\n",
    "erro_modelo.score(x_teste, y_teste)\n",
    "\n",
    "erro_modelo.show();"
   ]
  },
  {
   "cell_type": "markdown",
   "id": "9ee28460-79f1-4a7c-8360-786c6202602d",
   "metadata": {},
   "source": [
    "# Exportação (construindo a infraestutura da API)"
   ]
  },
  {
   "cell_type": "code",
   "execution_count": 53,
   "id": "757a3ea5-d5ad-4ea8-81fb-870cd0063172",
   "metadata": {},
   "outputs": [
    {
     "data": {
      "text/plain": [
       "['Modelo_Floresta_Aleatorio_v100.pkl']"
      ]
     },
     "execution_count": 53,
     "metadata": {},
     "output_type": "execute_result"
    }
   ],
   "source": [
    "# Exportação do modelo\n",
    "import joblib\n",
    "\n",
    "# Função\n",
    "# joblib.dump(modelo_foresta, 'modelo_floresta_aleatorio_v100.pkl')"
   ]
  },
  {
   "cell_type": "code",
   "execution_count": 54,
   "id": "c54249f1-7834-4942-bb98-d270fc6855dd",
   "metadata": {},
   "outputs": [],
   "source": [
    "# testando o modelo treinado\n",
    "# funcao_modelo_carregado = joblib.load('modelo_floresta_aleatorio_v100.pkl')"
   ]
  },
  {
   "cell_type": "code",
   "execution_count": 57,
   "id": "c7ed907f-f959-4784-ae98-1f6b3e998788",
   "metadata": {},
   "outputs": [
    {
     "data": {
      "text/plain": [
       "array([1528.53281107, 8929.94148788])"
      ]
     },
     "execution_count": 57,
     "metadata": {},
     "output_type": "execute_result"
    }
   ],
   "source": [
    "# Testando\n",
    "# funcao_modelo_carregado.predict(x_teste.head(2).values)"
   ]
  },
  {
   "cell_type": "code",
   "execution_count": 58,
   "id": "492b9bba-abd9-4129-a00e-34dd349e9272",
   "metadata": {},
   "outputs": [
    {
     "data": {
      "text/plain": [
       "array([[ 25,   1,   1,   0,   0,   0,   0,   0,  84],\n",
       "       [480,   4,   5,   3,   0,   1,   0,   0, 742]])"
      ]
     },
     "execution_count": 58,
     "metadata": {},
     "output_type": "execute_result"
    }
   ],
   "source": [
    "#x_teste.head(2).values"
   ]
  },
  {
   "cell_type": "code",
   "execution_count": null,
   "id": "78ee21c3-15c9-474d-952d-f3ed563db729",
   "metadata": {},
   "outputs": [],
   "source": []
  }
 ],
 "metadata": {
  "kernelspec": {
   "display_name": "Python 3 (ipykernel)",
   "language": "python",
   "name": "python3"
  },
  "language_info": {
   "codemirror_mode": {
    "name": "ipython",
    "version": 3
   },
   "file_extension": ".py",
   "mimetype": "text/x-python",
   "name": "python",
   "nbconvert_exporter": "python",
   "pygments_lexer": "ipython3",
   "version": "3.8.10"
  }
 },
 "nbformat": 4,
 "nbformat_minor": 5
}
