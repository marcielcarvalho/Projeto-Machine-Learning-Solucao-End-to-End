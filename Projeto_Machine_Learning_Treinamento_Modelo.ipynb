{
 "cells": [
  {
   "cell_type": "markdown",
   "id": "aa1f6eba-0a2c-4bf7-bc30-ffa7b414aa39",
   "metadata": {},
   "source": [
    "# Prevendo o valor de aluguel de um imóvel com Machine Learning\n",
    "\n",
    "Projeto de Machine Learning para criação de uma API onde preverá o valor de da aluguel de um imóvel apenas imputando as características do imóvel desejado.\n",
    "\n",
    "Eu não tenho propriedade de nenhum desses dados, todos eles foram retirados de informações disponíveis gratuitamente na internet e compilados apenas para facilitar o acesso. Estão disponível do site https://www.kaggle.com/. Você terá acesso diretamento aos dados no [link](https://www.kaggle.com/datasets/rubenssjr/brasilian-houses-to-rent).\n",
    "\n",
    "O dataset possui dados de 10962 casas para alugar com 13 classes diferentes.\n",
    "\n",
    "Pergunta a ser respondido ao final do treinamento do modelo de Machine Learning: Qual o valor do aluguel da sua casa?"
   ]
  },
  {
   "cell_type": "code",
   "execution_count": 1,
   "id": "1253e4ec-955b-4411-8f4d-f0f1fc81738a",
   "metadata": {},
   "outputs": [],
   "source": [
    "# Algumas Libs e configurações utilizadas na exploração e analise dos dados\n",
    "\n",
    "import pandas as pd\n",
    "import numpy as np\n",
    "\n",
    "# Libs gráficos\n",
    "import seaborn as sns\n",
    "import matplotlib.pyplot as plt\n",
    "\n",
    "# Ignora alguns avisos iníteis (como uma função obsoleta por exemplo) \n",
    "import warnings\n",
    "warnings.filterwarnings('ignore')\n",
    "\n",
    "# Configuração no pandas\n",
    "pd.set_option('display.max_rows', 200)\n",
    "pd.set_option('display.max_columns', 100)\n",
    "\n",
    "# Configuração matplotlib\n",
    "plt.rcParams['figure.figsize'] = (15, 6)\n",
    "plt.style.use('seaborn-darkgrid')"
   ]
  },
  {
   "cell_type": "markdown",
   "id": "1664eb74-1015-4ac9-8e2b-5e15267f5ec8",
   "metadata": {},
   "source": [
    "# Exploração dos dados"
   ]
  },
  {
   "cell_type": "code",
   "execution_count": 2,
   "id": "7a024f62-f65c-46f5-8c62-0fbdeadec740",
   "metadata": {},
   "outputs": [],
   "source": [
    "# Lendo os dados\n",
    "dados = pd.read_csv('houses_to_rent.csv')"
   ]
  },
  {
   "cell_type": "code",
   "execution_count": 3,
   "id": "c516ae4c-f429-48ba-aa92-bb08313ce678",
   "metadata": {},
   "outputs": [
    {
     "data": {
      "text/plain": [
       "(10692, 13)"
      ]
     },
     "execution_count": 3,
     "metadata": {},
     "output_type": "execute_result"
    }
   ],
   "source": [
    "# Dimensões do dados\n",
    "dados.shape"
   ]
  },
  {
   "cell_type": "code",
   "execution_count": 4,
   "id": "6d87f82c-34f0-411f-a951-a7d087eb018f",
   "metadata": {},
   "outputs": [
    {
     "data": {
      "text/html": [
       "<div>\n",
       "<style scoped>\n",
       "    .dataframe tbody tr th:only-of-type {\n",
       "        vertical-align: middle;\n",
       "    }\n",
       "\n",
       "    .dataframe tbody tr th {\n",
       "        vertical-align: top;\n",
       "    }\n",
       "\n",
       "    .dataframe thead th {\n",
       "        text-align: right;\n",
       "    }\n",
       "</style>\n",
       "<table border=\"1\" class=\"dataframe\">\n",
       "  <thead>\n",
       "    <tr style=\"text-align: right;\">\n",
       "      <th></th>\n",
       "      <th>city</th>\n",
       "      <th>area</th>\n",
       "      <th>rooms</th>\n",
       "      <th>bathroom</th>\n",
       "      <th>parking spaces</th>\n",
       "      <th>floor</th>\n",
       "      <th>animal</th>\n",
       "      <th>furniture</th>\n",
       "      <th>hoa (R$)</th>\n",
       "      <th>rent amount (R$)</th>\n",
       "      <th>property tax (R$)</th>\n",
       "      <th>fire insurance (R$)</th>\n",
       "      <th>total (R$)</th>\n",
       "    </tr>\n",
       "  </thead>\n",
       "  <tbody>\n",
       "    <tr>\n",
       "      <th>0</th>\n",
       "      <td>São Paulo</td>\n",
       "      <td>70</td>\n",
       "      <td>2</td>\n",
       "      <td>1</td>\n",
       "      <td>1</td>\n",
       "      <td>7</td>\n",
       "      <td>acept</td>\n",
       "      <td>furnished</td>\n",
       "      <td>2065</td>\n",
       "      <td>3300</td>\n",
       "      <td>211</td>\n",
       "      <td>42</td>\n",
       "      <td>5618</td>\n",
       "    </tr>\n",
       "    <tr>\n",
       "      <th>1</th>\n",
       "      <td>São Paulo</td>\n",
       "      <td>320</td>\n",
       "      <td>4</td>\n",
       "      <td>4</td>\n",
       "      <td>0</td>\n",
       "      <td>20</td>\n",
       "      <td>acept</td>\n",
       "      <td>not furnished</td>\n",
       "      <td>1200</td>\n",
       "      <td>4960</td>\n",
       "      <td>1750</td>\n",
       "      <td>63</td>\n",
       "      <td>7973</td>\n",
       "    </tr>\n",
       "    <tr>\n",
       "      <th>2</th>\n",
       "      <td>Porto Alegre</td>\n",
       "      <td>80</td>\n",
       "      <td>1</td>\n",
       "      <td>1</td>\n",
       "      <td>1</td>\n",
       "      <td>6</td>\n",
       "      <td>acept</td>\n",
       "      <td>not furnished</td>\n",
       "      <td>1000</td>\n",
       "      <td>2800</td>\n",
       "      <td>0</td>\n",
       "      <td>41</td>\n",
       "      <td>3841</td>\n",
       "    </tr>\n",
       "    <tr>\n",
       "      <th>3</th>\n",
       "      <td>Porto Alegre</td>\n",
       "      <td>51</td>\n",
       "      <td>2</td>\n",
       "      <td>1</td>\n",
       "      <td>0</td>\n",
       "      <td>2</td>\n",
       "      <td>acept</td>\n",
       "      <td>not furnished</td>\n",
       "      <td>270</td>\n",
       "      <td>1112</td>\n",
       "      <td>22</td>\n",
       "      <td>17</td>\n",
       "      <td>1421</td>\n",
       "    </tr>\n",
       "    <tr>\n",
       "      <th>4</th>\n",
       "      <td>São Paulo</td>\n",
       "      <td>25</td>\n",
       "      <td>1</td>\n",
       "      <td>1</td>\n",
       "      <td>0</td>\n",
       "      <td>1</td>\n",
       "      <td>not acept</td>\n",
       "      <td>not furnished</td>\n",
       "      <td>0</td>\n",
       "      <td>800</td>\n",
       "      <td>25</td>\n",
       "      <td>11</td>\n",
       "      <td>836</td>\n",
       "    </tr>\n",
       "  </tbody>\n",
       "</table>\n",
       "</div>"
      ],
      "text/plain": [
       "           city  area  rooms  bathroom  parking spaces floor     animal  \\\n",
       "0     São Paulo    70      2         1               1     7      acept   \n",
       "1     São Paulo   320      4         4               0    20      acept   \n",
       "2  Porto Alegre    80      1         1               1     6      acept   \n",
       "3  Porto Alegre    51      2         1               0     2      acept   \n",
       "4     São Paulo    25      1         1               0     1  not acept   \n",
       "\n",
       "       furniture  hoa (R$)  rent amount (R$)  property tax (R$)  \\\n",
       "0      furnished      2065              3300                211   \n",
       "1  not furnished      1200              4960               1750   \n",
       "2  not furnished      1000              2800                  0   \n",
       "3  not furnished       270              1112                 22   \n",
       "4  not furnished         0               800                 25   \n",
       "\n",
       "   fire insurance (R$)  total (R$)  \n",
       "0                   42        5618  \n",
       "1                   63        7973  \n",
       "2                   41        3841  \n",
       "3                   17        1421  \n",
       "4                   11         836  "
      ]
     },
     "execution_count": 4,
     "metadata": {},
     "output_type": "execute_result"
    }
   ],
   "source": [
    "# Visualização prévia dos dados\n",
    "dados.head()"
   ]
  },
  {
   "cell_type": "markdown",
   "id": "4688c97e-c6bf-4470-88c4-59282bae7e11",
   "metadata": {},
   "source": [
    "Da esquerda para a direita temos as seguintes colunas: city (cidade onde o imóvel está localizada), area (área do imóvel), rooms (número de quartos), bathroom (número de banheiros), parking spaces (número de vagas de garagem), floor (andar), animal (aceita animais?), furniture (mobilhada?), hoa (valor do condomínio), rent amount (valor do aluguel), property tax (IPTU), fire insurance (seguro contra incêndio), total (total a ser pago, hoa + rent + tax + fire)."
   ]
  },
  {
   "cell_type": "code",
   "execution_count": 5,
   "id": "ca5c61d3-492e-46d8-bab7-49bcc2cd1819",
   "metadata": {},
   "outputs": [],
   "source": [
    "# Removeremos a fire insurance e coluna total, pois ela não nos interessa para o treinamendo do modelo, queremos prever o valor do aluguel (rent amount)\n",
    "dados.drop(columns=['fire insurance (R$)','total (R$)'], inplace=True)"
   ]
  },
  {
   "cell_type": "code",
   "execution_count": 6,
   "id": "0b871004-cc50-45ab-bbde-42868f8dd948",
   "metadata": {},
   "outputs": [
    {
     "data": {
      "text/plain": [
       "(10692, 11)"
      ]
     },
     "execution_count": 6,
     "metadata": {},
     "output_type": "execute_result"
    }
   ],
   "source": [
    "dados.shape"
   ]
  },
  {
   "cell_type": "code",
   "execution_count": 7,
   "id": "a0d6617f-fd11-4873-a385-78f7f4c9c643",
   "metadata": {},
   "outputs": [
    {
     "data": {
      "text/html": [
       "<div>\n",
       "<style scoped>\n",
       "    .dataframe tbody tr th:only-of-type {\n",
       "        vertical-align: middle;\n",
       "    }\n",
       "\n",
       "    .dataframe tbody tr th {\n",
       "        vertical-align: top;\n",
       "    }\n",
       "\n",
       "    .dataframe thead th {\n",
       "        text-align: right;\n",
       "    }\n",
       "</style>\n",
       "<table border=\"1\" class=\"dataframe\">\n",
       "  <thead>\n",
       "    <tr style=\"text-align: right;\">\n",
       "      <th></th>\n",
       "      <th>city</th>\n",
       "      <th>area</th>\n",
       "      <th>rooms</th>\n",
       "      <th>bathroom</th>\n",
       "      <th>parking spaces</th>\n",
       "      <th>floor</th>\n",
       "      <th>animal</th>\n",
       "      <th>furniture</th>\n",
       "      <th>hoa (R$)</th>\n",
       "      <th>rent amount (R$)</th>\n",
       "      <th>property tax (R$)</th>\n",
       "    </tr>\n",
       "  </thead>\n",
       "  <tbody>\n",
       "    <tr>\n",
       "      <th>0</th>\n",
       "      <td>São Paulo</td>\n",
       "      <td>70</td>\n",
       "      <td>2</td>\n",
       "      <td>1</td>\n",
       "      <td>1</td>\n",
       "      <td>7</td>\n",
       "      <td>acept</td>\n",
       "      <td>furnished</td>\n",
       "      <td>2065</td>\n",
       "      <td>3300</td>\n",
       "      <td>211</td>\n",
       "    </tr>\n",
       "    <tr>\n",
       "      <th>1</th>\n",
       "      <td>São Paulo</td>\n",
       "      <td>320</td>\n",
       "      <td>4</td>\n",
       "      <td>4</td>\n",
       "      <td>0</td>\n",
       "      <td>20</td>\n",
       "      <td>acept</td>\n",
       "      <td>not furnished</td>\n",
       "      <td>1200</td>\n",
       "      <td>4960</td>\n",
       "      <td>1750</td>\n",
       "    </tr>\n",
       "    <tr>\n",
       "      <th>2</th>\n",
       "      <td>Porto Alegre</td>\n",
       "      <td>80</td>\n",
       "      <td>1</td>\n",
       "      <td>1</td>\n",
       "      <td>1</td>\n",
       "      <td>6</td>\n",
       "      <td>acept</td>\n",
       "      <td>not furnished</td>\n",
       "      <td>1000</td>\n",
       "      <td>2800</td>\n",
       "      <td>0</td>\n",
       "    </tr>\n",
       "    <tr>\n",
       "      <th>3</th>\n",
       "      <td>Porto Alegre</td>\n",
       "      <td>51</td>\n",
       "      <td>2</td>\n",
       "      <td>1</td>\n",
       "      <td>0</td>\n",
       "      <td>2</td>\n",
       "      <td>acept</td>\n",
       "      <td>not furnished</td>\n",
       "      <td>270</td>\n",
       "      <td>1112</td>\n",
       "      <td>22</td>\n",
       "    </tr>\n",
       "    <tr>\n",
       "      <th>4</th>\n",
       "      <td>São Paulo</td>\n",
       "      <td>25</td>\n",
       "      <td>1</td>\n",
       "      <td>1</td>\n",
       "      <td>0</td>\n",
       "      <td>1</td>\n",
       "      <td>not acept</td>\n",
       "      <td>not furnished</td>\n",
       "      <td>0</td>\n",
       "      <td>800</td>\n",
       "      <td>25</td>\n",
       "    </tr>\n",
       "    <tr>\n",
       "      <th>...</th>\n",
       "      <td>...</td>\n",
       "      <td>...</td>\n",
       "      <td>...</td>\n",
       "      <td>...</td>\n",
       "      <td>...</td>\n",
       "      <td>...</td>\n",
       "      <td>...</td>\n",
       "      <td>...</td>\n",
       "      <td>...</td>\n",
       "      <td>...</td>\n",
       "      <td>...</td>\n",
       "    </tr>\n",
       "    <tr>\n",
       "      <th>10687</th>\n",
       "      <td>Porto Alegre</td>\n",
       "      <td>63</td>\n",
       "      <td>2</td>\n",
       "      <td>1</td>\n",
       "      <td>1</td>\n",
       "      <td>5</td>\n",
       "      <td>not acept</td>\n",
       "      <td>furnished</td>\n",
       "      <td>402</td>\n",
       "      <td>1478</td>\n",
       "      <td>24</td>\n",
       "    </tr>\n",
       "    <tr>\n",
       "      <th>10688</th>\n",
       "      <td>São Paulo</td>\n",
       "      <td>285</td>\n",
       "      <td>4</td>\n",
       "      <td>4</td>\n",
       "      <td>4</td>\n",
       "      <td>17</td>\n",
       "      <td>acept</td>\n",
       "      <td>not furnished</td>\n",
       "      <td>3100</td>\n",
       "      <td>15000</td>\n",
       "      <td>973</td>\n",
       "    </tr>\n",
       "    <tr>\n",
       "      <th>10689</th>\n",
       "      <td>Rio de Janeiro</td>\n",
       "      <td>70</td>\n",
       "      <td>3</td>\n",
       "      <td>3</td>\n",
       "      <td>0</td>\n",
       "      <td>8</td>\n",
       "      <td>not acept</td>\n",
       "      <td>furnished</td>\n",
       "      <td>980</td>\n",
       "      <td>6000</td>\n",
       "      <td>332</td>\n",
       "    </tr>\n",
       "    <tr>\n",
       "      <th>10690</th>\n",
       "      <td>Rio de Janeiro</td>\n",
       "      <td>120</td>\n",
       "      <td>2</td>\n",
       "      <td>2</td>\n",
       "      <td>2</td>\n",
       "      <td>8</td>\n",
       "      <td>acept</td>\n",
       "      <td>furnished</td>\n",
       "      <td>1585</td>\n",
       "      <td>12000</td>\n",
       "      <td>279</td>\n",
       "    </tr>\n",
       "    <tr>\n",
       "      <th>10691</th>\n",
       "      <td>São Paulo</td>\n",
       "      <td>80</td>\n",
       "      <td>2</td>\n",
       "      <td>1</td>\n",
       "      <td>0</td>\n",
       "      <td>-</td>\n",
       "      <td>acept</td>\n",
       "      <td>not furnished</td>\n",
       "      <td>0</td>\n",
       "      <td>1400</td>\n",
       "      <td>165</td>\n",
       "    </tr>\n",
       "  </tbody>\n",
       "</table>\n",
       "<p>10692 rows × 11 columns</p>\n",
       "</div>"
      ],
      "text/plain": [
       "                 city  area  rooms  bathroom  parking spaces floor     animal  \\\n",
       "0           São Paulo    70      2         1               1     7      acept   \n",
       "1           São Paulo   320      4         4               0    20      acept   \n",
       "2        Porto Alegre    80      1         1               1     6      acept   \n",
       "3        Porto Alegre    51      2         1               0     2      acept   \n",
       "4           São Paulo    25      1         1               0     1  not acept   \n",
       "...               ...   ...    ...       ...             ...   ...        ...   \n",
       "10687    Porto Alegre    63      2         1               1     5  not acept   \n",
       "10688       São Paulo   285      4         4               4    17      acept   \n",
       "10689  Rio de Janeiro    70      3         3               0     8  not acept   \n",
       "10690  Rio de Janeiro   120      2         2               2     8      acept   \n",
       "10691       São Paulo    80      2         1               0     -      acept   \n",
       "\n",
       "           furniture  hoa (R$)  rent amount (R$)  property tax (R$)  \n",
       "0          furnished      2065              3300                211  \n",
       "1      not furnished      1200              4960               1750  \n",
       "2      not furnished      1000              2800                  0  \n",
       "3      not furnished       270              1112                 22  \n",
       "4      not furnished         0               800                 25  \n",
       "...              ...       ...               ...                ...  \n",
       "10687      furnished       402              1478                 24  \n",
       "10688  not furnished      3100             15000                973  \n",
       "10689      furnished       980              6000                332  \n",
       "10690      furnished      1585             12000                279  \n",
       "10691  not furnished         0              1400                165  \n",
       "\n",
       "[10692 rows x 11 columns]"
      ]
     },
     "execution_count": 7,
     "metadata": {},
     "output_type": "execute_result"
    }
   ],
   "source": [
    "dados"
   ]
  },
  {
   "cell_type": "code",
   "execution_count": 8,
   "id": "970b1da3-fd46-480d-a689-3dc1b1aea133",
   "metadata": {},
   "outputs": [
    {
     "data": {
      "text/plain": [
       "city                 0\n",
       "area                 0\n",
       "rooms                0\n",
       "bathroom             0\n",
       "parking spaces       0\n",
       "floor                0\n",
       "animal               0\n",
       "furniture            0\n",
       "hoa (R$)             0\n",
       "rent amount (R$)     0\n",
       "property tax (R$)    0\n",
       "dtype: int64"
      ]
     },
     "execution_count": 8,
     "metadata": {},
     "output_type": "execute_result"
    }
   ],
   "source": [
    "# Campos vazios\n",
    "dados.isnull().sum()"
   ]
  },
  {
   "cell_type": "markdown",
   "id": "05ff523f-f14e-4ff8-af5e-2e98f7b28b5f",
   "metadata": {},
   "source": [
    "Os dados não apresenta campos vazios"
   ]
  },
  {
   "cell_type": "code",
   "execution_count": 9,
   "id": "0ac9221f-08a9-43e6-b9e3-493af44db040",
   "metadata": {},
   "outputs": [
    {
     "data": {
      "text/plain": [
       "360"
      ]
     },
     "execution_count": 9,
     "metadata": {},
     "output_type": "execute_result"
    }
   ],
   "source": [
    "# Visualizando dados duplicados\n",
    "dados.duplicated().sum()"
   ]
  },
  {
   "cell_type": "markdown",
   "id": "1e2dc28e-9dfd-4279-afd5-67dd33f35258",
   "metadata": {},
   "source": [
    "Podemos observar que temos um total de 358 entradas de dados duplicadas, o interressando que elas sejam excluidas para não \"atrapalhar\" no treinamento do modelo."
   ]
  },
  {
   "cell_type": "code",
   "execution_count": 10,
   "id": "3a6802f4-9362-4580-ae1a-825711cb16ff",
   "metadata": {},
   "outputs": [
    {
     "data": {
      "text/html": [
       "<div>\n",
       "<style scoped>\n",
       "    .dataframe tbody tr th:only-of-type {\n",
       "        vertical-align: middle;\n",
       "    }\n",
       "\n",
       "    .dataframe tbody tr th {\n",
       "        vertical-align: top;\n",
       "    }\n",
       "\n",
       "    .dataframe thead th {\n",
       "        text-align: right;\n",
       "    }\n",
       "</style>\n",
       "<table border=\"1\" class=\"dataframe\">\n",
       "  <thead>\n",
       "    <tr style=\"text-align: right;\">\n",
       "      <th></th>\n",
       "      <th>city</th>\n",
       "      <th>area</th>\n",
       "      <th>rooms</th>\n",
       "      <th>bathroom</th>\n",
       "      <th>parking spaces</th>\n",
       "      <th>floor</th>\n",
       "      <th>animal</th>\n",
       "      <th>furniture</th>\n",
       "      <th>hoa (R$)</th>\n",
       "      <th>rent amount (R$)</th>\n",
       "      <th>property tax (R$)</th>\n",
       "    </tr>\n",
       "  </thead>\n",
       "  <tbody>\n",
       "    <tr>\n",
       "      <th>244</th>\n",
       "      <td>Porto Alegre</td>\n",
       "      <td>47</td>\n",
       "      <td>1</td>\n",
       "      <td>1</td>\n",
       "      <td>1</td>\n",
       "      <td>1</td>\n",
       "      <td>not acept</td>\n",
       "      <td>furnished</td>\n",
       "      <td>400</td>\n",
       "      <td>2200</td>\n",
       "      <td>0</td>\n",
       "    </tr>\n",
       "    <tr>\n",
       "      <th>920</th>\n",
       "      <td>Belo Horizonte</td>\n",
       "      <td>40</td>\n",
       "      <td>1</td>\n",
       "      <td>1</td>\n",
       "      <td>1</td>\n",
       "      <td>2</td>\n",
       "      <td>not acept</td>\n",
       "      <td>furnished</td>\n",
       "      <td>0</td>\n",
       "      <td>970</td>\n",
       "      <td>0</td>\n",
       "    </tr>\n",
       "    <tr>\n",
       "      <th>1060</th>\n",
       "      <td>São Paulo</td>\n",
       "      <td>136</td>\n",
       "      <td>3</td>\n",
       "      <td>3</td>\n",
       "      <td>3</td>\n",
       "      <td>13</td>\n",
       "      <td>acept</td>\n",
       "      <td>not furnished</td>\n",
       "      <td>1430</td>\n",
       "      <td>4206</td>\n",
       "      <td>364</td>\n",
       "    </tr>\n",
       "    <tr>\n",
       "      <th>1064</th>\n",
       "      <td>São Paulo</td>\n",
       "      <td>20</td>\n",
       "      <td>1</td>\n",
       "      <td>1</td>\n",
       "      <td>0</td>\n",
       "      <td>5</td>\n",
       "      <td>acept</td>\n",
       "      <td>furnished</td>\n",
       "      <td>602</td>\n",
       "      <td>1800</td>\n",
       "      <td>130</td>\n",
       "    </tr>\n",
       "    <tr>\n",
       "      <th>1108</th>\n",
       "      <td>Campinas</td>\n",
       "      <td>184</td>\n",
       "      <td>4</td>\n",
       "      <td>3</td>\n",
       "      <td>4</td>\n",
       "      <td>-</td>\n",
       "      <td>acept</td>\n",
       "      <td>not furnished</td>\n",
       "      <td>0</td>\n",
       "      <td>3240</td>\n",
       "      <td>220</td>\n",
       "    </tr>\n",
       "    <tr>\n",
       "      <th>...</th>\n",
       "      <td>...</td>\n",
       "      <td>...</td>\n",
       "      <td>...</td>\n",
       "      <td>...</td>\n",
       "      <td>...</td>\n",
       "      <td>...</td>\n",
       "      <td>...</td>\n",
       "      <td>...</td>\n",
       "      <td>...</td>\n",
       "      <td>...</td>\n",
       "      <td>...</td>\n",
       "    </tr>\n",
       "    <tr>\n",
       "      <th>10569</th>\n",
       "      <td>Belo Horizonte</td>\n",
       "      <td>20</td>\n",
       "      <td>1</td>\n",
       "      <td>1</td>\n",
       "      <td>1</td>\n",
       "      <td>-</td>\n",
       "      <td>acept</td>\n",
       "      <td>furnished</td>\n",
       "      <td>0</td>\n",
       "      <td>1100</td>\n",
       "      <td>0</td>\n",
       "    </tr>\n",
       "    <tr>\n",
       "      <th>10579</th>\n",
       "      <td>São Paulo</td>\n",
       "      <td>30</td>\n",
       "      <td>1</td>\n",
       "      <td>1</td>\n",
       "      <td>0</td>\n",
       "      <td>-</td>\n",
       "      <td>not acept</td>\n",
       "      <td>not furnished</td>\n",
       "      <td>0</td>\n",
       "      <td>1000</td>\n",
       "      <td>0</td>\n",
       "    </tr>\n",
       "    <tr>\n",
       "      <th>10623</th>\n",
       "      <td>Porto Alegre</td>\n",
       "      <td>47</td>\n",
       "      <td>1</td>\n",
       "      <td>1</td>\n",
       "      <td>1</td>\n",
       "      <td>1</td>\n",
       "      <td>not acept</td>\n",
       "      <td>furnished</td>\n",
       "      <td>400</td>\n",
       "      <td>2200</td>\n",
       "      <td>0</td>\n",
       "    </tr>\n",
       "    <tr>\n",
       "      <th>10640</th>\n",
       "      <td>São Paulo</td>\n",
       "      <td>27</td>\n",
       "      <td>1</td>\n",
       "      <td>1</td>\n",
       "      <td>0</td>\n",
       "      <td>5</td>\n",
       "      <td>not acept</td>\n",
       "      <td>not furnished</td>\n",
       "      <td>1405</td>\n",
       "      <td>3500</td>\n",
       "      <td>1</td>\n",
       "    </tr>\n",
       "    <tr>\n",
       "      <th>10641</th>\n",
       "      <td>Belo Horizonte</td>\n",
       "      <td>58</td>\n",
       "      <td>2</td>\n",
       "      <td>2</td>\n",
       "      <td>1</td>\n",
       "      <td>5</td>\n",
       "      <td>acept</td>\n",
       "      <td>not furnished</td>\n",
       "      <td>400</td>\n",
       "      <td>999</td>\n",
       "      <td>99</td>\n",
       "    </tr>\n",
       "  </tbody>\n",
       "</table>\n",
       "<p>360 rows × 11 columns</p>\n",
       "</div>"
      ],
      "text/plain": [
       "                 city  area  rooms  bathroom  parking spaces floor     animal  \\\n",
       "244      Porto Alegre    47      1         1               1     1  not acept   \n",
       "920    Belo Horizonte    40      1         1               1     2  not acept   \n",
       "1060        São Paulo   136      3         3               3    13      acept   \n",
       "1064        São Paulo    20      1         1               0     5      acept   \n",
       "1108         Campinas   184      4         3               4     -      acept   \n",
       "...               ...   ...    ...       ...             ...   ...        ...   \n",
       "10569  Belo Horizonte    20      1         1               1     -      acept   \n",
       "10579       São Paulo    30      1         1               0     -  not acept   \n",
       "10623    Porto Alegre    47      1         1               1     1  not acept   \n",
       "10640       São Paulo    27      1         1               0     5  not acept   \n",
       "10641  Belo Horizonte    58      2         2               1     5      acept   \n",
       "\n",
       "           furniture  hoa (R$)  rent amount (R$)  property tax (R$)  \n",
       "244        furnished       400              2200                  0  \n",
       "920        furnished         0               970                  0  \n",
       "1060   not furnished      1430              4206                364  \n",
       "1064       furnished       602              1800                130  \n",
       "1108   not furnished         0              3240                220  \n",
       "...              ...       ...               ...                ...  \n",
       "10569      furnished         0              1100                  0  \n",
       "10579  not furnished         0              1000                  0  \n",
       "10623      furnished       400              2200                  0  \n",
       "10640  not furnished      1405              3500                  1  \n",
       "10641  not furnished       400               999                 99  \n",
       "\n",
       "[360 rows x 11 columns]"
      ]
     },
     "execution_count": 10,
     "metadata": {},
     "output_type": "execute_result"
    }
   ],
   "source": [
    "dados[dados.duplicated()]"
   ]
  },
  {
   "cell_type": "code",
   "execution_count": 11,
   "id": "03c234d8-0b68-4d08-a71b-53cf356e5cea",
   "metadata": {},
   "outputs": [],
   "source": [
    "# Excluindo os dados duplicados\n",
    "dados = dados.drop_duplicates()"
   ]
  },
  {
   "cell_type": "code",
   "execution_count": 12,
   "id": "288dbbfc-ba8c-47cb-b005-8441b79ec2af",
   "metadata": {},
   "outputs": [
    {
     "data": {
      "text/html": [
       "<div>\n",
       "<style scoped>\n",
       "    .dataframe tbody tr th:only-of-type {\n",
       "        vertical-align: middle;\n",
       "    }\n",
       "\n",
       "    .dataframe tbody tr th {\n",
       "        vertical-align: top;\n",
       "    }\n",
       "\n",
       "    .dataframe thead th {\n",
       "        text-align: right;\n",
       "    }\n",
       "</style>\n",
       "<table border=\"1\" class=\"dataframe\">\n",
       "  <thead>\n",
       "    <tr style=\"text-align: right;\">\n",
       "      <th></th>\n",
       "      <th>city</th>\n",
       "      <th>area</th>\n",
       "      <th>rooms</th>\n",
       "      <th>bathroom</th>\n",
       "      <th>parking spaces</th>\n",
       "      <th>floor</th>\n",
       "      <th>animal</th>\n",
       "      <th>furniture</th>\n",
       "      <th>hoa (R$)</th>\n",
       "      <th>rent amount (R$)</th>\n",
       "      <th>property tax (R$)</th>\n",
       "    </tr>\n",
       "  </thead>\n",
       "  <tbody>\n",
       "    <tr>\n",
       "      <th>0</th>\n",
       "      <td>São Paulo</td>\n",
       "      <td>70</td>\n",
       "      <td>2</td>\n",
       "      <td>1</td>\n",
       "      <td>1</td>\n",
       "      <td>7</td>\n",
       "      <td>acept</td>\n",
       "      <td>furnished</td>\n",
       "      <td>2065</td>\n",
       "      <td>3300</td>\n",
       "      <td>211</td>\n",
       "    </tr>\n",
       "    <tr>\n",
       "      <th>1</th>\n",
       "      <td>São Paulo</td>\n",
       "      <td>320</td>\n",
       "      <td>4</td>\n",
       "      <td>4</td>\n",
       "      <td>0</td>\n",
       "      <td>20</td>\n",
       "      <td>acept</td>\n",
       "      <td>not furnished</td>\n",
       "      <td>1200</td>\n",
       "      <td>4960</td>\n",
       "      <td>1750</td>\n",
       "    </tr>\n",
       "    <tr>\n",
       "      <th>2</th>\n",
       "      <td>Porto Alegre</td>\n",
       "      <td>80</td>\n",
       "      <td>1</td>\n",
       "      <td>1</td>\n",
       "      <td>1</td>\n",
       "      <td>6</td>\n",
       "      <td>acept</td>\n",
       "      <td>not furnished</td>\n",
       "      <td>1000</td>\n",
       "      <td>2800</td>\n",
       "      <td>0</td>\n",
       "    </tr>\n",
       "    <tr>\n",
       "      <th>3</th>\n",
       "      <td>Porto Alegre</td>\n",
       "      <td>51</td>\n",
       "      <td>2</td>\n",
       "      <td>1</td>\n",
       "      <td>0</td>\n",
       "      <td>2</td>\n",
       "      <td>acept</td>\n",
       "      <td>not furnished</td>\n",
       "      <td>270</td>\n",
       "      <td>1112</td>\n",
       "      <td>22</td>\n",
       "    </tr>\n",
       "    <tr>\n",
       "      <th>4</th>\n",
       "      <td>São Paulo</td>\n",
       "      <td>25</td>\n",
       "      <td>1</td>\n",
       "      <td>1</td>\n",
       "      <td>0</td>\n",
       "      <td>1</td>\n",
       "      <td>not acept</td>\n",
       "      <td>not furnished</td>\n",
       "      <td>0</td>\n",
       "      <td>800</td>\n",
       "      <td>25</td>\n",
       "    </tr>\n",
       "    <tr>\n",
       "      <th>...</th>\n",
       "      <td>...</td>\n",
       "      <td>...</td>\n",
       "      <td>...</td>\n",
       "      <td>...</td>\n",
       "      <td>...</td>\n",
       "      <td>...</td>\n",
       "      <td>...</td>\n",
       "      <td>...</td>\n",
       "      <td>...</td>\n",
       "      <td>...</td>\n",
       "      <td>...</td>\n",
       "    </tr>\n",
       "    <tr>\n",
       "      <th>10687</th>\n",
       "      <td>Porto Alegre</td>\n",
       "      <td>63</td>\n",
       "      <td>2</td>\n",
       "      <td>1</td>\n",
       "      <td>1</td>\n",
       "      <td>5</td>\n",
       "      <td>not acept</td>\n",
       "      <td>furnished</td>\n",
       "      <td>402</td>\n",
       "      <td>1478</td>\n",
       "      <td>24</td>\n",
       "    </tr>\n",
       "    <tr>\n",
       "      <th>10688</th>\n",
       "      <td>São Paulo</td>\n",
       "      <td>285</td>\n",
       "      <td>4</td>\n",
       "      <td>4</td>\n",
       "      <td>4</td>\n",
       "      <td>17</td>\n",
       "      <td>acept</td>\n",
       "      <td>not furnished</td>\n",
       "      <td>3100</td>\n",
       "      <td>15000</td>\n",
       "      <td>973</td>\n",
       "    </tr>\n",
       "    <tr>\n",
       "      <th>10689</th>\n",
       "      <td>Rio de Janeiro</td>\n",
       "      <td>70</td>\n",
       "      <td>3</td>\n",
       "      <td>3</td>\n",
       "      <td>0</td>\n",
       "      <td>8</td>\n",
       "      <td>not acept</td>\n",
       "      <td>furnished</td>\n",
       "      <td>980</td>\n",
       "      <td>6000</td>\n",
       "      <td>332</td>\n",
       "    </tr>\n",
       "    <tr>\n",
       "      <th>10690</th>\n",
       "      <td>Rio de Janeiro</td>\n",
       "      <td>120</td>\n",
       "      <td>2</td>\n",
       "      <td>2</td>\n",
       "      <td>2</td>\n",
       "      <td>8</td>\n",
       "      <td>acept</td>\n",
       "      <td>furnished</td>\n",
       "      <td>1585</td>\n",
       "      <td>12000</td>\n",
       "      <td>279</td>\n",
       "    </tr>\n",
       "    <tr>\n",
       "      <th>10691</th>\n",
       "      <td>São Paulo</td>\n",
       "      <td>80</td>\n",
       "      <td>2</td>\n",
       "      <td>1</td>\n",
       "      <td>0</td>\n",
       "      <td>-</td>\n",
       "      <td>acept</td>\n",
       "      <td>not furnished</td>\n",
       "      <td>0</td>\n",
       "      <td>1400</td>\n",
       "      <td>165</td>\n",
       "    </tr>\n",
       "  </tbody>\n",
       "</table>\n",
       "<p>10332 rows × 11 columns</p>\n",
       "</div>"
      ],
      "text/plain": [
       "                 city  area  rooms  bathroom  parking spaces floor     animal  \\\n",
       "0           São Paulo    70      2         1               1     7      acept   \n",
       "1           São Paulo   320      4         4               0    20      acept   \n",
       "2        Porto Alegre    80      1         1               1     6      acept   \n",
       "3        Porto Alegre    51      2         1               0     2      acept   \n",
       "4           São Paulo    25      1         1               0     1  not acept   \n",
       "...               ...   ...    ...       ...             ...   ...        ...   \n",
       "10687    Porto Alegre    63      2         1               1     5  not acept   \n",
       "10688       São Paulo   285      4         4               4    17      acept   \n",
       "10689  Rio de Janeiro    70      3         3               0     8  not acept   \n",
       "10690  Rio de Janeiro   120      2         2               2     8      acept   \n",
       "10691       São Paulo    80      2         1               0     -      acept   \n",
       "\n",
       "           furniture  hoa (R$)  rent amount (R$)  property tax (R$)  \n",
       "0          furnished      2065              3300                211  \n",
       "1      not furnished      1200              4960               1750  \n",
       "2      not furnished      1000              2800                  0  \n",
       "3      not furnished       270              1112                 22  \n",
       "4      not furnished         0               800                 25  \n",
       "...              ...       ...               ...                ...  \n",
       "10687      furnished       402              1478                 24  \n",
       "10688  not furnished      3100             15000                973  \n",
       "10689      furnished       980              6000                332  \n",
       "10690      furnished      1585             12000                279  \n",
       "10691  not furnished         0              1400                165  \n",
       "\n",
       "[10332 rows x 11 columns]"
      ]
     },
     "execution_count": 12,
     "metadata": {},
     "output_type": "execute_result"
    }
   ],
   "source": [
    "dados"
   ]
  },
  {
   "cell_type": "code",
   "execution_count": 13,
   "id": "90343a64-5ab6-42e3-a6f4-9c26e52da408",
   "metadata": {},
   "outputs": [
    {
     "data": {
      "text/plain": [
       "city                    5\n",
       "area                  517\n",
       "rooms                  11\n",
       "bathroom               10\n",
       "parking spaces         11\n",
       "floor                  35\n",
       "animal                  2\n",
       "furniture               2\n",
       "hoa (R$)             1679\n",
       "rent amount (R$)     1195\n",
       "property tax (R$)    1243\n",
       "dtype: int64"
      ]
     },
     "execution_count": 13,
     "metadata": {},
     "output_type": "execute_result"
    }
   ],
   "source": [
    "# Campos únicos\n",
    "dados.nunique()"
   ]
  },
  {
   "cell_type": "code",
   "execution_count": 14,
   "id": "4bd15626-524e-4489-95f7-aad158db8259",
   "metadata": {},
   "outputs": [
    {
     "data": {
      "text/plain": [
       "city                 object\n",
       "area                  int64\n",
       "rooms                 int64\n",
       "bathroom              int64\n",
       "parking spaces        int64\n",
       "floor                object\n",
       "animal               object\n",
       "furniture            object\n",
       "hoa (R$)              int64\n",
       "rent amount (R$)      int64\n",
       "property tax (R$)     int64\n",
       "dtype: object"
      ]
     },
     "execution_count": 14,
     "metadata": {},
     "output_type": "execute_result"
    }
   ],
   "source": [
    "# tipos das colunas\n",
    "dados.dtypes"
   ]
  },
  {
   "cell_type": "markdown",
   "id": "547d0242-dd6e-48fa-b751-b0197e346e65",
   "metadata": {},
   "source": [
    "# Análise Exploratória de Dados (EDA)"
   ]
  },
  {
   "cell_type": "code",
   "execution_count": 15,
   "id": "57e8803b-ab58-43d4-8f26-5870596ada6b",
   "metadata": {},
   "outputs": [],
   "source": [
    "# Filtrando as colunas em numéricas e categóricas\n",
    "\n",
    "colunas_categoricas = dados.columns[dados.dtypes == object]\n",
    "colunas_numericas = dados.columns[dados.dtypes != object]"
   ]
  },
  {
   "cell_type": "code",
   "execution_count": 16,
   "id": "2b350b14-a902-42b1-96a3-ad4574df914a",
   "metadata": {},
   "outputs": [
    {
     "data": {
      "text/plain": [
       "Index(['city', 'floor', 'animal', 'furniture'], dtype='object')"
      ]
     },
     "execution_count": 16,
     "metadata": {},
     "output_type": "execute_result"
    }
   ],
   "source": [
    "# Categóricas\n",
    "colunas_categoricas"
   ]
  },
  {
   "cell_type": "code",
   "execution_count": 17,
   "id": "12442b75-e61e-4ee2-8580-b87b6e8ba925",
   "metadata": {},
   "outputs": [
    {
     "data": {
      "text/plain": [
       "Index(['area', 'rooms', 'bathroom', 'parking spaces', 'hoa (R$)',\n",
       "       'rent amount (R$)', 'property tax (R$)'],\n",
       "      dtype='object')"
      ]
     },
     "execution_count": 17,
     "metadata": {},
     "output_type": "execute_result"
    }
   ],
   "source": [
    "# Numéricas\n",
    "colunas_numericas"
   ]
  },
  {
   "cell_type": "markdown",
   "id": "efa7fba8-9c2d-4e79-92c0-a6401421f55d",
   "metadata": {},
   "source": [
    "### Análise dos campos categóricos"
   ]
  },
  {
   "cell_type": "code",
   "execution_count": 18,
   "id": "a50e99fd-dcfe-42ce-8fd4-dadb6348c885",
   "metadata": {},
   "outputs": [
    {
     "data": {
      "text/plain": [
       "São Paulo         55.313589\n",
       "Rio de Janeiro    13.850174\n",
       "Belo Horizonte    11.701510\n",
       "Porto Alegre      11.169183\n",
       "Campinas           7.965544\n",
       "Name: city, dtype: float64"
      ]
     },
     "execution_count": 18,
     "metadata": {},
     "output_type": "execute_result"
    }
   ],
   "source": [
    "# Mostrando quantos porcentos cada entrada única da coluna, tem dos dados totais.\n",
    "dados['city'].value_counts(normalize=True)*100"
   ]
  },
  {
   "cell_type": "markdown",
   "id": "975daa2a-104f-4243-aabe-b04a017122e6",
   "metadata": {},
   "source": [
    "Notamos que mais de 50% (55.32%) dos imovéis são na cidade de São Paulo"
   ]
  },
  {
   "cell_type": "code",
   "execution_count": 19,
   "id": "af63fbbc-9747-41af-ae65-70c341387c32",
   "metadata": {},
   "outputs": [
    {
     "name": "stdout",
     "output_type": "stream",
     "text": [
      "city \n",
      " São Paulo         55.313589\n",
      "Rio de Janeiro    13.850174\n",
      "Belo Horizonte    11.701510\n",
      "Porto Alegre      11.169183\n",
      "Campinas           7.965544\n",
      "Name: city, dtype: float64 \n",
      "\n",
      "floor \n",
      " -      22.928765\n",
      "1       9.678668\n",
      "2       9.214092\n",
      "3       8.662408\n",
      "4       7.036392\n",
      "5       5.613628\n",
      "6       5.129694\n",
      "7       4.723190\n",
      "8       4.703833\n",
      "9       3.484321\n",
      "10      3.406891\n",
      "11      2.864886\n",
      "12      2.468060\n",
      "13      1.887340\n",
      "14      1.626016\n",
      "15      1.384050\n",
      "16      1.045296\n",
      "17      0.919473\n",
      "18      0.716221\n",
      "19      0.512969\n",
      "20      0.416183\n",
      "21      0.406504\n",
      "22      0.232288\n",
      "23      0.222609\n",
      "25      0.183895\n",
      "24      0.174216\n",
      "26      0.125823\n",
      "27      0.077429\n",
      "28      0.048393\n",
      "29      0.048393\n",
      "32      0.019357\n",
      "35      0.009679\n",
      "46      0.009679\n",
      "301     0.009679\n",
      "51      0.009679\n",
      "Name: floor, dtype: float64 \n",
      "\n",
      "animal \n",
      " acept        78.164925\n",
      "not acept    21.835075\n",
      "Name: animal, dtype: float64 \n",
      "\n",
      "furniture \n",
      " not furnished    75.658149\n",
      "furnished        24.341851\n",
      "Name: furniture, dtype: float64 \n",
      "\n"
     ]
    }
   ],
   "source": [
    "# Fazendo a mesma análise percentual para todas as colunas categóricas\n",
    "for col in colunas_categoricas:\n",
    "    analise = dados[col].value_counts(normalize=True)*100\n",
    "    print(col, '\\n', analise, '\\n')"
   ]
  },
  {
   "cell_type": "markdown",
   "id": "d081fd0f-e024-4ade-9faa-6c18c642f24e",
   "metadata": {},
   "source": [
    "### Observações:\n",
    "\n",
    "* Na coluna floor (número de andares, temos uma entrada simbolizada por um tracinho (-), correspondendo a quase 23% dos dados. Não temos informações sobre o que seja, pode ser que represente o térreo, ou seja, sejam casas e não prédios/apartamentos. Com isso, subtituiremos esse simpleo pelo número 0, simbolizando um imóvel no térreo.\n",
    "* Ainda na coluna floor, podemos ver que temos um imóvel no 301º andar, possivelmente também foi um erro na inserção do dado, pode ser que seja o 30º andar, ou seja, também iremos fazer essa mudança."
   ]
  },
  {
   "cell_type": "code",
   "execution_count": 20,
   "id": "195fea97-94b8-4dca-a589-8477cc7f3102",
   "metadata": {},
   "outputs": [
    {
     "data": {
      "text/html": [
       "<div>\n",
       "<style scoped>\n",
       "    .dataframe tbody tr th:only-of-type {\n",
       "        vertical-align: middle;\n",
       "    }\n",
       "\n",
       "    .dataframe tbody tr th {\n",
       "        vertical-align: top;\n",
       "    }\n",
       "\n",
       "    .dataframe thead th {\n",
       "        text-align: right;\n",
       "    }\n",
       "</style>\n",
       "<table border=\"1\" class=\"dataframe\">\n",
       "  <thead>\n",
       "    <tr style=\"text-align: right;\">\n",
       "      <th></th>\n",
       "      <th>city</th>\n",
       "      <th>area</th>\n",
       "      <th>rooms</th>\n",
       "      <th>bathroom</th>\n",
       "      <th>parking spaces</th>\n",
       "      <th>floor</th>\n",
       "      <th>animal</th>\n",
       "      <th>furniture</th>\n",
       "      <th>hoa (R$)</th>\n",
       "      <th>rent amount (R$)</th>\n",
       "      <th>property tax (R$)</th>\n",
       "    </tr>\n",
       "  </thead>\n",
       "  <tbody>\n",
       "    <tr>\n",
       "      <th>2562</th>\n",
       "      <td>Belo Horizonte</td>\n",
       "      <td>80</td>\n",
       "      <td>3</td>\n",
       "      <td>2</td>\n",
       "      <td>2</td>\n",
       "      <td>301</td>\n",
       "      <td>acept</td>\n",
       "      <td>not furnished</td>\n",
       "      <td>750</td>\n",
       "      <td>2600</td>\n",
       "      <td>164</td>\n",
       "    </tr>\n",
       "  </tbody>\n",
       "</table>\n",
       "</div>"
      ],
      "text/plain": [
       "                city  area  rooms  bathroom  parking spaces floor animal  \\\n",
       "2562  Belo Horizonte    80      3         2               2   301  acept   \n",
       "\n",
       "          furniture  hoa (R$)  rent amount (R$)  property tax (R$)  \n",
       "2562  not furnished       750              2600                164  "
      ]
     },
     "execution_count": 20,
     "metadata": {},
     "output_type": "execute_result"
    }
   ],
   "source": [
    "# Correção dos dados da coluna floor\n",
    "\n",
    "# Ajustando o imóvel do 310º andar \n",
    "\n",
    "dados.loc[dados['floor'] == '301']"
   ]
  },
  {
   "cell_type": "code",
   "execution_count": 21,
   "id": "66de1906-4fd4-42f6-adbf-45d07ef2685d",
   "metadata": {},
   "outputs": [],
   "source": [
    "dados.iloc[2562, 5] = '30'"
   ]
  },
  {
   "cell_type": "code",
   "execution_count": 22,
   "id": "a4732373-1c56-4a12-9197-d468cee9d3cf",
   "metadata": {},
   "outputs": [],
   "source": [
    "# Ajustando o tracinhos '-' para '0'\n",
    "\n",
    "dados['floor'] = dados['floor'].apply(lambda registro: 0 if registro == '-' else registro)"
   ]
  },
  {
   "cell_type": "code",
   "execution_count": 23,
   "id": "b0c6f7f6-39c5-4acd-b511-7480d0494de5",
   "metadata": {},
   "outputs": [
    {
     "data": {
      "text/html": [
       "<div>\n",
       "<style scoped>\n",
       "    .dataframe tbody tr th:only-of-type {\n",
       "        vertical-align: middle;\n",
       "    }\n",
       "\n",
       "    .dataframe tbody tr th {\n",
       "        vertical-align: top;\n",
       "    }\n",
       "\n",
       "    .dataframe thead th {\n",
       "        text-align: right;\n",
       "    }\n",
       "</style>\n",
       "<table border=\"1\" class=\"dataframe\">\n",
       "  <thead>\n",
       "    <tr style=\"text-align: right;\">\n",
       "      <th></th>\n",
       "      <th>city</th>\n",
       "      <th>area</th>\n",
       "      <th>rooms</th>\n",
       "      <th>bathroom</th>\n",
       "      <th>parking spaces</th>\n",
       "      <th>floor</th>\n",
       "      <th>animal</th>\n",
       "      <th>furniture</th>\n",
       "      <th>hoa (R$)</th>\n",
       "      <th>rent amount (R$)</th>\n",
       "      <th>property tax (R$)</th>\n",
       "    </tr>\n",
       "  </thead>\n",
       "  <tbody>\n",
       "    <tr>\n",
       "      <th>0</th>\n",
       "      <td>São Paulo</td>\n",
       "      <td>70</td>\n",
       "      <td>2</td>\n",
       "      <td>1</td>\n",
       "      <td>1</td>\n",
       "      <td>7</td>\n",
       "      <td>acept</td>\n",
       "      <td>furnished</td>\n",
       "      <td>2065</td>\n",
       "      <td>3300</td>\n",
       "      <td>211</td>\n",
       "    </tr>\n",
       "    <tr>\n",
       "      <th>1</th>\n",
       "      <td>São Paulo</td>\n",
       "      <td>320</td>\n",
       "      <td>4</td>\n",
       "      <td>4</td>\n",
       "      <td>0</td>\n",
       "      <td>20</td>\n",
       "      <td>acept</td>\n",
       "      <td>not furnished</td>\n",
       "      <td>1200</td>\n",
       "      <td>4960</td>\n",
       "      <td>1750</td>\n",
       "    </tr>\n",
       "    <tr>\n",
       "      <th>2</th>\n",
       "      <td>Porto Alegre</td>\n",
       "      <td>80</td>\n",
       "      <td>1</td>\n",
       "      <td>1</td>\n",
       "      <td>1</td>\n",
       "      <td>6</td>\n",
       "      <td>acept</td>\n",
       "      <td>not furnished</td>\n",
       "      <td>1000</td>\n",
       "      <td>2800</td>\n",
       "      <td>0</td>\n",
       "    </tr>\n",
       "    <tr>\n",
       "      <th>3</th>\n",
       "      <td>Porto Alegre</td>\n",
       "      <td>51</td>\n",
       "      <td>2</td>\n",
       "      <td>1</td>\n",
       "      <td>0</td>\n",
       "      <td>2</td>\n",
       "      <td>acept</td>\n",
       "      <td>not furnished</td>\n",
       "      <td>270</td>\n",
       "      <td>1112</td>\n",
       "      <td>22</td>\n",
       "    </tr>\n",
       "    <tr>\n",
       "      <th>4</th>\n",
       "      <td>São Paulo</td>\n",
       "      <td>25</td>\n",
       "      <td>1</td>\n",
       "      <td>1</td>\n",
       "      <td>0</td>\n",
       "      <td>1</td>\n",
       "      <td>not acept</td>\n",
       "      <td>not furnished</td>\n",
       "      <td>0</td>\n",
       "      <td>800</td>\n",
       "      <td>25</td>\n",
       "    </tr>\n",
       "    <tr>\n",
       "      <th>...</th>\n",
       "      <td>...</td>\n",
       "      <td>...</td>\n",
       "      <td>...</td>\n",
       "      <td>...</td>\n",
       "      <td>...</td>\n",
       "      <td>...</td>\n",
       "      <td>...</td>\n",
       "      <td>...</td>\n",
       "      <td>...</td>\n",
       "      <td>...</td>\n",
       "      <td>...</td>\n",
       "    </tr>\n",
       "    <tr>\n",
       "      <th>10687</th>\n",
       "      <td>Porto Alegre</td>\n",
       "      <td>63</td>\n",
       "      <td>2</td>\n",
       "      <td>1</td>\n",
       "      <td>1</td>\n",
       "      <td>5</td>\n",
       "      <td>not acept</td>\n",
       "      <td>furnished</td>\n",
       "      <td>402</td>\n",
       "      <td>1478</td>\n",
       "      <td>24</td>\n",
       "    </tr>\n",
       "    <tr>\n",
       "      <th>10688</th>\n",
       "      <td>São Paulo</td>\n",
       "      <td>285</td>\n",
       "      <td>4</td>\n",
       "      <td>4</td>\n",
       "      <td>4</td>\n",
       "      <td>17</td>\n",
       "      <td>acept</td>\n",
       "      <td>not furnished</td>\n",
       "      <td>3100</td>\n",
       "      <td>15000</td>\n",
       "      <td>973</td>\n",
       "    </tr>\n",
       "    <tr>\n",
       "      <th>10689</th>\n",
       "      <td>Rio de Janeiro</td>\n",
       "      <td>70</td>\n",
       "      <td>3</td>\n",
       "      <td>3</td>\n",
       "      <td>0</td>\n",
       "      <td>8</td>\n",
       "      <td>not acept</td>\n",
       "      <td>furnished</td>\n",
       "      <td>980</td>\n",
       "      <td>6000</td>\n",
       "      <td>332</td>\n",
       "    </tr>\n",
       "    <tr>\n",
       "      <th>10690</th>\n",
       "      <td>Rio de Janeiro</td>\n",
       "      <td>120</td>\n",
       "      <td>2</td>\n",
       "      <td>2</td>\n",
       "      <td>2</td>\n",
       "      <td>8</td>\n",
       "      <td>acept</td>\n",
       "      <td>furnished</td>\n",
       "      <td>1585</td>\n",
       "      <td>12000</td>\n",
       "      <td>279</td>\n",
       "    </tr>\n",
       "    <tr>\n",
       "      <th>10691</th>\n",
       "      <td>São Paulo</td>\n",
       "      <td>80</td>\n",
       "      <td>2</td>\n",
       "      <td>1</td>\n",
       "      <td>0</td>\n",
       "      <td>0</td>\n",
       "      <td>acept</td>\n",
       "      <td>not furnished</td>\n",
       "      <td>0</td>\n",
       "      <td>1400</td>\n",
       "      <td>165</td>\n",
       "    </tr>\n",
       "  </tbody>\n",
       "</table>\n",
       "<p>10332 rows × 11 columns</p>\n",
       "</div>"
      ],
      "text/plain": [
       "                 city  area  rooms  bathroom  parking spaces floor     animal  \\\n",
       "0           São Paulo    70      2         1               1     7      acept   \n",
       "1           São Paulo   320      4         4               0    20      acept   \n",
       "2        Porto Alegre    80      1         1               1     6      acept   \n",
       "3        Porto Alegre    51      2         1               0     2      acept   \n",
       "4           São Paulo    25      1         1               0     1  not acept   \n",
       "...               ...   ...    ...       ...             ...   ...        ...   \n",
       "10687    Porto Alegre    63      2         1               1     5  not acept   \n",
       "10688       São Paulo   285      4         4               4    17      acept   \n",
       "10689  Rio de Janeiro    70      3         3               0     8  not acept   \n",
       "10690  Rio de Janeiro   120      2         2               2     8      acept   \n",
       "10691       São Paulo    80      2         1               0     0      acept   \n",
       "\n",
       "           furniture  hoa (R$)  rent amount (R$)  property tax (R$)  \n",
       "0          furnished      2065              3300                211  \n",
       "1      not furnished      1200              4960               1750  \n",
       "2      not furnished      1000              2800                  0  \n",
       "3      not furnished       270              1112                 22  \n",
       "4      not furnished         0               800                 25  \n",
       "...              ...       ...               ...                ...  \n",
       "10687      furnished       402              1478                 24  \n",
       "10688  not furnished      3100             15000                973  \n",
       "10689      furnished       980              6000                332  \n",
       "10690      furnished      1585             12000                279  \n",
       "10691  not furnished         0              1400                165  \n",
       "\n",
       "[10332 rows x 11 columns]"
      ]
     },
     "execution_count": 23,
     "metadata": {},
     "output_type": "execute_result"
    }
   ],
   "source": [
    "dados"
   ]
  },
  {
   "cell_type": "code",
   "execution_count": 24,
   "id": "331b17ed-2f3e-4436-8053-52dc46dd0aba",
   "metadata": {},
   "outputs": [
    {
     "data": {
      "text/plain": [
       "city                 object\n",
       "area                  int64\n",
       "rooms                 int64\n",
       "bathroom              int64\n",
       "parking spaces        int64\n",
       "floor                object\n",
       "animal               object\n",
       "furniture            object\n",
       "hoa (R$)              int64\n",
       "rent amount (R$)      int64\n",
       "property tax (R$)     int64\n",
       "dtype: object"
      ]
     },
     "execution_count": 24,
     "metadata": {},
     "output_type": "execute_result"
    }
   ],
   "source": [
    "dados.dtypes"
   ]
  },
  {
   "cell_type": "markdown",
   "id": "fe1d24b9-a4b9-4335-8a57-8c77b8c2d8b5",
   "metadata": {},
   "source": [
    "A coluna floor é categórica como podemos ver na célula anterior, no entando são números que representam os andares, com isso, iremos transformar ela para numérica, pois elas será importante no treinamento do modelo.\n",
    "\n",
    "Iremos fazer coisa similar para a coluna animal e furniture."
   ]
  },
  {
   "cell_type": "code",
   "execution_count": 25,
   "id": "dea513a4-2eb9-4d41-8a18-9c52191a200f",
   "metadata": {},
   "outputs": [],
   "source": [
    "# Transformando a coluna 'floor' para númerico\n",
    "dados['floor'] = pd.to_numeric(dados['floor'])\n",
    "\n",
    "# Transformando as coluna 'animal' que é categorica em númerica, 'acept': 1 e 'not acept': 0\n",
    "dados['animal'] = dados['animal'].map({'acept': 1, 'not acept': 0})\n",
    "\n",
    "# Transformando as coluna 'furniture' que é categorica em númericas, 'furniture': 1 e 'not furniture': 0\n",
    "dados['furniture'] = dados['furniture'].map({'furnished': 1, 'not furnished': 0})"
   ]
  },
  {
   "cell_type": "code",
   "execution_count": 26,
   "id": "c8a8e53a-8890-464f-81fc-1fc3daaacb96",
   "metadata": {},
   "outputs": [
    {
     "data": {
      "text/plain": [
       "city                 object\n",
       "area                  int64\n",
       "rooms                 int64\n",
       "bathroom              int64\n",
       "parking spaces        int64\n",
       "floor                 int64\n",
       "animal                int64\n",
       "furniture             int64\n",
       "hoa (R$)              int64\n",
       "rent amount (R$)      int64\n",
       "property tax (R$)     int64\n",
       "dtype: object"
      ]
     },
     "execution_count": 26,
     "metadata": {},
     "output_type": "execute_result"
    }
   ],
   "source": [
    "dados.dtypes"
   ]
  },
  {
   "cell_type": "markdown",
   "id": "1c3e5895-6512-40c1-8e01-59e290157b4a",
   "metadata": {},
   "source": [
    "### Iremos visualizar gráficamente os dados das colunas numéricas (as que são numéricas originais do dataset 'colunas_numericas')"
   ]
  },
  {
   "cell_type": "code",
   "execution_count": 27,
   "id": "7cf26ff7-276f-4548-bef8-735956b14153",
   "metadata": {},
   "outputs": [
    {
     "data": {
      "image/png": "[encoded data removed]",
      "text/plain": [
       "<Figure size 2000x3000 with 14 Axes>"
      ]
     },
     "metadata": {},
     "output_type": "display_data"
    }
   ],
   "source": [
    "# Grid - gráficos\n",
    "\n",
    "# Tamanho\n",
    "figura, eixo = plt.subplots(figsize=(20, 30))\n",
    "\n",
    "# Cor de fundo\n",
    "cor_fundo = '#f5f5f5'\n",
    "figura.set_facecolor(cor_fundo)\n",
    "\n",
    "# Paleta de cores\n",
    "paleta_cores = sns.color_palette('flare', len(colunas_numericas)*2)\n",
    "\n",
    "# Titulo\n",
    "plt.suptitle('Analíse das variedades numéricas', fontsize=22, color='#404040', fontweight=600)\n",
    "\n",
    "# Estrutura\n",
    "linhas = len(colunas_numericas)  # Todas as informações numéricas\n",
    "colunas = 2  #(boxplot - distplot)\n",
    "posicao = 1  # Posição inicial do grid\n",
    "\n",
    "# For plotar os gráficos\n",
    "for col in colunas_numericas:\n",
    "    # plot no grid -- boxplot\n",
    "    plt.subplot(linhas, colunas, posicao)\n",
    "    \n",
    "    # Plot\n",
    "    plt.title(f'{col}', loc='left', fontsize=14, fontweight=200)\n",
    "    sns.boxplot(data=dados, y=col, showmeans=True, saturation=0.75, linewidth=1, color=paleta_cores[posicao], width=0.25)\n",
    "    \n",
    "    # mudar a posição\n",
    "    posicao += 1\n",
    "    \n",
    "    # plot no grid -- distplot\n",
    "    plt.subplot(linhas, colunas, posicao)\n",
    "    \n",
    "    # Plot\n",
    "    plt.title(f'{col}', loc='left', fontsize=14, fontweight=200)\n",
    "    sns.distplot(dados[col], color=paleta_cores[posicao-1])\n",
    "    \n",
    "    # mudar a posição\n",
    "    posicao += 1\n",
    "    \n",
    "# ajustar os grid\n",
    "plt.subplots_adjust(top=0.95, hspace=0.3)"
   ]
  },
  {
   "cell_type": "markdown",
   "id": "137905e2-15ae-45ad-9c69-5038e244f967",
   "metadata": {},
   "source": [
    "Como podemos observar nos gráficos da esquerdar (boxplot), temos alguns dados que ficaram de fora do área que envolve o gráfico. Não temos certeza ainda, mas podemos está diante de alguns outliers (valores atípico ou resultado que foge da média). Iremos analizar cada um dos casos, e iremos tratar o dado da melhor maneira possível, pois se confirmar ser um outlier e levarmos ele para o tratamento do modelo, podemos ter resultados incoerentes com a realidade."
   ]
  },
  {
   "cell_type": "markdown",
   "id": "22995d06-15fe-4b75-88e4-de31fe433c87",
   "metadata": {},
   "source": [
    "### Area"
   ]
  },
  {
   "cell_type": "code",
   "execution_count": 28,
   "id": "fd3145cc-9ead-4bf8-a178-0a8bd182491e",
   "metadata": {},
   "outputs": [
    {
     "data": {
      "text/plain": [
       "count    10332.000000\n",
       "mean       152.462156\n",
       "std        545.925981\n",
       "min         11.000000\n",
       "25%         59.000000\n",
       "50%         95.000000\n",
       "75%        190.000000\n",
       "max      46335.000000\n",
       "Name: area, dtype: float64"
      ]
     },
     "execution_count": 28,
     "metadata": {},
     "output_type": "execute_result"
    }
   ],
   "source": [
    "dados['area'].describe()"
   ]
  },
  {
   "cell_type": "markdown",
   "id": "41c9a821-9df3-438b-8d1f-b81bb968b5c4",
   "metadata": {},
   "source": [
    "Temos mean = 152.439423, é max = 46335.000000, ou seja, temos valores que fogem muito da média."
   ]
  },
  {
   "cell_type": "code",
   "execution_count": 29,
   "id": "f5bdc221-e4c3-4ccf-b828-9e11386a52c2",
   "metadata": {},
   "outputs": [
    {
     "data": {
      "text/plain": [
       "2397     46335\n",
       "5915     24606\n",
       "9241     12732\n",
       "5129      2000\n",
       "8790      2000\n",
       "654       1600\n",
       "4813      1600\n",
       "3559      1100\n",
       "2423      1020\n",
       "640       1000\n",
       "6615      1000\n",
       "3052      1000\n",
       "10184     1000\n",
       "9857      1000\n",
       "1250      1000\n",
       "2831       999\n",
       "143        999\n",
       "4139       999\n",
       "5877       999\n",
       "2055       998\n",
       "Name: area, dtype: int64"
      ]
     },
     "execution_count": 29,
     "metadata": {},
     "output_type": "execute_result"
    }
   ],
   "source": [
    "dados['area'].sort_values(ascending=False).head(20)"
   ]
  },
  {
   "cell_type": "code",
   "execution_count": 30,
   "id": "17d91d4f-56ef-4048-aa70-b8465f677ee0",
   "metadata": {},
   "outputs": [
    {
     "data": {
      "text/plain": [
       "city                 Belo Horizonte\n",
       "area                          46335\n",
       "rooms                             4\n",
       "bathroom                          8\n",
       "parking spaces                    5\n",
       "floor                            11\n",
       "animal                            1\n",
       "furniture                         1\n",
       "hoa (R$)                        960\n",
       "rent amount (R$)               8500\n",
       "property tax (R$)               646\n",
       "Name: 2397, dtype: object"
      ]
     },
     "execution_count": 30,
     "metadata": {},
     "output_type": "execute_result"
    }
   ],
   "source": [
    "# Analisando individualmente as aréa que fogem muito da média, que também pode ser visto no gráfico\n",
    "\n",
    "dados.loc[2397]"
   ]
  },
  {
   "cell_type": "markdown",
   "id": "7a43ebf5-2080-4dd2-ba3f-c9dd9cd3df68",
   "metadata": {},
   "source": [
    "Como podemos ver, temos um imovém de 4 quartos, 8 banheiros, 5 vagas  e foi computado uma area de 46335, não parece um dado coerente com a realidade."
   ]
  },
  {
   "cell_type": "code",
   "execution_count": 31,
   "id": "26173bbd-22c3-4911-a5a6-dd3d26a30f6b",
   "metadata": {},
   "outputs": [
    {
     "data": {
      "text/plain": [
       "city                 Campinas\n",
       "area                    12732\n",
       "rooms                       3\n",
       "bathroom                    2\n",
       "parking spaces              0\n",
       "floor                       3\n",
       "animal                      1\n",
       "furniture                   0\n",
       "hoa (R$)                  700\n",
       "rent amount (R$)         1600\n",
       "property tax (R$)          96\n",
       "Name: 9241, dtype: object"
      ]
     },
     "execution_count": 31,
     "metadata": {},
     "output_type": "execute_result"
    }
   ],
   "source": [
    "# Outro teste\n",
    "\n",
    "dados.loc[9241]"
   ]
  },
  {
   "cell_type": "markdown",
   "id": "02ac406b-4449-433a-b269-052c124c96c6",
   "metadata": {},
   "source": [
    "Novamente temos uma área muito grande para os cômodos que o imóvel apresenta."
   ]
  },
  {
   "cell_type": "markdown",
   "id": "e0b16347-b323-4c90-88bd-f3f8ca5b32c1",
   "metadata": {},
   "source": [
    "#### Substituiremos os imovéis com area >= 1000 pela média dos dados"
   ]
  },
  {
   "cell_type": "code",
   "execution_count": 32,
   "id": "904d06a7-97da-4db5-82fe-c310c82e6216",
   "metadata": {},
   "outputs": [
    {
     "data": {
      "text/plain": [
       "count    10317.000000\n",
       "mean       143.088689\n",
       "std        129.150726\n",
       "min         11.000000\n",
       "25%         59.000000\n",
       "50%         94.000000\n",
       "75%        190.000000\n",
       "max        999.000000\n",
       "Name: area, dtype: float64"
      ]
     },
     "execution_count": 32,
     "metadata": {},
     "output_type": "execute_result"
    }
   ],
   "source": [
    "dados.loc[dados['area'] < 1000]['area'].describe()"
   ]
  },
  {
   "cell_type": "code",
   "execution_count": 33,
   "id": "2062ef6c-77ac-4b6c-8296-6ef5d32ea10d",
   "metadata": {},
   "outputs": [
    {
     "data": {
      "text/plain": [
       "count       15.000000\n",
       "mean      6599.533333\n",
       "std      12768.695206\n",
       "min       1000.000000\n",
       "25%       1000.000000\n",
       "50%       1100.000000\n",
       "75%       2000.000000\n",
       "max      46335.000000\n",
       "Name: area, dtype: float64"
      ]
     },
     "execution_count": 33,
     "metadata": {},
     "output_type": "execute_result"
    }
   ],
   "source": [
    "dados.loc[dados['area'] >= 1000]['area'].describe()"
   ]
  },
  {
   "cell_type": "code",
   "execution_count": 34,
   "id": "b72c697c-3884-4f64-a9d7-3c8b60e733b5",
   "metadata": {},
   "outputs": [],
   "source": [
    "# Substituindo registros de area >= 1000 pela média\n",
    "dados['area'] = dados['area'].apply(lambda registro: int(dados['area'].mean()) if registro >= 1000 else int(registro))"
   ]
  },
  {
   "cell_type": "code",
   "execution_count": 35,
   "id": "92eeb913-94db-4b69-aa59-c45f8c25a7e2",
   "metadata": {},
   "outputs": [
    {
     "data": {
      "text/html": [
       "<div>\n",
       "<style scoped>\n",
       "    .dataframe tbody tr th:only-of-type {\n",
       "        vertical-align: middle;\n",
       "    }\n",
       "\n",
       "    .dataframe tbody tr th {\n",
       "        vertical-align: top;\n",
       "    }\n",
       "\n",
       "    .dataframe thead th {\n",
       "        text-align: right;\n",
       "    }\n",
       "</style>\n",
       "<table border=\"1\" class=\"dataframe\">\n",
       "  <thead>\n",
       "    <tr style=\"text-align: right;\">\n",
       "      <th></th>\n",
       "      <th>city</th>\n",
       "      <th>area</th>\n",
       "      <th>rooms</th>\n",
       "      <th>bathroom</th>\n",
       "      <th>parking spaces</th>\n",
       "      <th>floor</th>\n",
       "      <th>animal</th>\n",
       "      <th>furniture</th>\n",
       "      <th>hoa (R$)</th>\n",
       "      <th>rent amount (R$)</th>\n",
       "      <th>property tax (R$)</th>\n",
       "    </tr>\n",
       "  </thead>\n",
       "  <tbody>\n",
       "    <tr>\n",
       "      <th>0</th>\n",
       "      <td>São Paulo</td>\n",
       "      <td>70</td>\n",
       "      <td>2</td>\n",
       "      <td>1</td>\n",
       "      <td>1</td>\n",
       "      <td>7</td>\n",
       "      <td>1</td>\n",
       "      <td>1</td>\n",
       "      <td>2065</td>\n",
       "      <td>3300</td>\n",
       "      <td>211</td>\n",
       "    </tr>\n",
       "    <tr>\n",
       "      <th>1</th>\n",
       "      <td>São Paulo</td>\n",
       "      <td>320</td>\n",
       "      <td>4</td>\n",
       "      <td>4</td>\n",
       "      <td>0</td>\n",
       "      <td>20</td>\n",
       "      <td>1</td>\n",
       "      <td>0</td>\n",
       "      <td>1200</td>\n",
       "      <td>4960</td>\n",
       "      <td>1750</td>\n",
       "    </tr>\n",
       "    <tr>\n",
       "      <th>2</th>\n",
       "      <td>Porto Alegre</td>\n",
       "      <td>80</td>\n",
       "      <td>1</td>\n",
       "      <td>1</td>\n",
       "      <td>1</td>\n",
       "      <td>6</td>\n",
       "      <td>1</td>\n",
       "      <td>0</td>\n",
       "      <td>1000</td>\n",
       "      <td>2800</td>\n",
       "      <td>0</td>\n",
       "    </tr>\n",
       "    <tr>\n",
       "      <th>3</th>\n",
       "      <td>Porto Alegre</td>\n",
       "      <td>51</td>\n",
       "      <td>2</td>\n",
       "      <td>1</td>\n",
       "      <td>0</td>\n",
       "      <td>2</td>\n",
       "      <td>1</td>\n",
       "      <td>0</td>\n",
       "      <td>270</td>\n",
       "      <td>1112</td>\n",
       "      <td>22</td>\n",
       "    </tr>\n",
       "    <tr>\n",
       "      <th>4</th>\n",
       "      <td>São Paulo</td>\n",
       "      <td>25</td>\n",
       "      <td>1</td>\n",
       "      <td>1</td>\n",
       "      <td>0</td>\n",
       "      <td>1</td>\n",
       "      <td>0</td>\n",
       "      <td>0</td>\n",
       "      <td>0</td>\n",
       "      <td>800</td>\n",
       "      <td>25</td>\n",
       "    </tr>\n",
       "    <tr>\n",
       "      <th>...</th>\n",
       "      <td>...</td>\n",
       "      <td>...</td>\n",
       "      <td>...</td>\n",
       "      <td>...</td>\n",
       "      <td>...</td>\n",
       "      <td>...</td>\n",
       "      <td>...</td>\n",
       "      <td>...</td>\n",
       "      <td>...</td>\n",
       "      <td>...</td>\n",
       "      <td>...</td>\n",
       "    </tr>\n",
       "    <tr>\n",
       "      <th>10687</th>\n",
       "      <td>Porto Alegre</td>\n",
       "      <td>63</td>\n",
       "      <td>2</td>\n",
       "      <td>1</td>\n",
       "      <td>1</td>\n",
       "      <td>5</td>\n",
       "      <td>0</td>\n",
       "      <td>1</td>\n",
       "      <td>402</td>\n",
       "      <td>1478</td>\n",
       "      <td>24</td>\n",
       "    </tr>\n",
       "    <tr>\n",
       "      <th>10688</th>\n",
       "      <td>São Paulo</td>\n",
       "      <td>285</td>\n",
       "      <td>4</td>\n",
       "      <td>4</td>\n",
       "      <td>4</td>\n",
       "      <td>17</td>\n",
       "      <td>1</td>\n",
       "      <td>0</td>\n",
       "      <td>3100</td>\n",
       "      <td>15000</td>\n",
       "      <td>973</td>\n",
       "    </tr>\n",
       "    <tr>\n",
       "      <th>10689</th>\n",
       "      <td>Rio de Janeiro</td>\n",
       "      <td>70</td>\n",
       "      <td>3</td>\n",
       "      <td>3</td>\n",
       "      <td>0</td>\n",
       "      <td>8</td>\n",
       "      <td>0</td>\n",
       "      <td>1</td>\n",
       "      <td>980</td>\n",
       "      <td>6000</td>\n",
       "      <td>332</td>\n",
       "    </tr>\n",
       "    <tr>\n",
       "      <th>10690</th>\n",
       "      <td>Rio de Janeiro</td>\n",
       "      <td>120</td>\n",
       "      <td>2</td>\n",
       "      <td>2</td>\n",
       "      <td>2</td>\n",
       "      <td>8</td>\n",
       "      <td>1</td>\n",
       "      <td>1</td>\n",
       "      <td>1585</td>\n",
       "      <td>12000</td>\n",
       "      <td>279</td>\n",
       "    </tr>\n",
       "    <tr>\n",
       "      <th>10691</th>\n",
       "      <td>São Paulo</td>\n",
       "      <td>80</td>\n",
       "      <td>2</td>\n",
       "      <td>1</td>\n",
       "      <td>0</td>\n",
       "      <td>0</td>\n",
       "      <td>1</td>\n",
       "      <td>0</td>\n",
       "      <td>0</td>\n",
       "      <td>1400</td>\n",
       "      <td>165</td>\n",
       "    </tr>\n",
       "  </tbody>\n",
       "</table>\n",
       "<p>10332 rows × 11 columns</p>\n",
       "</div>"
      ],
      "text/plain": [
       "                 city  area  rooms  bathroom  parking spaces  floor  animal  \\\n",
       "0           São Paulo    70      2         1               1      7       1   \n",
       "1           São Paulo   320      4         4               0     20       1   \n",
       "2        Porto Alegre    80      1         1               1      6       1   \n",
       "3        Porto Alegre    51      2         1               0      2       1   \n",
       "4           São Paulo    25      1         1               0      1       0   \n",
       "...               ...   ...    ...       ...             ...    ...     ...   \n",
       "10687    Porto Alegre    63      2         1               1      5       0   \n",
       "10688       São Paulo   285      4         4               4     17       1   \n",
       "10689  Rio de Janeiro    70      3         3               0      8       0   \n",
       "10690  Rio de Janeiro   120      2         2               2      8       1   \n",
       "10691       São Paulo    80      2         1               0      0       1   \n",
       "\n",
       "       furniture  hoa (R$)  rent amount (R$)  property tax (R$)  \n",
       "0              1      2065              3300                211  \n",
       "1              0      1200              4960               1750  \n",
       "2              0      1000              2800                  0  \n",
       "3              0       270              1112                 22  \n",
       "4              0         0               800                 25  \n",
       "...          ...       ...               ...                ...  \n",
       "10687          1       402              1478                 24  \n",
       "10688          0      3100             15000                973  \n",
       "10689          1       980              6000                332  \n",
       "10690          1      1585             12000                279  \n",
       "10691          0         0              1400                165  \n",
       "\n",
       "[10332 rows x 11 columns]"
      ]
     },
     "execution_count": 35,
     "metadata": {},
     "output_type": "execute_result"
    }
   ],
   "source": [
    "dados"
   ]
  },
  {
   "cell_type": "markdown",
   "id": "318b9e50-8fdc-404a-ad78-433d6a0375df",
   "metadata": {},
   "source": [
    "### Rooms"
   ]
  },
  {
   "cell_type": "code",
   "execution_count": 36,
   "id": "e5186276-07d7-4a31-9c33-2bf64e18ff88",
   "metadata": {},
   "outputs": [
    {
     "data": {
      "text/plain": [
       "count    10332.000000\n",
       "mean         2.540263\n",
       "std          1.168102\n",
       "min          1.000000\n",
       "25%          2.000000\n",
       "50%          3.000000\n",
       "75%          3.000000\n",
       "max         13.000000\n",
       "Name: rooms, dtype: float64"
      ]
     },
     "execution_count": 36,
     "metadata": {},
     "output_type": "execute_result"
    }
   ],
   "source": [
    "dados['rooms'].describe()"
   ]
  },
  {
   "cell_type": "markdown",
   "id": "878fcc5a-0bac-4564-91bb-1a18132ef268",
   "metadata": {},
   "source": [
    "Por essa descrição e pelo gráfico, apesar de termos pontos de 'outliers', mas são valores possível de quantidade de quartos para um imóvel, iremos permanecer como estão."
   ]
  },
  {
   "cell_type": "markdown",
   "id": "7376c151-d1a7-4c4d-80f1-0bf3fade114d",
   "metadata": {},
   "source": [
    "### Bathroom"
   ]
  },
  {
   "cell_type": "code",
   "execution_count": 37,
   "id": "82eb5049-edd2-4dc7-bd54-a55ae21d7b53",
   "metadata": {},
   "outputs": [
    {
     "data": {
      "text/plain": [
       "count    10332.000000\n",
       "mean         2.268970\n",
       "std          1.414677\n",
       "min          1.000000\n",
       "25%          1.000000\n",
       "50%          2.000000\n",
       "75%          3.000000\n",
       "max         10.000000\n",
       "Name: bathroom, dtype: float64"
      ]
     },
     "execution_count": 37,
     "metadata": {},
     "output_type": "execute_result"
    }
   ],
   "source": [
    "dados['bathroom'].describe()"
   ]
  },
  {
   "cell_type": "markdown",
   "id": "2fa65505-d35a-434c-8b8d-bf2e938632bf",
   "metadata": {},
   "source": [
    "Assim como os quartos, temos dados fora dos extremos do gráficos, mas também é sim possível esse dado ser real. Fato curioso que vemos pelo gráfico boxplot para os banheiros, ele não apresenta o tracinho de mínimo, já começa no primeiro quartil (Q1), ou seja, o mínimo já é o primeiro quartil. Além disso, que o mínimo é 1, ou seja, há pelos menos 1 banheiro em cada imóvel, que era uma informação que todo cliente já espera."
   ]
  },
  {
   "cell_type": "code",
   "execution_count": 38,
   "id": "e1369d53-8235-4c07-b0ef-481cec5d552e",
   "metadata": {},
   "outputs": [
    {
     "data": {
      "text/plain": [
       "count    10332.000000\n",
       "mean         1.644793\n",
       "std          1.598518\n",
       "min          0.000000\n",
       "25%          1.000000\n",
       "50%          1.000000\n",
       "75%          2.000000\n",
       "max         12.000000\n",
       "Name: parking spaces, dtype: float64"
      ]
     },
     "execution_count": 38,
     "metadata": {},
     "output_type": "execute_result"
    }
   ],
   "source": [
    "dados['parking spaces'].describe()"
   ]
  },
  {
   "cell_type": "markdown",
   "id": "df9a6415-4709-4a98-878d-f87fa800c10a",
   "metadata": {},
   "source": [
    "As vagas de garagem são bem semelhantes a análise dos banheiros, não temos dados fora da realidade. Mas diferente dos banheiros, para as vagas podemos ter o caso de zero vagas, que é o que podemos observar, o mínimo zero e o boxplot com o primeiro quartil no zero."
   ]
  },
  {
   "cell_type": "markdown",
   "id": "060f28d3-daf8-4676-b0bc-b28d85a35f65",
   "metadata": {},
   "source": [
    "### Hoa"
   ]
  },
  {
   "cell_type": "code",
   "execution_count": 39,
   "id": "b2d17874-a49e-4927-90be-c7a6e256f42f",
   "metadata": {},
   "outputs": [
    {
     "data": {
      "text/plain": [
       "count    1.033200e+04\n",
       "mean     1.091438e+03\n",
       "std      1.144719e+04\n",
       "min      0.000000e+00\n",
       "25%      1.800000e+02\n",
       "50%      5.710000e+02\n",
       "75%      1.287500e+03\n",
       "max      1.117000e+06\n",
       "Name: hoa (R$), dtype: float64"
      ]
     },
     "execution_count": 39,
     "metadata": {},
     "output_type": "execute_result"
    }
   ],
   "source": [
    "dados['hoa (R$)'].describe()"
   ]
  },
  {
   "cell_type": "markdown",
   "id": "ff8a2013-48bd-4eb1-924d-e2589cf202eb",
   "metadata": {},
   "source": [
    "Podemos observar que temos taxa de condomínio da ordem de milhões, ou seja, valores absurdos."
   ]
  },
  {
   "cell_type": "code",
   "execution_count": 40,
   "id": "a8faa18a-7602-4401-a18a-967786249ae0",
   "metadata": {},
   "outputs": [
    {
     "data": {
      "text/plain": [
       "255      1117000\n",
       "6230      220000\n",
       "2859      200000\n",
       "2928       81150\n",
       "1444       32000\n",
       "1213       15000\n",
       "415        14130\n",
       "5293       14000\n",
       "974        10000\n",
       "8858       10000\n",
       "547         9900\n",
       "7020        9500\n",
       "7679        9000\n",
       "1862        8600\n",
       "6185        8500\n",
       "1072        8500\n",
       "10184       8362\n",
       "254         8300\n",
       "722         8133\n",
       "9706        8043\n",
       "Name: hoa (R$), dtype: int64"
      ]
     },
     "execution_count": 40,
     "metadata": {},
     "output_type": "execute_result"
    }
   ],
   "source": [
    "# taxas de condomínio\n",
    "dados['hoa (R$)'].sort_values(ascending=False).head(20)"
   ]
  },
  {
   "cell_type": "code",
   "execution_count": 41,
   "id": "a291cedd-464a-46c9-9c86-b988ae23baf0",
   "metadata": {},
   "outputs": [
    {
     "data": {
      "text/plain": [
       "city                 Belo Horizonte\n",
       "area                            155\n",
       "rooms                             1\n",
       "bathroom                          4\n",
       "parking spaces                    0\n",
       "floor                             4\n",
       "animal                            0\n",
       "furniture                         0\n",
       "hoa (R$)                    1117000\n",
       "rent amount (R$)               2790\n",
       "property tax (R$)                64\n",
       "Name: 255, dtype: object"
      ]
     },
     "execution_count": 41,
     "metadata": {},
     "output_type": "execute_result"
    }
   ],
   "source": [
    "# Análise individual \n",
    "dados.loc[255]"
   ]
  },
  {
   "cell_type": "markdown",
   "id": "4804b0b9-a29b-4195-9eda-245d19a095c9",
   "metadata": {},
   "source": [
    "Podemos observar que temos um imóvel com 1 quarto, 4 banheiros e sem vagas de estacionamento, com um aluguel de 2790 e a taxa de condomínio de 1117000. Ou seja, temos valores muito discrepantes para a realidade."
   ]
  },
  {
   "cell_type": "code",
   "execution_count": 42,
   "id": "9adf2721-10b5-4201-80a9-4eb1adda10a2",
   "metadata": {},
   "outputs": [
    {
     "data": {
      "text/plain": [
       "city                 São Paulo\n",
       "area                       285\n",
       "rooms                        4\n",
       "bathroom                     5\n",
       "parking spaces               4\n",
       "floor                        6\n",
       "animal                       1\n",
       "furniture                    1\n",
       "hoa (R$)                200000\n",
       "rent amount (R$)         20000\n",
       "property tax (R$)         1834\n",
       "Name: 2859, dtype: object"
      ]
     },
     "execution_count": 42,
     "metadata": {},
     "output_type": "execute_result"
    }
   ],
   "source": [
    "dados.loc[2859]"
   ]
  },
  {
   "cell_type": "code",
   "execution_count": 43,
   "id": "6c07fdfa-eb85-49e8-af70-217911b231ed",
   "metadata": {},
   "outputs": [
    {
     "data": {
      "text/plain": [
       "city                 São Paulo\n",
       "area                       800\n",
       "rooms                        4\n",
       "bathroom                     7\n",
       "parking spaces               8\n",
       "floor                        0\n",
       "animal                       0\n",
       "furniture                    0\n",
       "hoa (R$)                 10000\n",
       "rent amount (R$)          8500\n",
       "property tax (R$)          209\n",
       "Name: 8858, dtype: object"
      ]
     },
     "execution_count": 43,
     "metadata": {},
     "output_type": "execute_result"
    }
   ],
   "source": [
    "dados.loc[8858]"
   ]
  },
  {
   "cell_type": "markdown",
   "id": "46422a6f-d19f-44c8-ae10-f436f2f98751",
   "metadata": {},
   "source": [
    "Levaremos como um valor comum para a taxa de condomínio valores abaixo de 10000, ou seja, iremos substituir os outliers pela média dos dados"
   ]
  },
  {
   "cell_type": "code",
   "execution_count": 44,
   "id": "5625063e-3d8c-4407-9a5c-9a8295423214",
   "metadata": {},
   "outputs": [
    {
     "data": {
      "text/plain": [
       "count    10324.000000\n",
       "mean       928.269566\n",
       "std       1115.635406\n",
       "min          0.000000\n",
       "25%        180.000000\n",
       "50%        570.000000\n",
       "75%       1280.750000\n",
       "max      10000.000000\n",
       "Name: hoa (R$), dtype: float64"
      ]
     },
     "execution_count": 44,
     "metadata": {},
     "output_type": "execute_result"
    }
   ],
   "source": [
    "dados.loc[dados['hoa (R$)'] <= 10000]['hoa (R$)'].describe()"
   ]
  },
  {
   "cell_type": "code",
   "execution_count": 45,
   "id": "3aa759e8-3ad6-4dbc-8465-8d46fca3f2b5",
   "metadata": {},
   "outputs": [
    {
     "data": {
      "text/plain": [
       "count    8.000000e+00\n",
       "mean     2.116600e+05\n",
       "std      3.752940e+05\n",
       "min      1.400000e+04\n",
       "25%      1.478250e+04\n",
       "50%      5.657500e+04\n",
       "75%      2.050000e+05\n",
       "max      1.117000e+06\n",
       "Name: hoa (R$), dtype: float64"
      ]
     },
     "execution_count": 45,
     "metadata": {},
     "output_type": "execute_result"
    }
   ],
   "source": [
    "dados.loc[dados['hoa (R$)'] > 10000]['hoa (R$)'].describe()"
   ]
  },
  {
   "cell_type": "code",
   "execution_count": 46,
   "id": "828cfd97-53af-4ee2-afc8-679fc7f6ecc8",
   "metadata": {},
   "outputs": [],
   "source": [
    "# Substituindo registros de hoa >= 10000 pela média\n",
    "dados['hoa (R$)'] = dados['hoa (R$)'].apply(lambda registro: int(dados['hoa (R$)'].mean()) if registro >= 10000 else int(registro))"
   ]
  },
  {
   "cell_type": "code",
   "execution_count": 47,
   "id": "0d5d0ecd-c465-4452-909e-eb1f80cb0231",
   "metadata": {},
   "outputs": [
    {
     "data": {
      "text/html": [
       "<div>\n",
       "<style scoped>\n",
       "    .dataframe tbody tr th:only-of-type {\n",
       "        vertical-align: middle;\n",
       "    }\n",
       "\n",
       "    .dataframe tbody tr th {\n",
       "        vertical-align: top;\n",
       "    }\n",
       "\n",
       "    .dataframe thead th {\n",
       "        text-align: right;\n",
       "    }\n",
       "</style>\n",
       "<table border=\"1\" class=\"dataframe\">\n",
       "  <thead>\n",
       "    <tr style=\"text-align: right;\">\n",
       "      <th></th>\n",
       "      <th>city</th>\n",
       "      <th>area</th>\n",
       "      <th>rooms</th>\n",
       "      <th>bathroom</th>\n",
       "      <th>parking spaces</th>\n",
       "      <th>floor</th>\n",
       "      <th>animal</th>\n",
       "      <th>furniture</th>\n",
       "      <th>hoa (R$)</th>\n",
       "      <th>rent amount (R$)</th>\n",
       "      <th>property tax (R$)</th>\n",
       "    </tr>\n",
       "  </thead>\n",
       "  <tbody>\n",
       "    <tr>\n",
       "      <th>0</th>\n",
       "      <td>São Paulo</td>\n",
       "      <td>70</td>\n",
       "      <td>2</td>\n",
       "      <td>1</td>\n",
       "      <td>1</td>\n",
       "      <td>7</td>\n",
       "      <td>1</td>\n",
       "      <td>1</td>\n",
       "      <td>2065</td>\n",
       "      <td>3300</td>\n",
       "      <td>211</td>\n",
       "    </tr>\n",
       "    <tr>\n",
       "      <th>1</th>\n",
       "      <td>São Paulo</td>\n",
       "      <td>320</td>\n",
       "      <td>4</td>\n",
       "      <td>4</td>\n",
       "      <td>0</td>\n",
       "      <td>20</td>\n",
       "      <td>1</td>\n",
       "      <td>0</td>\n",
       "      <td>1200</td>\n",
       "      <td>4960</td>\n",
       "      <td>1750</td>\n",
       "    </tr>\n",
       "    <tr>\n",
       "      <th>2</th>\n",
       "      <td>Porto Alegre</td>\n",
       "      <td>80</td>\n",
       "      <td>1</td>\n",
       "      <td>1</td>\n",
       "      <td>1</td>\n",
       "      <td>6</td>\n",
       "      <td>1</td>\n",
       "      <td>0</td>\n",
       "      <td>1000</td>\n",
       "      <td>2800</td>\n",
       "      <td>0</td>\n",
       "    </tr>\n",
       "    <tr>\n",
       "      <th>3</th>\n",
       "      <td>Porto Alegre</td>\n",
       "      <td>51</td>\n",
       "      <td>2</td>\n",
       "      <td>1</td>\n",
       "      <td>0</td>\n",
       "      <td>2</td>\n",
       "      <td>1</td>\n",
       "      <td>0</td>\n",
       "      <td>270</td>\n",
       "      <td>1112</td>\n",
       "      <td>22</td>\n",
       "    </tr>\n",
       "    <tr>\n",
       "      <th>4</th>\n",
       "      <td>São Paulo</td>\n",
       "      <td>25</td>\n",
       "      <td>1</td>\n",
       "      <td>1</td>\n",
       "      <td>0</td>\n",
       "      <td>1</td>\n",
       "      <td>0</td>\n",
       "      <td>0</td>\n",
       "      <td>0</td>\n",
       "      <td>800</td>\n",
       "      <td>25</td>\n",
       "    </tr>\n",
       "    <tr>\n",
       "      <th>...</th>\n",
       "      <td>...</td>\n",
       "      <td>...</td>\n",
       "      <td>...</td>\n",
       "      <td>...</td>\n",
       "      <td>...</td>\n",
       "      <td>...</td>\n",
       "      <td>...</td>\n",
       "      <td>...</td>\n",
       "      <td>...</td>\n",
       "      <td>...</td>\n",
       "      <td>...</td>\n",
       "    </tr>\n",
       "    <tr>\n",
       "      <th>10687</th>\n",
       "      <td>Porto Alegre</td>\n",
       "      <td>63</td>\n",
       "      <td>2</td>\n",
       "      <td>1</td>\n",
       "      <td>1</td>\n",
       "      <td>5</td>\n",
       "      <td>0</td>\n",
       "      <td>1</td>\n",
       "      <td>402</td>\n",
       "      <td>1478</td>\n",
       "      <td>24</td>\n",
       "    </tr>\n",
       "    <tr>\n",
       "      <th>10688</th>\n",
       "      <td>São Paulo</td>\n",
       "      <td>285</td>\n",
       "      <td>4</td>\n",
       "      <td>4</td>\n",
       "      <td>4</td>\n",
       "      <td>17</td>\n",
       "      <td>1</td>\n",
       "      <td>0</td>\n",
       "      <td>3100</td>\n",
       "      <td>15000</td>\n",
       "      <td>973</td>\n",
       "    </tr>\n",
       "    <tr>\n",
       "      <th>10689</th>\n",
       "      <td>Rio de Janeiro</td>\n",
       "      <td>70</td>\n",
       "      <td>3</td>\n",
       "      <td>3</td>\n",
       "      <td>0</td>\n",
       "      <td>8</td>\n",
       "      <td>0</td>\n",
       "      <td>1</td>\n",
       "      <td>980</td>\n",
       "      <td>6000</td>\n",
       "      <td>332</td>\n",
       "    </tr>\n",
       "    <tr>\n",
       "      <th>10690</th>\n",
       "      <td>Rio de Janeiro</td>\n",
       "      <td>120</td>\n",
       "      <td>2</td>\n",
       "      <td>2</td>\n",
       "      <td>2</td>\n",
       "      <td>8</td>\n",
       "      <td>1</td>\n",
       "      <td>1</td>\n",
       "      <td>1585</td>\n",
       "      <td>12000</td>\n",
       "      <td>279</td>\n",
       "    </tr>\n",
       "    <tr>\n",
       "      <th>10691</th>\n",
       "      <td>São Paulo</td>\n",
       "      <td>80</td>\n",
       "      <td>2</td>\n",
       "      <td>1</td>\n",
       "      <td>0</td>\n",
       "      <td>0</td>\n",
       "      <td>1</td>\n",
       "      <td>0</td>\n",
       "      <td>0</td>\n",
       "      <td>1400</td>\n",
       "      <td>165</td>\n",
       "    </tr>\n",
       "  </tbody>\n",
       "</table>\n",
       "<p>10332 rows × 11 columns</p>\n",
       "</div>"
      ],
      "text/plain": [
       "                 city  area  rooms  bathroom  parking spaces  floor  animal  \\\n",
       "0           São Paulo    70      2         1               1      7       1   \n",
       "1           São Paulo   320      4         4               0     20       1   \n",
       "2        Porto Alegre    80      1         1               1      6       1   \n",
       "3        Porto Alegre    51      2         1               0      2       1   \n",
       "4           São Paulo    25      1         1               0      1       0   \n",
       "...               ...   ...    ...       ...             ...    ...     ...   \n",
       "10687    Porto Alegre    63      2         1               1      5       0   \n",
       "10688       São Paulo   285      4         4               4     17       1   \n",
       "10689  Rio de Janeiro    70      3         3               0      8       0   \n",
       "10690  Rio de Janeiro   120      2         2               2      8       1   \n",
       "10691       São Paulo    80      2         1               0      0       1   \n",
       "\n",
       "       furniture  hoa (R$)  rent amount (R$)  property tax (R$)  \n",
       "0              1      2065              3300                211  \n",
       "1              0      1200              4960               1750  \n",
       "2              0      1000              2800                  0  \n",
       "3              0       270              1112                 22  \n",
       "4              0         0               800                 25  \n",
       "...          ...       ...               ...                ...  \n",
       "10687          1       402              1478                 24  \n",
       "10688          0      3100             15000                973  \n",
       "10689          1       980              6000                332  \n",
       "10690          1      1585             12000                279  \n",
       "10691          0         0              1400                165  \n",
       "\n",
       "[10332 rows x 11 columns]"
      ]
     },
     "execution_count": 47,
     "metadata": {},
     "output_type": "execute_result"
    }
   ],
   "source": [
    "dados"
   ]
  },
  {
   "cell_type": "markdown",
   "id": "d58db49d-3e10-4ea0-940f-a85d764c7ee2",
   "metadata": {},
   "source": [
    "### Rent amount"
   ]
  },
  {
   "cell_type": "code",
   "execution_count": 48,
   "id": "34917551-e467-4763-b843-c215256753c7",
   "metadata": {},
   "outputs": [
    {
     "data": {
      "text/plain": [
       "count    10332.000000\n",
       "mean      3966.884727\n",
       "std       3436.261853\n",
       "min        450.000000\n",
       "25%       1599.750000\n",
       "50%       2750.000000\n",
       "75%       5000.000000\n",
       "max      45000.000000\n",
       "Name: rent amount (R$), dtype: float64"
      ]
     },
     "execution_count": 48,
     "metadata": {},
     "output_type": "execute_result"
    }
   ],
   "source": [
    "dados['rent amount (R$)'].describe()"
   ]
  },
  {
   "cell_type": "code",
   "execution_count": 49,
   "id": "bceab0d1-6d68-4f0c-8bd1-6b16a33c3073",
   "metadata": {},
   "outputs": [
    {
     "data": {
      "text/plain": [
       "2182    45000\n",
       "7748    30000\n",
       "6947    25000\n",
       "2619    24000\n",
       "1253    20000\n",
       "157     20000\n",
       "5525    20000\n",
       "2859    20000\n",
       "1743    20000\n",
       "6185    19500\n",
       "2521    19000\n",
       "5741    18000\n",
       "6118    16000\n",
       "9776    15000\n",
       "6246    15000\n",
       "9733    15000\n",
       "6249    15000\n",
       "770     15000\n",
       "923     15000\n",
       "6263    15000\n",
       "Name: rent amount (R$), dtype: int64"
      ]
     },
     "execution_count": 49,
     "metadata": {},
     "output_type": "execute_result"
    }
   ],
   "source": [
    "dados['rent amount (R$)'].sort_values(ascending=False).head(20)"
   ]
  },
  {
   "cell_type": "code",
   "execution_count": 50,
   "id": "0195141e-d962-4b9f-b253-35638567fa52",
   "metadata": {},
   "outputs": [
    {
     "data": {
      "text/plain": [
       "city                 São Paulo\n",
       "area                       700\n",
       "rooms                        4\n",
       "bathroom                     7\n",
       "parking spaces               8\n",
       "floor                        0\n",
       "animal                       1\n",
       "furniture                    0\n",
       "hoa (R$)                     0\n",
       "rent amount (R$)         45000\n",
       "property tax (R$)         8750\n",
       "Name: 2182, dtype: object"
      ]
     },
     "execution_count": 50,
     "metadata": {},
     "output_type": "execute_result"
    }
   ],
   "source": [
    "dados.loc[2182]"
   ]
  },
  {
   "cell_type": "markdown",
   "id": "7cd7eb66-7bff-4324-801b-9db13c0dd7ed",
   "metadata": {},
   "source": [
    "Pelo gráfico essa valor de aluguel de 45000 parece ser um outlier, mas analisando a descrição do imóvel, ele parece coerente com o que é ofertado."
   ]
  },
  {
   "cell_type": "markdown",
   "id": "663b350e-40db-48b5-9fe3-18a4647d87a3",
   "metadata": {},
   "source": [
    "### Property tax (IPTU)"
   ]
  },
  {
   "cell_type": "code",
   "execution_count": 51,
   "id": "ee674e72-5e13-40a1-9c4b-28f125131e77",
   "metadata": {},
   "outputs": [
    {
     "data": {
      "text/plain": [
       "count     10332.000000\n",
       "mean        376.998258\n",
       "std        3160.904180\n",
       "min           0.000000\n",
       "25%          41.000000\n",
       "50%         130.000000\n",
       "75%         390.000000\n",
       "max      313700.000000\n",
       "Name: property tax (R$), dtype: float64"
      ]
     },
     "execution_count": 51,
     "metadata": {},
     "output_type": "execute_result"
    }
   ],
   "source": [
    "dados['property tax (R$)'].describe()"
   ]
  },
  {
   "cell_type": "markdown",
   "id": "e5a019cb-c70e-44c4-97ee-c2b24eee4a4e",
   "metadata": {},
   "source": [
    "O valor máximo, está muito longe da média"
   ]
  },
  {
   "cell_type": "code",
   "execution_count": 52,
   "id": "a7a13afe-d55b-41de-9bfe-f7351befa378",
   "metadata": {},
   "outputs": [
    {
     "data": {
      "text/plain": [
       "6645     313700\n",
       "6243      28120\n",
       "1699      21880\n",
       "10172     12500\n",
       "5331      10830\n",
       "2928       9900\n",
       "19         9500\n",
       "7674       9500\n",
       "8187       8750\n",
       "2182       8750\n",
       "5915       7859\n",
       "7679       5917\n",
       "9765       5834\n",
       "421        5700\n",
       "3494       5500\n",
       "7459       5404\n",
       "10410      5200\n",
       "9595       5160\n",
       "8399       5032\n",
       "4813       5000\n",
       "Name: property tax (R$), dtype: int64"
      ]
     },
     "execution_count": 52,
     "metadata": {},
     "output_type": "execute_result"
    }
   ],
   "source": [
    "dados['property tax (R$)'].sort_values(ascending=False).head(20)"
   ]
  },
  {
   "cell_type": "markdown",
   "id": "1c293bd4-d4a2-4c4b-916c-f36071d8de28",
   "metadata": {},
   "source": [
    "Podemos observar que temos alguns valores bem altos para a taxa de iptu, possivelmente são dados que foram carregados erroneamente da base de dados.\n",
    "\n",
    "Podemos ver também essas discrepâncias nos gráficos apresentados anteriormente."
   ]
  },
  {
   "cell_type": "code",
   "execution_count": 53,
   "id": "961ba0bb-4ce6-4772-b0a4-8ce8e5151aac",
   "metadata": {},
   "outputs": [
    {
     "data": {
      "text/plain": [
       "city                 São Paulo\n",
       "area                        42\n",
       "rooms                        1\n",
       "bathroom                     2\n",
       "parking spaces               1\n",
       "floor                        6\n",
       "animal                       0\n",
       "furniture                    0\n",
       "hoa (R$)                   690\n",
       "rent amount (R$)          2500\n",
       "property tax (R$)       313700\n",
       "Name: 6645, dtype: object"
      ]
     },
     "execution_count": 53,
     "metadata": {},
     "output_type": "execute_result"
    }
   ],
   "source": [
    "# Análise individual\n",
    "dados.loc[6645]"
   ]
  },
  {
   "cell_type": "markdown",
   "id": "f9f202e9-cd40-4ef3-a70c-c26af390f1c2",
   "metadata": {},
   "source": [
    "Como podemos observar nessa entrada temos uma taxa de 313700, sendo que o aluguel do imóvel é de apenas 2500, além do padrão do que o imóvel oferece é bem \"simples\", para ter taxas tão altas."
   ]
  },
  {
   "cell_type": "code",
   "execution_count": 54,
   "id": "38303bbe-a054-4010-b5ac-1d1f84efa136",
   "metadata": {},
   "outputs": [
    {
     "data": {
      "text/plain": [
       "city                 São Paulo\n",
       "area                       300\n",
       "rooms                        4\n",
       "bathroom                     5\n",
       "parking spaces               5\n",
       "floor                        6\n",
       "animal                       0\n",
       "furniture                    0\n",
       "hoa (R$)                  3500\n",
       "rent amount (R$)          1990\n",
       "property tax (R$)        10830\n",
       "Name: 5331, dtype: object"
      ]
     },
     "execution_count": 54,
     "metadata": {},
     "output_type": "execute_result"
    }
   ],
   "source": [
    "dados.loc[5331]"
   ]
  },
  {
   "cell_type": "markdown",
   "id": "320e05ee-e3dd-449a-be0d-0cafe036ff63",
   "metadata": {},
   "source": [
    "Novamente temos uma taxa de IPTU muito além do valor em si do aluguel."
   ]
  },
  {
   "cell_type": "code",
   "execution_count": 55,
   "id": "eacb54f5-8b8e-47f6-9690-50498ae53975",
   "metadata": {},
   "outputs": [],
   "source": [
    "# Iremos padronizar um valor de IPTU de no maximo 10000, valores maiores que isso, seram substituido pela média dos dados\n",
    "dados['property tax (R$)'] = dados['property tax (R$)'].apply(lambda registro: int(dados['property tax (R$)'].mean()) if registro >= 10000 else int(registro))"
   ]
  },
  {
   "cell_type": "code",
   "execution_count": 56,
   "id": "f9eeb26b-0044-4cba-97f5-7d05c8588f28",
   "metadata": {},
   "outputs": [
    {
     "data": {
      "text/html": [
       "<div>\n",
       "<style scoped>\n",
       "    .dataframe tbody tr th:only-of-type {\n",
       "        vertical-align: middle;\n",
       "    }\n",
       "\n",
       "    .dataframe tbody tr th {\n",
       "        vertical-align: top;\n",
       "    }\n",
       "\n",
       "    .dataframe thead th {\n",
       "        text-align: right;\n",
       "    }\n",
       "</style>\n",
       "<table border=\"1\" class=\"dataframe\">\n",
       "  <thead>\n",
       "    <tr style=\"text-align: right;\">\n",
       "      <th></th>\n",
       "      <th>city</th>\n",
       "      <th>area</th>\n",
       "      <th>rooms</th>\n",
       "      <th>bathroom</th>\n",
       "      <th>parking spaces</th>\n",
       "      <th>floor</th>\n",
       "      <th>animal</th>\n",
       "      <th>furniture</th>\n",
       "      <th>hoa (R$)</th>\n",
       "      <th>rent amount (R$)</th>\n",
       "      <th>property tax (R$)</th>\n",
       "    </tr>\n",
       "  </thead>\n",
       "  <tbody>\n",
       "    <tr>\n",
       "      <th>0</th>\n",
       "      <td>São Paulo</td>\n",
       "      <td>70</td>\n",
       "      <td>2</td>\n",
       "      <td>1</td>\n",
       "      <td>1</td>\n",
       "      <td>7</td>\n",
       "      <td>1</td>\n",
       "      <td>1</td>\n",
       "      <td>2065</td>\n",
       "      <td>3300</td>\n",
       "      <td>211</td>\n",
       "    </tr>\n",
       "    <tr>\n",
       "      <th>1</th>\n",
       "      <td>São Paulo</td>\n",
       "      <td>320</td>\n",
       "      <td>4</td>\n",
       "      <td>4</td>\n",
       "      <td>0</td>\n",
       "      <td>20</td>\n",
       "      <td>1</td>\n",
       "      <td>0</td>\n",
       "      <td>1200</td>\n",
       "      <td>4960</td>\n",
       "      <td>1750</td>\n",
       "    </tr>\n",
       "    <tr>\n",
       "      <th>2</th>\n",
       "      <td>Porto Alegre</td>\n",
       "      <td>80</td>\n",
       "      <td>1</td>\n",
       "      <td>1</td>\n",
       "      <td>1</td>\n",
       "      <td>6</td>\n",
       "      <td>1</td>\n",
       "      <td>0</td>\n",
       "      <td>1000</td>\n",
       "      <td>2800</td>\n",
       "      <td>0</td>\n",
       "    </tr>\n",
       "    <tr>\n",
       "      <th>3</th>\n",
       "      <td>Porto Alegre</td>\n",
       "      <td>51</td>\n",
       "      <td>2</td>\n",
       "      <td>1</td>\n",
       "      <td>0</td>\n",
       "      <td>2</td>\n",
       "      <td>1</td>\n",
       "      <td>0</td>\n",
       "      <td>270</td>\n",
       "      <td>1112</td>\n",
       "      <td>22</td>\n",
       "    </tr>\n",
       "    <tr>\n",
       "      <th>4</th>\n",
       "      <td>São Paulo</td>\n",
       "      <td>25</td>\n",
       "      <td>1</td>\n",
       "      <td>1</td>\n",
       "      <td>0</td>\n",
       "      <td>1</td>\n",
       "      <td>0</td>\n",
       "      <td>0</td>\n",
       "      <td>0</td>\n",
       "      <td>800</td>\n",
       "      <td>25</td>\n",
       "    </tr>\n",
       "    <tr>\n",
       "      <th>...</th>\n",
       "      <td>...</td>\n",
       "      <td>...</td>\n",
       "      <td>...</td>\n",
       "      <td>...</td>\n",
       "      <td>...</td>\n",
       "      <td>...</td>\n",
       "      <td>...</td>\n",
       "      <td>...</td>\n",
       "      <td>...</td>\n",
       "      <td>...</td>\n",
       "      <td>...</td>\n",
       "    </tr>\n",
       "    <tr>\n",
       "      <th>10687</th>\n",
       "      <td>Porto Alegre</td>\n",
       "      <td>63</td>\n",
       "      <td>2</td>\n",
       "      <td>1</td>\n",
       "      <td>1</td>\n",
       "      <td>5</td>\n",
       "      <td>0</td>\n",
       "      <td>1</td>\n",
       "      <td>402</td>\n",
       "      <td>1478</td>\n",
       "      <td>24</td>\n",
       "    </tr>\n",
       "    <tr>\n",
       "      <th>10688</th>\n",
       "      <td>São Paulo</td>\n",
       "      <td>285</td>\n",
       "      <td>4</td>\n",
       "      <td>4</td>\n",
       "      <td>4</td>\n",
       "      <td>17</td>\n",
       "      <td>1</td>\n",
       "      <td>0</td>\n",
       "      <td>3100</td>\n",
       "      <td>15000</td>\n",
       "      <td>973</td>\n",
       "    </tr>\n",
       "    <tr>\n",
       "      <th>10689</th>\n",
       "      <td>Rio de Janeiro</td>\n",
       "      <td>70</td>\n",
       "      <td>3</td>\n",
       "      <td>3</td>\n",
       "      <td>0</td>\n",
       "      <td>8</td>\n",
       "      <td>0</td>\n",
       "      <td>1</td>\n",
       "      <td>980</td>\n",
       "      <td>6000</td>\n",
       "      <td>332</td>\n",
       "    </tr>\n",
       "    <tr>\n",
       "      <th>10690</th>\n",
       "      <td>Rio de Janeiro</td>\n",
       "      <td>120</td>\n",
       "      <td>2</td>\n",
       "      <td>2</td>\n",
       "      <td>2</td>\n",
       "      <td>8</td>\n",
       "      <td>1</td>\n",
       "      <td>1</td>\n",
       "      <td>1585</td>\n",
       "      <td>12000</td>\n",
       "      <td>279</td>\n",
       "    </tr>\n",
       "    <tr>\n",
       "      <th>10691</th>\n",
       "      <td>São Paulo</td>\n",
       "      <td>80</td>\n",
       "      <td>2</td>\n",
       "      <td>1</td>\n",
       "      <td>0</td>\n",
       "      <td>0</td>\n",
       "      <td>1</td>\n",
       "      <td>0</td>\n",
       "      <td>0</td>\n",
       "      <td>1400</td>\n",
       "      <td>165</td>\n",
       "    </tr>\n",
       "  </tbody>\n",
       "</table>\n",
       "<p>10332 rows × 11 columns</p>\n",
       "</div>"
      ],
      "text/plain": [
       "                 city  area  rooms  bathroom  parking spaces  floor  animal  \\\n",
       "0           São Paulo    70      2         1               1      7       1   \n",
       "1           São Paulo   320      4         4               0     20       1   \n",
       "2        Porto Alegre    80      1         1               1      6       1   \n",
       "3        Porto Alegre    51      2         1               0      2       1   \n",
       "4           São Paulo    25      1         1               0      1       0   \n",
       "...               ...   ...    ...       ...             ...    ...     ...   \n",
       "10687    Porto Alegre    63      2         1               1      5       0   \n",
       "10688       São Paulo   285      4         4               4     17       1   \n",
       "10689  Rio de Janeiro    70      3         3               0      8       0   \n",
       "10690  Rio de Janeiro   120      2         2               2      8       1   \n",
       "10691       São Paulo    80      2         1               0      0       1   \n",
       "\n",
       "       furniture  hoa (R$)  rent amount (R$)  property tax (R$)  \n",
       "0              1      2065              3300                211  \n",
       "1              0      1200              4960               1750  \n",
       "2              0      1000              2800                  0  \n",
       "3              0       270              1112                 22  \n",
       "4              0         0               800                 25  \n",
       "...          ...       ...               ...                ...  \n",
       "10687          1       402              1478                 24  \n",
       "10688          0      3100             15000                973  \n",
       "10689          1       980              6000                332  \n",
       "10690          1      1585             12000                279  \n",
       "10691          0         0              1400                165  \n",
       "\n",
       "[10332 rows x 11 columns]"
      ]
     },
     "execution_count": 56,
     "metadata": {},
     "output_type": "execute_result"
    }
   ],
   "source": [
    "dados"
   ]
  },
  {
   "cell_type": "markdown",
   "id": "51ad5109-facf-4edc-964c-2515626a43ec",
   "metadata": {},
   "source": [
    "### Visualização das colunas numéricas após a análise indivídual de cada uma e termos feito o tratamento dos pontos de outliers. "
   ]
  },
  {
   "cell_type": "code",
   "execution_count": 57,
   "id": "e958e222-ab70-42a8-9348-3380c13ca096",
   "metadata": {},
   "outputs": [
    {
     "data": {
      "image/png": "[encoded data removed]",
      "text/plain": [
       "<Figure size 2000x3000 with 14 Axes>"
      ]
     },
     "metadata": {},
     "output_type": "display_data"
    }
   ],
   "source": [
    "# Grid - gráficos\n",
    "\n",
    "# Tamanho\n",
    "figura, eixo = plt.subplots(figsize=(20, 30))\n",
    "\n",
    "# Cor de fundo\n",
    "cor_fundo = '#f5f5f5'\n",
    "figura.set_facecolor(cor_fundo)\n",
    "\n",
    "# Paleta de cores\n",
    "paleta_cores = sns.color_palette('flare', len(colunas_numericas)*2)\n",
    "\n",
    "# Titulo\n",
    "plt.suptitle('Analíse das variedades numéricas pós tratamento', fontsize=22, color='#404040', fontweight=600)\n",
    "\n",
    "# Estrutura\n",
    "linhas = len(colunas_numericas)  # Todas as informações numéricas\n",
    "colunas = 2  #(boxplot - distplot)\n",
    "posicao = 1  # Posição inicial do grid\n",
    "\n",
    "# For plotar os gráficos\n",
    "for col in colunas_numericas:\n",
    "    # plot no grid -- boxplot\n",
    "    plt.subplot(linhas, colunas, posicao)\n",
    "    \n",
    "    # Plot\n",
    "    plt.title(f'{col}', loc='left', fontsize=14, fontweight=200)\n",
    "    sns.boxplot(data=dados, y=col, showmeans=True, saturation=0.75, linewidth=1, color=paleta_cores[posicao], width=0.25)\n",
    "    \n",
    "    # mudar a posição\n",
    "    posicao += 1\n",
    "    \n",
    "    # plot no grid -- distplot\n",
    "    plt.subplot(linhas, colunas, posicao)\n",
    "    \n",
    "    # Plot\n",
    "    plt.title(f'{col}', loc='left', fontsize=14, fontweight=200)\n",
    "    sns.distplot(dados[col], color=paleta_cores[posicao-1])\n",
    "    \n",
    "    # mudar a posição\n",
    "    posicao += 1\n",
    "    \n",
    "# ajustar os grid\n",
    "plt.subplots_adjust(top=0.95, hspace=0.3)"
   ]
  },
  {
   "cell_type": "markdown",
   "id": "b0b7ebdc-330a-42b2-8dbc-017c1095f2f7",
   "metadata": {},
   "source": [
    "# Engenharia de features"
   ]
  },
  {
   "cell_type": "markdown",
   "id": "b2874908-e056-4550-b273-4a70b48744b9",
   "metadata": {},
   "source": [
    "Como vimos anteriomente, os imóveis da cidade de São Paulo concentram mais de 50% de dados, com isso, iremos nos concentrar apenas nessa parte de dados para que seja feito o treinamento do modelo."
   ]
  },
  {
   "cell_type": "code",
   "execution_count": 58,
   "id": "d4bdf8bc-eb19-4361-86c7-f3dec4753b0c",
   "metadata": {},
   "outputs": [
    {
     "data": {
      "text/html": [
       "<div>\n",
       "<style scoped>\n",
       "    .dataframe tbody tr th:only-of-type {\n",
       "        vertical-align: middle;\n",
       "    }\n",
       "\n",
       "    .dataframe tbody tr th {\n",
       "        vertical-align: top;\n",
       "    }\n",
       "\n",
       "    .dataframe thead th {\n",
       "        text-align: right;\n",
       "    }\n",
       "</style>\n",
       "<table border=\"1\" class=\"dataframe\">\n",
       "  <thead>\n",
       "    <tr style=\"text-align: right;\">\n",
       "      <th></th>\n",
       "      <th>city</th>\n",
       "      <th>area</th>\n",
       "      <th>rooms</th>\n",
       "      <th>bathroom</th>\n",
       "      <th>parking spaces</th>\n",
       "      <th>floor</th>\n",
       "      <th>animal</th>\n",
       "      <th>furniture</th>\n",
       "      <th>hoa (R$)</th>\n",
       "      <th>rent amount (R$)</th>\n",
       "      <th>property tax (R$)</th>\n",
       "    </tr>\n",
       "  </thead>\n",
       "  <tbody>\n",
       "    <tr>\n",
       "      <th>0</th>\n",
       "      <td>São Paulo</td>\n",
       "      <td>70</td>\n",
       "      <td>2</td>\n",
       "      <td>1</td>\n",
       "      <td>1</td>\n",
       "      <td>7</td>\n",
       "      <td>1</td>\n",
       "      <td>1</td>\n",
       "      <td>2065</td>\n",
       "      <td>3300</td>\n",
       "      <td>211</td>\n",
       "    </tr>\n",
       "    <tr>\n",
       "      <th>1</th>\n",
       "      <td>São Paulo</td>\n",
       "      <td>320</td>\n",
       "      <td>4</td>\n",
       "      <td>4</td>\n",
       "      <td>0</td>\n",
       "      <td>20</td>\n",
       "      <td>1</td>\n",
       "      <td>0</td>\n",
       "      <td>1200</td>\n",
       "      <td>4960</td>\n",
       "      <td>1750</td>\n",
       "    </tr>\n",
       "    <tr>\n",
       "      <th>4</th>\n",
       "      <td>São Paulo</td>\n",
       "      <td>25</td>\n",
       "      <td>1</td>\n",
       "      <td>1</td>\n",
       "      <td>0</td>\n",
       "      <td>1</td>\n",
       "      <td>0</td>\n",
       "      <td>0</td>\n",
       "      <td>0</td>\n",
       "      <td>800</td>\n",
       "      <td>25</td>\n",
       "    </tr>\n",
       "    <tr>\n",
       "      <th>5</th>\n",
       "      <td>São Paulo</td>\n",
       "      <td>376</td>\n",
       "      <td>3</td>\n",
       "      <td>3</td>\n",
       "      <td>7</td>\n",
       "      <td>0</td>\n",
       "      <td>1</td>\n",
       "      <td>0</td>\n",
       "      <td>0</td>\n",
       "      <td>8000</td>\n",
       "      <td>834</td>\n",
       "    </tr>\n",
       "    <tr>\n",
       "      <th>7</th>\n",
       "      <td>São Paulo</td>\n",
       "      <td>213</td>\n",
       "      <td>4</td>\n",
       "      <td>4</td>\n",
       "      <td>4</td>\n",
       "      <td>4</td>\n",
       "      <td>1</td>\n",
       "      <td>0</td>\n",
       "      <td>2254</td>\n",
       "      <td>3223</td>\n",
       "      <td>1735</td>\n",
       "    </tr>\n",
       "    <tr>\n",
       "      <th>...</th>\n",
       "      <td>...</td>\n",
       "      <td>...</td>\n",
       "      <td>...</td>\n",
       "      <td>...</td>\n",
       "      <td>...</td>\n",
       "      <td>...</td>\n",
       "      <td>...</td>\n",
       "      <td>...</td>\n",
       "      <td>...</td>\n",
       "      <td>...</td>\n",
       "      <td>...</td>\n",
       "    </tr>\n",
       "    <tr>\n",
       "      <th>10683</th>\n",
       "      <td>São Paulo</td>\n",
       "      <td>280</td>\n",
       "      <td>4</td>\n",
       "      <td>4</td>\n",
       "      <td>2</td>\n",
       "      <td>5</td>\n",
       "      <td>1</td>\n",
       "      <td>0</td>\n",
       "      <td>4200</td>\n",
       "      <td>4000</td>\n",
       "      <td>1042</td>\n",
       "    </tr>\n",
       "    <tr>\n",
       "      <th>10685</th>\n",
       "      <td>São Paulo</td>\n",
       "      <td>83</td>\n",
       "      <td>3</td>\n",
       "      <td>2</td>\n",
       "      <td>2</td>\n",
       "      <td>11</td>\n",
       "      <td>1</td>\n",
       "      <td>0</td>\n",
       "      <td>888</td>\n",
       "      <td>7521</td>\n",
       "      <td>221</td>\n",
       "    </tr>\n",
       "    <tr>\n",
       "      <th>10686</th>\n",
       "      <td>São Paulo</td>\n",
       "      <td>150</td>\n",
       "      <td>3</td>\n",
       "      <td>3</td>\n",
       "      <td>2</td>\n",
       "      <td>8</td>\n",
       "      <td>0</td>\n",
       "      <td>1</td>\n",
       "      <td>0</td>\n",
       "      <td>13500</td>\n",
       "      <td>0</td>\n",
       "    </tr>\n",
       "    <tr>\n",
       "      <th>10688</th>\n",
       "      <td>São Paulo</td>\n",
       "      <td>285</td>\n",
       "      <td>4</td>\n",
       "      <td>4</td>\n",
       "      <td>4</td>\n",
       "      <td>17</td>\n",
       "      <td>1</td>\n",
       "      <td>0</td>\n",
       "      <td>3100</td>\n",
       "      <td>15000</td>\n",
       "      <td>973</td>\n",
       "    </tr>\n",
       "    <tr>\n",
       "      <th>10691</th>\n",
       "      <td>São Paulo</td>\n",
       "      <td>80</td>\n",
       "      <td>2</td>\n",
       "      <td>1</td>\n",
       "      <td>0</td>\n",
       "      <td>0</td>\n",
       "      <td>1</td>\n",
       "      <td>0</td>\n",
       "      <td>0</td>\n",
       "      <td>1400</td>\n",
       "      <td>165</td>\n",
       "    </tr>\n",
       "  </tbody>\n",
       "</table>\n",
       "<p>5715 rows × 11 columns</p>\n",
       "</div>"
      ],
      "text/plain": [
       "            city  area  rooms  bathroom  parking spaces  floor  animal  \\\n",
       "0      São Paulo    70      2         1               1      7       1   \n",
       "1      São Paulo   320      4         4               0     20       1   \n",
       "4      São Paulo    25      1         1               0      1       0   \n",
       "5      São Paulo   376      3         3               7      0       1   \n",
       "7      São Paulo   213      4         4               4      4       1   \n",
       "...          ...   ...    ...       ...             ...    ...     ...   \n",
       "10683  São Paulo   280      4         4               2      5       1   \n",
       "10685  São Paulo    83      3         2               2     11       1   \n",
       "10686  São Paulo   150      3         3               2      8       0   \n",
       "10688  São Paulo   285      4         4               4     17       1   \n",
       "10691  São Paulo    80      2         1               0      0       1   \n",
       "\n",
       "       furniture  hoa (R$)  rent amount (R$)  property tax (R$)  \n",
       "0              1      2065              3300                211  \n",
       "1              0      1200              4960               1750  \n",
       "4              0         0               800                 25  \n",
       "5              0         0              8000                834  \n",
       "7              0      2254              3223               1735  \n",
       "...          ...       ...               ...                ...  \n",
       "10683          0      4200              4000               1042  \n",
       "10685          0       888              7521                221  \n",
       "10686          1         0             13500                  0  \n",
       "10688          0      3100             15000                973  \n",
       "10691          0         0              1400                165  \n",
       "\n",
       "[5715 rows x 11 columns]"
      ]
     },
     "execution_count": 58,
     "metadata": {},
     "output_type": "execute_result"
    }
   ],
   "source": [
    "# Filtrar os dados para a cidade de São Paulo\n",
    "\n",
    "dados_SP = dados.loc[dados['city'] == 'São Paulo']\n",
    "\n",
    "dados_SP"
   ]
  },
  {
   "cell_type": "code",
   "execution_count": 59,
   "id": "6f9d75f6-651f-41e8-b7a4-f944b8abfd92",
   "metadata": {},
   "outputs": [],
   "source": [
    "# Como a coluna city é apenas São Paulo, ela não é tão interessante, por isso, iremos excluí-la\n",
    "\n",
    "dados_SP.drop(columns=['city'], inplace=True)"
   ]
  },
  {
   "cell_type": "code",
   "execution_count": 60,
   "id": "a781a18e-1a1e-468a-a462-2aa1cc64e143",
   "metadata": {},
   "outputs": [
    {
     "data": {
      "text/html": [
       "<div>\n",
       "<style scoped>\n",
       "    .dataframe tbody tr th:only-of-type {\n",
       "        vertical-align: middle;\n",
       "    }\n",
       "\n",
       "    .dataframe tbody tr th {\n",
       "        vertical-align: top;\n",
       "    }\n",
       "\n",
       "    .dataframe thead th {\n",
       "        text-align: right;\n",
       "    }\n",
       "</style>\n",
       "<table border=\"1\" class=\"dataframe\">\n",
       "  <thead>\n",
       "    <tr style=\"text-align: right;\">\n",
       "      <th></th>\n",
       "      <th>area</th>\n",
       "      <th>rooms</th>\n",
       "      <th>bathroom</th>\n",
       "      <th>parking spaces</th>\n",
       "      <th>floor</th>\n",
       "      <th>animal</th>\n",
       "      <th>furniture</th>\n",
       "      <th>hoa (R$)</th>\n",
       "      <th>rent amount (R$)</th>\n",
       "      <th>property tax (R$)</th>\n",
       "    </tr>\n",
       "  </thead>\n",
       "  <tbody>\n",
       "    <tr>\n",
       "      <th>0</th>\n",
       "      <td>70</td>\n",
       "      <td>2</td>\n",
       "      <td>1</td>\n",
       "      <td>1</td>\n",
       "      <td>7</td>\n",
       "      <td>1</td>\n",
       "      <td>1</td>\n",
       "      <td>2065</td>\n",
       "      <td>3300</td>\n",
       "      <td>211</td>\n",
       "    </tr>\n",
       "    <tr>\n",
       "      <th>1</th>\n",
       "      <td>320</td>\n",
       "      <td>4</td>\n",
       "      <td>4</td>\n",
       "      <td>0</td>\n",
       "      <td>20</td>\n",
       "      <td>1</td>\n",
       "      <td>0</td>\n",
       "      <td>1200</td>\n",
       "      <td>4960</td>\n",
       "      <td>1750</td>\n",
       "    </tr>\n",
       "    <tr>\n",
       "      <th>4</th>\n",
       "      <td>25</td>\n",
       "      <td>1</td>\n",
       "      <td>1</td>\n",
       "      <td>0</td>\n",
       "      <td>1</td>\n",
       "      <td>0</td>\n",
       "      <td>0</td>\n",
       "      <td>0</td>\n",
       "      <td>800</td>\n",
       "      <td>25</td>\n",
       "    </tr>\n",
       "    <tr>\n",
       "      <th>5</th>\n",
       "      <td>376</td>\n",
       "      <td>3</td>\n",
       "      <td>3</td>\n",
       "      <td>7</td>\n",
       "      <td>0</td>\n",
       "      <td>1</td>\n",
       "      <td>0</td>\n",
       "      <td>0</td>\n",
       "      <td>8000</td>\n",
       "      <td>834</td>\n",
       "    </tr>\n",
       "    <tr>\n",
       "      <th>7</th>\n",
       "      <td>213</td>\n",
       "      <td>4</td>\n",
       "      <td>4</td>\n",
       "      <td>4</td>\n",
       "      <td>4</td>\n",
       "      <td>1</td>\n",
       "      <td>0</td>\n",
       "      <td>2254</td>\n",
       "      <td>3223</td>\n",
       "      <td>1735</td>\n",
       "    </tr>\n",
       "    <tr>\n",
       "      <th>...</th>\n",
       "      <td>...</td>\n",
       "      <td>...</td>\n",
       "      <td>...</td>\n",
       "      <td>...</td>\n",
       "      <td>...</td>\n",
       "      <td>...</td>\n",
       "      <td>...</td>\n",
       "      <td>...</td>\n",
       "      <td>...</td>\n",
       "      <td>...</td>\n",
       "    </tr>\n",
       "    <tr>\n",
       "      <th>10683</th>\n",
       "      <td>280</td>\n",
       "      <td>4</td>\n",
       "      <td>4</td>\n",
       "      <td>2</td>\n",
       "      <td>5</td>\n",
       "      <td>1</td>\n",
       "      <td>0</td>\n",
       "      <td>4200</td>\n",
       "      <td>4000</td>\n",
       "      <td>1042</td>\n",
       "    </tr>\n",
       "    <tr>\n",
       "      <th>10685</th>\n",
       "      <td>83</td>\n",
       "      <td>3</td>\n",
       "      <td>2</td>\n",
       "      <td>2</td>\n",
       "      <td>11</td>\n",
       "      <td>1</td>\n",
       "      <td>0</td>\n",
       "      <td>888</td>\n",
       "      <td>7521</td>\n",
       "      <td>221</td>\n",
       "    </tr>\n",
       "    <tr>\n",
       "      <th>10686</th>\n",
       "      <td>150</td>\n",
       "      <td>3</td>\n",
       "      <td>3</td>\n",
       "      <td>2</td>\n",
       "      <td>8</td>\n",
       "      <td>0</td>\n",
       "      <td>1</td>\n",
       "      <td>0</td>\n",
       "      <td>13500</td>\n",
       "      <td>0</td>\n",
       "    </tr>\n",
       "    <tr>\n",
       "      <th>10688</th>\n",
       "      <td>285</td>\n",
       "      <td>4</td>\n",
       "      <td>4</td>\n",
       "      <td>4</td>\n",
       "      <td>17</td>\n",
       "      <td>1</td>\n",
       "      <td>0</td>\n",
       "      <td>3100</td>\n",
       "      <td>15000</td>\n",
       "      <td>973</td>\n",
       "    </tr>\n",
       "    <tr>\n",
       "      <th>10691</th>\n",
       "      <td>80</td>\n",
       "      <td>2</td>\n",
       "      <td>1</td>\n",
       "      <td>0</td>\n",
       "      <td>0</td>\n",
       "      <td>1</td>\n",
       "      <td>0</td>\n",
       "      <td>0</td>\n",
       "      <td>1400</td>\n",
       "      <td>165</td>\n",
       "    </tr>\n",
       "  </tbody>\n",
       "</table>\n",
       "<p>5715 rows × 10 columns</p>\n",
       "</div>"
      ],
      "text/plain": [
       "       area  rooms  bathroom  parking spaces  floor  animal  furniture  \\\n",
       "0        70      2         1               1      7       1          1   \n",
       "1       320      4         4               0     20       1          0   \n",
       "4        25      1         1               0      1       0          0   \n",
       "5       376      3         3               7      0       1          0   \n",
       "7       213      4         4               4      4       1          0   \n",
       "...     ...    ...       ...             ...    ...     ...        ...   \n",
       "10683   280      4         4               2      5       1          0   \n",
       "10685    83      3         2               2     11       1          0   \n",
       "10686   150      3         3               2      8       0          1   \n",
       "10688   285      4         4               4     17       1          0   \n",
       "10691    80      2         1               0      0       1          0   \n",
       "\n",
       "       hoa (R$)  rent amount (R$)  property tax (R$)  \n",
       "0          2065              3300                211  \n",
       "1          1200              4960               1750  \n",
       "4             0               800                 25  \n",
       "5             0              8000                834  \n",
       "7          2254              3223               1735  \n",
       "...         ...               ...                ...  \n",
       "10683      4200              4000               1042  \n",
       "10685       888              7521                221  \n",
       "10686         0             13500                  0  \n",
       "10688      3100             15000                973  \n",
       "10691         0              1400                165  \n",
       "\n",
       "[5715 rows x 10 columns]"
      ]
     },
     "execution_count": 60,
     "metadata": {},
     "output_type": "execute_result"
    }
   ],
   "source": [
    "dados_SP"
   ]
  },
  {
   "cell_type": "markdown",
   "id": "7140f919-85d7-4820-9d01-cc6ce5f9eb90",
   "metadata": {},
   "source": [
    "Com isso, temos um dataframe apenas de variáveis numéricas, ficando assim de acordo com o modelo que iremos utilizar para fazer o treinamento."
   ]
  },
  {
   "cell_type": "code",
   "execution_count": 61,
   "id": "4ad9d64f-f4b8-4c46-8317-fa5f970dcbff",
   "metadata": {},
   "outputs": [],
   "source": [
    "# Separando os dados em duas categórias, os dados que iram ser inputados para treinar o modelo (caracteristicas) e o que vai ser previsto após\n",
    "# o treinamento (previsor)\n",
    "\n",
    "caracteristicas = dados_SP.drop(columns=['rent amount (R$)'])\n",
    "previsor = dados_SP['rent amount (R$)']"
   ]
  },
  {
   "cell_type": "code",
   "execution_count": 62,
   "id": "cc84c946-d336-4e59-8216-ec70bc24d891",
   "metadata": {},
   "outputs": [
    {
     "data": {
      "text/plain": [
       "((5715, 9), (5715,))"
      ]
     },
     "execution_count": 62,
     "metadata": {},
     "output_type": "execute_result"
    }
   ],
   "source": [
    "caracteristicas.shape, previsor.shape"
   ]
  },
  {
   "cell_type": "code",
   "execution_count": 63,
   "id": "566b6bb9-8a4e-45b2-9d21-01fcb01c87c0",
   "metadata": {},
   "outputs": [
    {
     "data": {
      "text/plain": [
       "0    3300\n",
       "1    4960\n",
       "4     800\n",
       "5    8000\n",
       "7    3223\n",
       "Name: rent amount (R$), dtype: int64"
      ]
     },
     "execution_count": 63,
     "metadata": {},
     "output_type": "execute_result"
    }
   ],
   "source": [
    "# Previsor\n",
    "\n",
    "previsor.head()"
   ]
  },
  {
   "cell_type": "code",
   "execution_count": 64,
   "id": "0e6f6ed4-8a68-4d5a-bf8c-9adce9c8840e",
   "metadata": {},
   "outputs": [
    {
     "data": {
      "text/plain": [
       "0    3300\n",
       "1    4960\n",
       "4     800\n",
       "5    8000\n",
       "7    3223\n",
       "Name: rent amount (R$), dtype: int64"
      ]
     },
     "execution_count": 64,
     "metadata": {},
     "output_type": "execute_result"
    }
   ],
   "source": [
    "# Previsor\n",
    "\n",
    "previsor.head()"
   ]
  },
  {
   "cell_type": "code",
   "execution_count": 65,
   "id": "54c7f2e5-642b-4e5b-8231-3913bcf5a73d",
   "metadata": {},
   "outputs": [
    {
     "data": {
      "text/html": [
       "<div>\n",
       "<style scoped>\n",
       "    .dataframe tbody tr th:only-of-type {\n",
       "        vertical-align: middle;\n",
       "    }\n",
       "\n",
       "    .dataframe tbody tr th {\n",
       "        vertical-align: top;\n",
       "    }\n",
       "\n",
       "    .dataframe thead th {\n",
       "        text-align: right;\n",
       "    }\n",
       "</style>\n",
       "<table border=\"1\" class=\"dataframe\">\n",
       "  <thead>\n",
       "    <tr style=\"text-align: right;\">\n",
       "      <th></th>\n",
       "      <th>area</th>\n",
       "      <th>rooms</th>\n",
       "      <th>bathroom</th>\n",
       "      <th>parking spaces</th>\n",
       "      <th>floor</th>\n",
       "      <th>animal</th>\n",
       "      <th>furniture</th>\n",
       "      <th>hoa (R$)</th>\n",
       "      <th>rent amount (R$)</th>\n",
       "      <th>property tax (R$)</th>\n",
       "    </tr>\n",
       "  </thead>\n",
       "  <tbody>\n",
       "    <tr>\n",
       "      <th>area</th>\n",
       "      <td>1.000000</td>\n",
       "      <td>0.710755</td>\n",
       "      <td>0.769833</td>\n",
       "      <td>0.705304</td>\n",
       "      <td>-0.135850</td>\n",
       "      <td>0.165131</td>\n",
       "      <td>-0.026281</td>\n",
       "      <td>0.324042</td>\n",
       "      <td>0.665481</td>\n",
       "      <td>0.683668</td>\n",
       "    </tr>\n",
       "    <tr>\n",
       "      <th>rooms</th>\n",
       "      <td>0.710755</td>\n",
       "      <td>1.000000</td>\n",
       "      <td>0.753321</td>\n",
       "      <td>0.635130</td>\n",
       "      <td>-0.101267</td>\n",
       "      <td>0.208168</td>\n",
       "      <td>-0.085639</td>\n",
       "      <td>0.317449</td>\n",
       "      <td>0.528598</td>\n",
       "      <td>0.513863</td>\n",
       "    </tr>\n",
       "    <tr>\n",
       "      <th>bathroom</th>\n",
       "      <td>0.769833</td>\n",
       "      <td>0.753321</td>\n",
       "      <td>1.000000</td>\n",
       "      <td>0.697213</td>\n",
       "      <td>-0.021844</td>\n",
       "      <td>0.154941</td>\n",
       "      <td>0.010387</td>\n",
       "      <td>0.422914</td>\n",
       "      <td>0.633769</td>\n",
       "      <td>0.615103</td>\n",
       "    </tr>\n",
       "    <tr>\n",
       "      <th>parking spaces</th>\n",
       "      <td>0.705304</td>\n",
       "      <td>0.635130</td>\n",
       "      <td>0.697213</td>\n",
       "      <td>1.000000</td>\n",
       "      <td>-0.047820</td>\n",
       "      <td>0.160003</td>\n",
       "      <td>-0.012657</td>\n",
       "      <td>0.310423</td>\n",
       "      <td>0.565778</td>\n",
       "      <td>0.573838</td>\n",
       "    </tr>\n",
       "    <tr>\n",
       "      <th>floor</th>\n",
       "      <td>-0.135850</td>\n",
       "      <td>-0.101267</td>\n",
       "      <td>-0.021844</td>\n",
       "      <td>-0.047820</td>\n",
       "      <td>1.000000</td>\n",
       "      <td>-0.030507</td>\n",
       "      <td>0.147735</td>\n",
       "      <td>0.345931</td>\n",
       "      <td>0.062930</td>\n",
       "      <td>0.032089</td>\n",
       "    </tr>\n",
       "    <tr>\n",
       "      <th>animal</th>\n",
       "      <td>0.165131</td>\n",
       "      <td>0.208168</td>\n",
       "      <td>0.154941</td>\n",
       "      <td>0.160003</td>\n",
       "      <td>-0.030507</td>\n",
       "      <td>1.000000</td>\n",
       "      <td>-0.069969</td>\n",
       "      <td>0.038275</td>\n",
       "      <td>0.102140</td>\n",
       "      <td>0.102427</td>\n",
       "    </tr>\n",
       "    <tr>\n",
       "      <th>furniture</th>\n",
       "      <td>-0.026281</td>\n",
       "      <td>-0.085639</td>\n",
       "      <td>0.010387</td>\n",
       "      <td>-0.012657</td>\n",
       "      <td>0.147735</td>\n",
       "      <td>-0.069969</td>\n",
       "      <td>1.000000</td>\n",
       "      <td>0.109348</td>\n",
       "      <td>0.157229</td>\n",
       "      <td>0.004826</td>\n",
       "    </tr>\n",
       "    <tr>\n",
       "      <th>hoa (R$)</th>\n",
       "      <td>0.324042</td>\n",
       "      <td>0.317449</td>\n",
       "      <td>0.422914</td>\n",
       "      <td>0.310423</td>\n",
       "      <td>0.345931</td>\n",
       "      <td>0.038275</td>\n",
       "      <td>0.109348</td>\n",
       "      <td>1.000000</td>\n",
       "      <td>0.412356</td>\n",
       "      <td>0.491891</td>\n",
       "    </tr>\n",
       "    <tr>\n",
       "      <th>rent amount (R$)</th>\n",
       "      <td>0.665481</td>\n",
       "      <td>0.528598</td>\n",
       "      <td>0.633769</td>\n",
       "      <td>0.565778</td>\n",
       "      <td>0.062930</td>\n",
       "      <td>0.102140</td>\n",
       "      <td>0.157229</td>\n",
       "      <td>0.412356</td>\n",
       "      <td>1.000000</td>\n",
       "      <td>0.581829</td>\n",
       "    </tr>\n",
       "    <tr>\n",
       "      <th>property tax (R$)</th>\n",
       "      <td>0.683668</td>\n",
       "      <td>0.513863</td>\n",
       "      <td>0.615103</td>\n",
       "      <td>0.573838</td>\n",
       "      <td>0.032089</td>\n",
       "      <td>0.102427</td>\n",
       "      <td>0.004826</td>\n",
       "      <td>0.491891</td>\n",
       "      <td>0.581829</td>\n",
       "      <td>1.000000</td>\n",
       "    </tr>\n",
       "  </tbody>\n",
       "</table>\n",
       "</div>"
      ],
      "text/plain": [
       "                       area     rooms  bathroom  parking spaces     floor  \\\n",
       "area               1.000000  0.710755  0.769833        0.705304 -0.135850   \n",
       "rooms              0.710755  1.000000  0.753321        0.635130 -0.101267   \n",
       "bathroom           0.769833  0.753321  1.000000        0.697213 -0.021844   \n",
       "parking spaces     0.705304  0.635130  0.697213        1.000000 -0.047820   \n",
       "floor             -0.135850 -0.101267 -0.021844       -0.047820  1.000000   \n",
       "animal             0.165131  0.208168  0.154941        0.160003 -0.030507   \n",
       "furniture         -0.026281 -0.085639  0.010387       -0.012657  0.147735   \n",
       "hoa (R$)           0.324042  0.317449  0.422914        0.310423  0.345931   \n",
       "rent amount (R$)   0.665481  0.528598  0.633769        0.565778  0.062930   \n",
       "property tax (R$)  0.683668  0.513863  0.615103        0.573838  0.032089   \n",
       "\n",
       "                     animal  furniture  hoa (R$)  rent amount (R$)  \\\n",
       "area               0.165131  -0.026281  0.324042          0.665481   \n",
       "rooms              0.208168  -0.085639  0.317449          0.528598   \n",
       "bathroom           0.154941   0.010387  0.422914          0.633769   \n",
       "parking spaces     0.160003  -0.012657  0.310423          0.565778   \n",
       "floor             -0.030507   0.147735  0.345931          0.062930   \n",
       "animal             1.000000  -0.069969  0.038275          0.102140   \n",
       "furniture         -0.069969   1.000000  0.109348          0.157229   \n",
       "hoa (R$)           0.038275   0.109348  1.000000          0.412356   \n",
       "rent amount (R$)   0.102140   0.157229  0.412356          1.000000   \n",
       "property tax (R$)  0.102427   0.004826  0.491891          0.581829   \n",
       "\n",
       "                   property tax (R$)  \n",
       "area                        0.683668  \n",
       "rooms                       0.513863  \n",
       "bathroom                    0.615103  \n",
       "parking spaces              0.573838  \n",
       "floor                       0.032089  \n",
       "animal                      0.102427  \n",
       "furniture                   0.004826  \n",
       "hoa (R$)                    0.491891  \n",
       "rent amount (R$)            0.581829  \n",
       "property tax (R$)           1.000000  "
      ]
     },
     "execution_count": 65,
     "metadata": {},
     "output_type": "execute_result"
    }
   ],
   "source": [
    "# Analisando a correlação entre cada coluna de cados\n",
    "\n",
    "dados_SP.corr()"
   ]
  },
  {
   "cell_type": "code",
   "execution_count": 66,
   "id": "6964b260-3b7b-440b-8c54-798825dfd361",
   "metadata": {},
   "outputs": [
    {
     "data": {
      "image/png": "[encoded data removed]",
      "text/plain": [
       "<Figure size 800x550 with 2 Axes>"
      ]
     },
     "metadata": {},
     "output_type": "display_data"
    }
   ],
   "source": [
    "# Analisando a correlação gráficamente utilizando a lib 'yellowbrick'\n",
    "\n",
    "from yellowbrick.features import Rank2D\n",
    "\n",
    "# Definir o modelo\n",
    "correlacao = Rank2D(algorithm='pearson')\n",
    "\n",
    "# filtrar a função\n",
    "correlacao.fit(caracteristicas, previsor)\n",
    "correlacao.transform(caracteristicas)\n",
    "correlacao.show();"
   ]
  },
  {
   "cell_type": "markdown",
   "id": "aef80f38-ab56-4892-915e-a24f99e9ebbf",
   "metadata": {},
   "source": [
    "Podemos observar que as variáveis área, quartos, banheiros e vagas de garagem têm grande contribuição para o preço do aluguel. Onde podemos dizer que já era um resultado esperado, pois sabemos que as pessoas levam muito em conta esses detalhes quando se procura um imóvel, sua estrutura."
   ]
  },
  {
   "cell_type": "markdown",
   "id": "b31c78a6-4764-4538-b00a-1ebd6a76a0ae",
   "metadata": {},
   "source": [
    "#### Separando os dados em dados de treino e teste"
   ]
  },
  {
   "cell_type": "code",
   "execution_count": 67,
   "id": "663a6508-b49f-47ec-9a80-1f724c8529b1",
   "metadata": {},
   "outputs": [],
   "source": [
    "# Sepatando os dados em treindo e teste\n",
    "from sklearn.model_selection import train_test_split\n",
    "\n",
    "# Divisão dos dados\n",
    "x_treino, x_teste, y_treino, y_teste = train_test_split(caracteristicas, previsor, test_size=0.20, random_state=10)"
   ]
  },
  {
   "cell_type": "code",
   "execution_count": 68,
   "id": "0dfcd06c-0acd-4c66-8465-eb9d03a3a370",
   "metadata": {},
   "outputs": [
    {
     "name": "stdout",
     "output_type": "stream",
     "text": [
      "Dados de treino: 4572\n",
      "Dados de treino: 1143\n"
     ]
    }
   ],
   "source": [
    "print(f'Dados de treino: {x_treino.shape[0]}')\n",
    "print(f'Dados de treino: {x_teste.shape[0]}')"
   ]
  },
  {
   "cell_type": "code",
   "execution_count": 69,
   "id": "c337c731-7437-4c10-b393-92b26b9a2471",
   "metadata": {},
   "outputs": [],
   "source": [
    "# Analisado quais features são mais relevantes para o nosso modelo\n",
    "# Features mais relevantes (Caso tenha alguma feature que tenha peso 0, podemos retirar do modelo)\n",
    "from sklearn.feature_selection import mutual_info_regression, SelectKBest"
   ]
  },
  {
   "cell_type": "code",
   "execution_count": 70,
   "id": "3200e0f3-b73e-4bd6-ae2c-881c0b6b5528",
   "metadata": {},
   "outputs": [
    {
     "name": "stdout",
     "output_type": "stream",
     "text": [
      "area: 0.3062371263679413\n",
      "rooms: 0.24179713350577625\n",
      "bathroom: 0.3066409708617188\n",
      "parking spaces: 0.20617875654081397\n",
      "floor: 0.04130616085817573\n",
      "animal: 0.008907517914649166\n",
      "furniture: 0.03292518413248935\n",
      "hoa (R$): 0.1448932938649845\n",
      "property tax (R$): 0.16041228161066545\n"
     ]
    }
   ],
   "source": [
    "# A função (mutal_info) faz uma análise de quais features tem uma relação maior com a nossa variável que queremos prever (valor de aluguel)\n",
    "\n",
    "# Seleção de features\n",
    "def selecao_features(x_treino, y_treino):\n",
    "    \n",
    "    # Configurar para selecionar as features\n",
    "    selecao = SelectKBest(score_func=mutual_info_regression, k='all')\n",
    "    \n",
    "    # Filtrar o aprendizado\n",
    "    selecao.fit(x_treino, y_treino)\n",
    "    \n",
    "    return selecao\n",
    "\n",
    "# Aplicar a função\n",
    "scores = selecao_features(x_treino, y_treino)\n",
    "\n",
    "# Analisar\n",
    "for posicao, score in enumerate(scores.scores_):\n",
    "    print(f'{x_treino.columns[posicao]}: {score}')"
   ]
  },
  {
   "cell_type": "markdown",
   "id": "5e69f610-caa0-40ce-acca-07d7611e6964",
   "metadata": {},
   "source": [
    "Quanto maior o valor do score, maior a relação com o valor da variável que queremos prever.\n",
    "\n",
    "Como já tinhamos visto no gráfico de correlação (feito com a biblioteca yellowbrick), a área, o número de quarto, de banheiro e de vagas para estacionamento são os maiores valores, ou seja, são as variáveis que contribuem mais com  a variável valor do aluguel."
   ]
  },
  {
   "cell_type": "markdown",
   "id": "b8876ff9-d32c-445e-8e51-a9df8d14e44c",
   "metadata": {},
   "source": [
    "# Construção do modelo"
   ]
  },
  {
   "cell_type": "markdown",
   "id": "0252bc0c-d147-4291-b08b-892eb7ac7468",
   "metadata": {},
   "source": [
    "### Utilizaremos o Modelo Random Forest Regresson"
   ]
  },
  {
   "cell_type": "code",
   "execution_count": 71,
   "id": "c3870bad-d8a0-41c2-aade-424498602f1a",
   "metadata": {},
   "outputs": [
    {
     "data": {
      "text/html": [
       "<style>#sk-container-id-1 {color: black;background-color: white;}#sk-container-id-1 pre{padding: 0;}#sk-container-id-1 div.sk-toggleable {background-color: white;}#sk-container-id-1 label.sk-toggleable__label {cursor: pointer;display: block;width: 100%;margin-bottom: 0;padding: 0.3em;box-sizing: border-box;text-align: center;}#sk-container-id-1 label.sk-toggleable__label-arrow:before {content: \"▸\";float: left;margin-right: 0.25em;color: #696969;}#sk-container-id-1 label.sk-toggleable__label-arrow:hover:before {color: black;}#sk-container-id-1 div.sk-estimator:hover label.sk-toggleable__label-arrow:before {color: black;}#sk-container-id-1 div.sk-toggleable__content {max-height: 0;max-width: 0;overflow: hidden;text-align: left;background-color: #f0f8ff;}#sk-container-id-1 div.sk-toggleable__content pre {margin: 0.2em;color: black;border-radius: 0.25em;background-color: #f0f8ff;}#sk-container-id-1 input.sk-toggleable__control:checked~div.sk-toggleable__content {max-height: 200px;max-width: 100%;overflow: auto;}#sk-container-id-1 input.sk-toggleable__control:checked~label.sk-toggleable__label-arrow:before {content: \"▾\";}#sk-container-id-1 div.sk-estimator input.sk-toggleable__control:checked~label.sk-toggleable__label {background-color: #d4ebff;}#sk-container-id-1 div.sk-label input.sk-toggleable__control:checked~label.sk-toggleable__label {background-color: #d4ebff;}#sk-container-id-1 input.sk-hidden--visually {border: 0;clip: rect(1px 1px 1px 1px);clip: rect(1px, 1px, 1px, 1px);height: 1px;margin: -1px;overflow: hidden;padding: 0;position: absolute;width: 1px;}#sk-container-id-1 div.sk-estimator {font-family: monospace;background-color: #f0f8ff;border: 1px dotted black;border-radius: 0.25em;box-sizing: border-box;margin-bottom: 0.5em;}#sk-container-id-1 div.sk-estimator:hover {background-color: #d4ebff;}#sk-container-id-1 div.sk-parallel-item::after {content: \"\";width: 100%;border-bottom: 1px solid gray;flex-grow: 1;}#sk-container-id-1 div.sk-label:hover label.sk-toggleable__label {background-color: #d4ebff;}#sk-container-id-1 div.sk-serial::before {content: \"\";position: absolute;border-left: 1px solid gray;box-sizing: border-box;top: 0;bottom: 0;left: 50%;z-index: 0;}#sk-container-id-1 div.sk-serial {display: flex;flex-direction: column;align-items: center;background-color: white;padding-right: 0.2em;padding-left: 0.2em;position: relative;}#sk-container-id-1 div.sk-item {position: relative;z-index: 1;}#sk-container-id-1 div.sk-parallel {display: flex;align-items: stretch;justify-content: center;background-color: white;position: relative;}#sk-container-id-1 div.sk-item::before, #sk-container-id-1 div.sk-parallel-item::before {content: \"\";position: absolute;border-left: 1px solid gray;box-sizing: border-box;top: 0;bottom: 0;left: 50%;z-index: -1;}#sk-container-id-1 div.sk-parallel-item {display: flex;flex-direction: column;z-index: 1;position: relative;background-color: white;}#sk-container-id-1 div.sk-parallel-item:first-child::after {align-self: flex-end;width: 50%;}#sk-container-id-1 div.sk-parallel-item:last-child::after {align-self: flex-start;width: 50%;}#sk-container-id-1 div.sk-parallel-item:only-child::after {width: 0;}#sk-container-id-1 div.sk-dashed-wrapped {border: 1px dashed gray;margin: 0 0.4em 0.5em 0.4em;box-sizing: border-box;padding-bottom: 0.4em;background-color: white;}#sk-container-id-1 div.sk-label label {font-family: monospace;font-weight: bold;display: inline-block;line-height: 1.2em;}#sk-container-id-1 div.sk-label-container {text-align: center;}#sk-container-id-1 div.sk-container {/* jupyter's `normalize.less` sets `[hidden] { display: none; }` but bootstrap.min.css set `[hidden] { display: none !important; }` so we also need the `!important` here to be able to override the default hidden behavior on the sphinx rendered scikit-learn.org. See: https://github.com/scikit-learn/scikit-learn/issues/21755 */display: inline-block !important;position: relative;}#sk-container-id-1 div.sk-text-repr-fallback {display: none;}</style><div id=\"sk-container-id-1\" class=\"sk-top-container\"><div class=\"sk-text-repr-fallback\"><pre>RandomForestRegressor(max_depth=7)</pre><b>In a Jupyter environment, please rerun this cell to show the HTML representation or trust the notebook. <br />On GitHub, the HTML representation is unable to render, please try loading this page with nbviewer.org.</b></div><div class=\"sk-container\" hidden><div class=\"sk-item\"><div class=\"sk-estimator sk-toggleable\"><input class=\"sk-toggleable__control sk-hidden--visually\" id=\"sk-estimator-id-1\" type=\"checkbox\" checked><label for=\"sk-estimator-id-1\" class=\"sk-toggleable__label sk-toggleable__label-arrow\">RandomForestRegressor</label><div class=\"sk-toggleable__content\"><pre>RandomForestRegressor(max_depth=7)</pre></div></div></div></div></div>"
      ],
      "text/plain": [
       "RandomForestRegressor(max_depth=7)"
      ]
     },
     "execution_count": 71,
     "metadata": {},
     "output_type": "execute_result"
    }
   ],
   "source": [
    "# Modelo Random Forest Regresson\n",
    "from sklearn.ensemble import RandomForestRegressor\n",
    "\n",
    "# Instânciando o modelo\n",
    "modelo_floresta = RandomForestRegressor(max_depth=7)\n",
    "\n",
    "# Fitar o modelo\n",
    "modelo_floresta.fit(x_treino, y_treino)"
   ]
  },
  {
   "cell_type": "markdown",
   "id": "d3f25561-d07a-45b1-ab26-2227776c22a1",
   "metadata": {},
   "source": [
    "### Avaliando a perfomace do modelo"
   ]
  },
  {
   "cell_type": "code",
   "execution_count": 72,
   "id": "d80eb5a8-5655-4aa8-8b5f-b918dbc19f61",
   "metadata": {},
   "outputs": [
    {
     "name": "stdout",
     "output_type": "stream",
     "text": [
      "RMSE: 2356.7280815079607\n",
      "Score: 0.5962638221125205\n"
     ]
    }
   ],
   "source": [
    "# Avaliar a perfomace\n",
    "previsores = modelo_floresta.predict(x_teste)\n",
    "\n",
    "# Função para avaliar\n",
    "from sklearn.metrics import mean_squared_error, r2_score\n",
    "from math import sqrt\n",
    "\n",
    "# Avaliando o modelo (Erro na precisão)\n",
    "print(f'RMSE: {sqrt(mean_squared_error(y_teste, previsores))}')\n",
    "\n",
    "print(f'Score: {r2_score(y_teste, previsores)}')"
   ]
  },
  {
   "cell_type": "markdown",
   "id": "01fedbcc-c327-4af6-9a6d-9aebb4a02557",
   "metadata": {},
   "source": [
    "Se notarmos os nossos resultados não são muitos satisfatórios, pois temos um erro muito grande e nosso modelo só consegue explicar em quese 60% os nossos dados. Mesmo tratando partes dos dados que eram outliers, ainda não foi suficiente para um bom desempenho do molelo."
   ]
  },
  {
   "cell_type": "markdown",
   "id": "77320588-aae4-4712-b486-c9038f29b14b",
   "metadata": {},
   "source": [
    "### Avaliando a perfomace do modelo utilizadado a lib Yellowbrick"
   ]
  },
  {
   "cell_type": "code",
   "execution_count": 73,
   "id": "e441318e-8961-4540-8aff-d1b83a32305d",
   "metadata": {},
   "outputs": [
    {
     "data": {
      "image/png": "[encoded data removed]",
      "text/plain": [
       "<Figure size 800x550 with 1 Axes>"
      ]
     },
     "metadata": {},
     "output_type": "display_data"
    }
   ],
   "source": [
    "# Avaliando o modelo usando Yellowbrick\n",
    "from yellowbrick.regressor import PredictionError\n",
    "\n",
    "# Instanciando o modelo\n",
    "modelo = RandomForestRegressor(max_depth=7)\n",
    "erro_modelo = PredictionError(modelo)\n",
    "\n",
    "# Fitar\n",
    "erro_modelo.fit(x_treino, y_treino)\n",
    "erro_modelo.score(x_teste, y_teste)\n",
    "\n",
    "erro_modelo.show();"
   ]
  },
  {
   "cell_type": "markdown",
   "id": "6435ae9c-b10b-4ecf-a6ac-6b6fae4f6182",
   "metadata": {},
   "source": [
    "# Exportação (construindo a infraestutura da API)"
   ]
  },
  {
   "cell_type": "code",
   "execution_count": 74,
   "id": "516f38cf-f063-4357-8130-35fda0f47306",
   "metadata": {},
   "outputs": [
    {
     "data": {
      "text/plain": [
       "['modelo_floresta_aleatorio_v100.pkl']"
      ]
     },
     "execution_count": 74,
     "metadata": {},
     "output_type": "execute_result"
    }
   ],
   "source": [
    "# Exportação do modelo\n",
    "import joblib\n",
    "\n",
    "# Função\n",
    "joblib.dump(modelo_floresta, 'modelo_floresta_aleatorio_v100.pkl')"
   ]
  },
  {
   "cell_type": "code",
   "execution_count": 75,
   "id": "8a10aa1e-2d28-4fa5-be2e-398f2921fa8a",
   "metadata": {},
   "outputs": [],
   "source": [
    "# testando o modelo treinado\n",
    "funcao_modelo_carregado = joblib.load('modelo_floresta_aleatorio_v100.pkl')"
   ]
  },
  {
   "cell_type": "code",
   "execution_count": 76,
   "id": "850d26d2-6ef2-4185-a620-2cfd28dd4fa0",
   "metadata": {},
   "outputs": [
    {
     "data": {
      "text/plain": [
       "array([5341.98705057])"
      ]
     },
     "execution_count": 76,
     "metadata": {},
     "output_type": "execute_result"
    }
   ],
   "source": [
    "# Testando\n",
    "funcao_modelo_carregado.predict(x_teste.head(1).values)"
   ]
  },
  {
   "cell_type": "code",
   "execution_count": 77,
   "id": "ef22d830-6050-4d51-99fa-23074a4d22b0",
   "metadata": {},
   "outputs": [
    {
     "data": {
      "text/plain": [
       "array([[ 140,    2,    2,    1,    3,    0,    0, 1882,  190]])"
      ]
     },
     "execution_count": 77,
     "metadata": {},
     "output_type": "execute_result"
    }
   ],
   "source": [
    "x_teste.head(1).values"
   ]
  },
  {
   "cell_type": "code",
   "execution_count": null,
   "id": "acc65cdf-c6d6-4b06-bf86-5d23543160b7",
   "metadata": {},
   "outputs": [],
   "source": []
  }
 ],
 "metadata": {
  "kernelspec": {
   "display_name": "Python 3 (ipykernel)",
   "language": "python",
   "name": "python3"
  },
  "language_info": {
   "codemirror_mode": {
    "name": "ipython",
    "version": 3
   },
   "file_extension": ".py",
   "mimetype": "text/x-python",
   "name": "python",
   "nbconvert_exporter": "python",
   "pygments_lexer": "ipython3",
   "version": "3.8.10"
  }
 },
 "nbformat": 4,
 "nbformat_minor": 5
}
