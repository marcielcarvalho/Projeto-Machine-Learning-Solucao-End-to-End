{
 "cells": [
  {
   "cell_type": "markdown",
   "id": "a47c3b86-5cd9-4bdd-8035-d56ad16695ae",
   "metadata": {},
   "source": [
    "# Nosso sistema de conexão com a API"
   ]
  },
  {
   "cell_type": "code",
   "execution_count": 3,
   "id": "2fb18fe8-e723-476b-8a09-9714cae4c94a",
   "metadata": {},
   "outputs": [],
   "source": [
    "# Conexões\n",
    "import requests"
   ]
  },
  {
   "cell_type": "code",
   "execution_count": 6,
   "id": "59ff16f6-6eb8-4220-90c7-38f61ec1d5a1",
   "metadata": {},
   "outputs": [
    {
     "data": {
      "text/plain": [
       "{'Valor do aluguel': '[5100.12315437]'}"
      ]
     },
     "execution_count": 6,
     "metadata": {},
     "output_type": "execute_result"
    }
   ],
   "source": [
    "# Local da url\n",
    "url = 'http://127.0.0.1:5000/api_preditivo/140;3;2;1;3;0;0;2000;200'\n",
    "\n",
    "# Acessando a conexão\n",
    "consulta = requests.get(url)\n",
    "\n",
    "# Busca a informação\n",
    "resposta = consulta.json()\n",
    "\n",
    "# Devolução\n",
    "resposta"
   ]
  },
  {
   "cell_type": "code",
   "execution_count": null,
   "id": "00527797-1053-43db-a120-80bf34997c82",
   "metadata": {},
   "outputs": [],
   "source": []
  }
 ],
 "metadata": {
  "kernelspec": {
   "display_name": "Python 3 (ipykernel)",
   "language": "python",
   "name": "python3"
  },
  "language_info": {
   "codemirror_mode": {
    "name": "ipython",
    "version": 3
   },
   "file_extension": ".py",
   "mimetype": "text/x-python",
   "name": "python",
   "nbconvert_exporter": "python",
   "pygments_lexer": "ipython3",
   "version": "3.8.10"
  }
 },
 "nbformat": 4,
 "nbformat_minor": 5
}
